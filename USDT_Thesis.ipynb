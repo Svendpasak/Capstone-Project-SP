{
  "nbformat": 4,
  "nbformat_minor": 0,
  "metadata": {
    "colab": {
      "name": "USDT-Thesis.ipynb",
      "provenance": [],
      "collapsed_sections": [],
      "authorship_tag": "ABX9TyNeq3YMkSM/MgP0/RT/GRMi",
      "include_colab_link": true
    },
    "kernelspec": {
      "name": "python3",
      "display_name": "Python 3"
    },
    "language_info": {
      "name": "python"
    }
  },
  "cells": [
    {
      "cell_type": "markdown",
      "metadata": {
        "id": "view-in-github",
        "colab_type": "text"
      },
      "source": [
        "<a href=\"https://colab.research.google.com/github/Svendpasak/Capstone-Project-SP/blob/master/USDT_Thesis.ipynb\" target=\"_parent\"><img src=\"https://colab.research.google.com/assets/colab-badge.svg\" alt=\"Open In Colab\"/></a>"
      ]
    },
    {
      "cell_type": "code",
      "execution_count": null,
      "metadata": {
        "id": "oLyJ0lxWdtni"
      },
      "outputs": [],
      "source": [
        "# Tahap Preprocessing\n",
        "import keras\n",
        "import math\n",
        "import pandas as pd\n",
        "import numpy as np\n",
        "import tensorflow as tf\n",
        "import random as set_random_seed\n",
        "from sklearn.preprocessing import MinMaxScaler\n",
        "from pandas.core.common import random_state\n",
        "from sklearn.model_selection import train_test_split\n",
        "from keras.models import sequential\n",
        "from keras.layers import Dense,LSTM, Dropout\n",
        "import matplotlib.pyplot as plt\n",
        "from tensorflow.keras import layers,Sequential\n",
        "from tensorflow.keras.models import Model\n",
        "from tensorflow.python.keras import Sequential\n",
        "plt.style.use(\"fivethirtyeight\")\n",
        "#import random as set_random_seed"
      ]
    },
    {
      "cell_type": "code",
      "source": [
        "from google.colab import files\n",
        "uploaded = files.upload()"
      ],
      "metadata": {
        "colab": {
          "resources": {
            "http://localhost:8080/nbextensions/google.colab/files.js": {
              "data": "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",
              "ok": true,
              "headers": [
                [
                  "content-type",
                  "application/javascript"
                ]
              ],
              "status": 200,
              "status_text": ""
            }
          },
          "base_uri": "https://localhost:8080/",
          "height": 74
        },
        "id": "LkedfP5ndxOd",
        "outputId": "4b43c3f2-fb8c-4995-ea2c-c941a1ecd29a"
      },
      "execution_count": null,
      "outputs": [
        {
          "output_type": "display_data",
          "data": {
            "text/plain": [
              "<IPython.core.display.HTML object>"
            ],
            "text/html": [
              "\n",
              "     <input type=\"file\" id=\"files-faf7c0a7-1bfa-48b4-a6cb-e14967e4a898\" name=\"files[]\" multiple disabled\n",
              "        style=\"border:none\" />\n",
              "     <output id=\"result-faf7c0a7-1bfa-48b4-a6cb-e14967e4a898\">\n",
              "      Upload widget is only available when the cell has been executed in the\n",
              "      current browser session. Please rerun this cell to enable.\n",
              "      </output>\n",
              "      <script src=\"/nbextensions/google.colab/files.js\"></script> "
            ]
          },
          "metadata": {}
        },
        {
          "output_type": "stream",
          "name": "stdout",
          "text": [
            "Saving ADA-USD.csv to ADA-USD.csv\n"
          ]
        }
      ]
    },
    {
      "cell_type": "code",
      "source": [
        "df = pd.read_csv(\"data set USDT-USD.csv\", index_col=0)\n",
        "df.head(6)"
      ],
      "metadata": {
        "colab": {
          "base_uri": "https://localhost:8080/",
          "height": 269
        },
        "id": "ayZ1Jf8fdxW2",
        "outputId": "89e35a1e-6e5a-49f7-9a8f-52f2953985d4"
      },
      "execution_count": null,
      "outputs": [
        {
          "output_type": "execute_result",
          "data": {
            "text/plain": [
              "               Open     High       Low    Close  Adj Close      Volume\n",
              "Date                                                                  \n",
              "2017-11-09  1.01087  1.01327  0.996515  1.00818    1.00818   358188000\n",
              "2017-11-10  1.00650  1.02423  0.995486  1.00601    1.00601   756446016\n",
              "2017-11-11  1.00598  1.02621  0.995799  1.00899    1.00899   746227968\n",
              "2017-11-12  1.00602  1.10591  0.967601  1.01247    1.01247  1466060032\n",
              "2017-11-13  1.00448  1.02929  0.975103  1.00935    1.00935   767884032\n",
              "2017-11-14  1.00524  1.01343  0.996898  1.00683    1.00683   429857984"
            ],
            "text/html": [
              "\n",
              "  <div id=\"df-7a6af3b6-66df-4f35-afb5-68655d5e744a\">\n",
              "    <div class=\"colab-df-container\">\n",
              "      <div>\n",
              "<style scoped>\n",
              "    .dataframe tbody tr th:only-of-type {\n",
              "        vertical-align: middle;\n",
              "    }\n",
              "\n",
              "    .dataframe tbody tr th {\n",
              "        vertical-align: top;\n",
              "    }\n",
              "\n",
              "    .dataframe thead th {\n",
              "        text-align: right;\n",
              "    }\n",
              "</style>\n",
              "<table border=\"1\" class=\"dataframe\">\n",
              "  <thead>\n",
              "    <tr style=\"text-align: right;\">\n",
              "      <th></th>\n",
              "      <th>Open</th>\n",
              "      <th>High</th>\n",
              "      <th>Low</th>\n",
              "      <th>Close</th>\n",
              "      <th>Adj Close</th>\n",
              "      <th>Volume</th>\n",
              "    </tr>\n",
              "    <tr>\n",
              "      <th>Date</th>\n",
              "      <th></th>\n",
              "      <th></th>\n",
              "      <th></th>\n",
              "      <th></th>\n",
              "      <th></th>\n",
              "      <th></th>\n",
              "    </tr>\n",
              "  </thead>\n",
              "  <tbody>\n",
              "    <tr>\n",
              "      <th>2017-11-09</th>\n",
              "      <td>1.01087</td>\n",
              "      <td>1.01327</td>\n",
              "      <td>0.996515</td>\n",
              "      <td>1.00818</td>\n",
              "      <td>1.00818</td>\n",
              "      <td>358188000</td>\n",
              "    </tr>\n",
              "    <tr>\n",
              "      <th>2017-11-10</th>\n",
              "      <td>1.00650</td>\n",
              "      <td>1.02423</td>\n",
              "      <td>0.995486</td>\n",
              "      <td>1.00601</td>\n",
              "      <td>1.00601</td>\n",
              "      <td>756446016</td>\n",
              "    </tr>\n",
              "    <tr>\n",
              "      <th>2017-11-11</th>\n",
              "      <td>1.00598</td>\n",
              "      <td>1.02621</td>\n",
              "      <td>0.995799</td>\n",
              "      <td>1.00899</td>\n",
              "      <td>1.00899</td>\n",
              "      <td>746227968</td>\n",
              "    </tr>\n",
              "    <tr>\n",
              "      <th>2017-11-12</th>\n",
              "      <td>1.00602</td>\n",
              "      <td>1.10591</td>\n",
              "      <td>0.967601</td>\n",
              "      <td>1.01247</td>\n",
              "      <td>1.01247</td>\n",
              "      <td>1466060032</td>\n",
              "    </tr>\n",
              "    <tr>\n",
              "      <th>2017-11-13</th>\n",
              "      <td>1.00448</td>\n",
              "      <td>1.02929</td>\n",
              "      <td>0.975103</td>\n",
              "      <td>1.00935</td>\n",
              "      <td>1.00935</td>\n",
              "      <td>767884032</td>\n",
              "    </tr>\n",
              "    <tr>\n",
              "      <th>2017-11-14</th>\n",
              "      <td>1.00524</td>\n",
              "      <td>1.01343</td>\n",
              "      <td>0.996898</td>\n",
              "      <td>1.00683</td>\n",
              "      <td>1.00683</td>\n",
              "      <td>429857984</td>\n",
              "    </tr>\n",
              "  </tbody>\n",
              "</table>\n",
              "</div>\n",
              "      <button class=\"colab-df-convert\" onclick=\"convertToInteractive('df-7a6af3b6-66df-4f35-afb5-68655d5e744a')\"\n",
              "              title=\"Convert this dataframe to an interactive table.\"\n",
              "              style=\"display:none;\">\n",
              "        \n",
              "  <svg xmlns=\"http://www.w3.org/2000/svg\" height=\"24px\"viewBox=\"0 0 24 24\"\n",
              "       width=\"24px\">\n",
              "    <path d=\"M0 0h24v24H0V0z\" fill=\"none\"/>\n",
              "    <path d=\"M18.56 5.44l.94 2.06.94-2.06 2.06-.94-2.06-.94-.94-2.06-.94 2.06-2.06.94zm-11 1L8.5 8.5l.94-2.06 2.06-.94-2.06-.94L8.5 2.5l-.94 2.06-2.06.94zm10 10l.94 2.06.94-2.06 2.06-.94-2.06-.94-.94-2.06-.94 2.06-2.06.94z\"/><path d=\"M17.41 7.96l-1.37-1.37c-.4-.4-.92-.59-1.43-.59-.52 0-1.04.2-1.43.59L10.3 9.45l-7.72 7.72c-.78.78-.78 2.05 0 2.83L4 21.41c.39.39.9.59 1.41.59.51 0 1.02-.2 1.41-.59l7.78-7.78 2.81-2.81c.8-.78.8-2.07 0-2.86zM5.41 20L4 18.59l7.72-7.72 1.47 1.35L5.41 20z\"/>\n",
              "  </svg>\n",
              "      </button>\n",
              "      \n",
              "  <style>\n",
              "    .colab-df-container {\n",
              "      display:flex;\n",
              "      flex-wrap:wrap;\n",
              "      gap: 12px;\n",
              "    }\n",
              "\n",
              "    .colab-df-convert {\n",
              "      background-color: #E8F0FE;\n",
              "      border: none;\n",
              "      border-radius: 50%;\n",
              "      cursor: pointer;\n",
              "      display: none;\n",
              "      fill: #1967D2;\n",
              "      height: 32px;\n",
              "      padding: 0 0 0 0;\n",
              "      width: 32px;\n",
              "    }\n",
              "\n",
              "    .colab-df-convert:hover {\n",
              "      background-color: #E2EBFA;\n",
              "      box-shadow: 0px 1px 2px rgba(60, 64, 67, 0.3), 0px 1px 3px 1px rgba(60, 64, 67, 0.15);\n",
              "      fill: #174EA6;\n",
              "    }\n",
              "\n",
              "    [theme=dark] .colab-df-convert {\n",
              "      background-color: #3B4455;\n",
              "      fill: #D2E3FC;\n",
              "    }\n",
              "\n",
              "    [theme=dark] .colab-df-convert:hover {\n",
              "      background-color: #434B5C;\n",
              "      box-shadow: 0px 1px 3px 1px rgba(0, 0, 0, 0.15);\n",
              "      filter: drop-shadow(0px 1px 2px rgba(0, 0, 0, 0.3));\n",
              "      fill: #FFFFFF;\n",
              "    }\n",
              "  </style>\n",
              "\n",
              "      <script>\n",
              "        const buttonEl =\n",
              "          document.querySelector('#df-7a6af3b6-66df-4f35-afb5-68655d5e744a button.colab-df-convert');\n",
              "        buttonEl.style.display =\n",
              "          google.colab.kernel.accessAllowed ? 'block' : 'none';\n",
              "\n",
              "        async function convertToInteractive(key) {\n",
              "          const element = document.querySelector('#df-7a6af3b6-66df-4f35-afb5-68655d5e744a');\n",
              "          const dataTable =\n",
              "            await google.colab.kernel.invokeFunction('convertToInteractive',\n",
              "                                                     [key], {});\n",
              "          if (!dataTable) return;\n",
              "\n",
              "          const docLinkHtml = 'Like what you see? Visit the ' +\n",
              "            '<a target=\"_blank\" href=https://colab.research.google.com/notebooks/data_table.ipynb>data table notebook</a>'\n",
              "            + ' to learn more about interactive tables.';\n",
              "          element.innerHTML = '';\n",
              "          dataTable['output_type'] = 'display_data';\n",
              "          await google.colab.output.renderOutput(dataTable, element);\n",
              "          const docLink = document.createElement('div');\n",
              "          docLink.innerHTML = docLinkHtml;\n",
              "          element.appendChild(docLink);\n",
              "        }\n",
              "      </script>\n",
              "    </div>\n",
              "  </div>\n",
              "  "
            ]
          },
          "metadata": {},
          "execution_count": 68
        }
      ]
    },
    {
      "cell_type": "code",
      "source": [
        "df.shape"
      ],
      "metadata": {
        "colab": {
          "base_uri": "https://localhost:8080/"
        },
        "id": "H7cIjl76dxd7",
        "outputId": "70d2e65d-d3a1-4668-cc18-48d33b6b9179"
      },
      "execution_count": null,
      "outputs": [
        {
          "output_type": "execute_result",
          "data": {
            "text/plain": [
              "(1330, 6)"
            ]
          },
          "metadata": {},
          "execution_count": 69
        }
      ]
    },
    {
      "cell_type": "code",
      "source": [
        "df.info()"
      ],
      "metadata": {
        "colab": {
          "base_uri": "https://localhost:8080/"
        },
        "id": "dL05wX0GdxpV",
        "outputId": "d99b540e-d1db-442d-ca8e-523048972c11"
      },
      "execution_count": null,
      "outputs": [
        {
          "output_type": "stream",
          "name": "stdout",
          "text": [
            "<class 'pandas.core.frame.DataFrame'>\n",
            "Index: 1330 entries, 2017-11-09 to 2021-06-30\n",
            "Data columns (total 6 columns):\n",
            " #   Column     Non-Null Count  Dtype  \n",
            "---  ------     --------------  -----  \n",
            " 0   Open       1330 non-null   float64\n",
            " 1   High       1330 non-null   float64\n",
            " 2   Low        1330 non-null   float64\n",
            " 3   Close      1330 non-null   float64\n",
            " 4   Adj Close  1330 non-null   float64\n",
            " 5   Volume     1330 non-null   int64  \n",
            "dtypes: float64(5), int64(1)\n",
            "memory usage: 72.7+ KB\n"
          ]
        }
      ]
    },
    {
      "cell_type": "code",
      "source": [
        "# Tahap Data Cleaning (Missing Value)\n",
        "ADA = df.fillna(0)\n",
        "ADA.tail()"
      ],
      "metadata": {
        "colab": {
          "base_uri": "https://localhost:8080/",
          "height": 238
        },
        "id": "f_FGSG4ldxuk",
        "outputId": "17c0254b-3ec4-492c-ca5e-d284981f7b48"
      },
      "execution_count": null,
      "outputs": [
        {
          "output_type": "execute_result",
          "data": {
            "text/plain": [
              "                Open      High       Low     Close  Adj Close       Volume\n",
              "Date                                                                      \n",
              "2021-06-26  0.999855  1.001321  0.999686  1.001214   1.001214  60323833680\n",
              "2021-06-27  1.001260  1.002000  1.000524  1.000642   1.000642  53158745469\n",
              "2021-06-28  1.000689  1.000803  0.999883  0.999928   0.999928  56773812735\n",
              "2021-06-29  0.999951  1.000811  0.999901  1.000024   1.000024  64868482234\n",
              "2021-06-30  1.000053  1.000634  0.999706  1.000216   1.000216  62591206838"
            ],
            "text/html": [
              "\n",
              "  <div id=\"df-4c53b674-e25f-4309-a2b8-45aed8e89e16\">\n",
              "    <div class=\"colab-df-container\">\n",
              "      <div>\n",
              "<style scoped>\n",
              "    .dataframe tbody tr th:only-of-type {\n",
              "        vertical-align: middle;\n",
              "    }\n",
              "\n",
              "    .dataframe tbody tr th {\n",
              "        vertical-align: top;\n",
              "    }\n",
              "\n",
              "    .dataframe thead th {\n",
              "        text-align: right;\n",
              "    }\n",
              "</style>\n",
              "<table border=\"1\" class=\"dataframe\">\n",
              "  <thead>\n",
              "    <tr style=\"text-align: right;\">\n",
              "      <th></th>\n",
              "      <th>Open</th>\n",
              "      <th>High</th>\n",
              "      <th>Low</th>\n",
              "      <th>Close</th>\n",
              "      <th>Adj Close</th>\n",
              "      <th>Volume</th>\n",
              "    </tr>\n",
              "    <tr>\n",
              "      <th>Date</th>\n",
              "      <th></th>\n",
              "      <th></th>\n",
              "      <th></th>\n",
              "      <th></th>\n",
              "      <th></th>\n",
              "      <th></th>\n",
              "    </tr>\n",
              "  </thead>\n",
              "  <tbody>\n",
              "    <tr>\n",
              "      <th>2021-06-26</th>\n",
              "      <td>0.999855</td>\n",
              "      <td>1.001321</td>\n",
              "      <td>0.999686</td>\n",
              "      <td>1.001214</td>\n",
              "      <td>1.001214</td>\n",
              "      <td>60323833680</td>\n",
              "    </tr>\n",
              "    <tr>\n",
              "      <th>2021-06-27</th>\n",
              "      <td>1.001260</td>\n",
              "      <td>1.002000</td>\n",
              "      <td>1.000524</td>\n",
              "      <td>1.000642</td>\n",
              "      <td>1.000642</td>\n",
              "      <td>53158745469</td>\n",
              "    </tr>\n",
              "    <tr>\n",
              "      <th>2021-06-28</th>\n",
              "      <td>1.000689</td>\n",
              "      <td>1.000803</td>\n",
              "      <td>0.999883</td>\n",
              "      <td>0.999928</td>\n",
              "      <td>0.999928</td>\n",
              "      <td>56773812735</td>\n",
              "    </tr>\n",
              "    <tr>\n",
              "      <th>2021-06-29</th>\n",
              "      <td>0.999951</td>\n",
              "      <td>1.000811</td>\n",
              "      <td>0.999901</td>\n",
              "      <td>1.000024</td>\n",
              "      <td>1.000024</td>\n",
              "      <td>64868482234</td>\n",
              "    </tr>\n",
              "    <tr>\n",
              "      <th>2021-06-30</th>\n",
              "      <td>1.000053</td>\n",
              "      <td>1.000634</td>\n",
              "      <td>0.999706</td>\n",
              "      <td>1.000216</td>\n",
              "      <td>1.000216</td>\n",
              "      <td>62591206838</td>\n",
              "    </tr>\n",
              "  </tbody>\n",
              "</table>\n",
              "</div>\n",
              "      <button class=\"colab-df-convert\" onclick=\"convertToInteractive('df-4c53b674-e25f-4309-a2b8-45aed8e89e16')\"\n",
              "              title=\"Convert this dataframe to an interactive table.\"\n",
              "              style=\"display:none;\">\n",
              "        \n",
              "  <svg xmlns=\"http://www.w3.org/2000/svg\" height=\"24px\"viewBox=\"0 0 24 24\"\n",
              "       width=\"24px\">\n",
              "    <path d=\"M0 0h24v24H0V0z\" fill=\"none\"/>\n",
              "    <path d=\"M18.56 5.44l.94 2.06.94-2.06 2.06-.94-2.06-.94-.94-2.06-.94 2.06-2.06.94zm-11 1L8.5 8.5l.94-2.06 2.06-.94-2.06-.94L8.5 2.5l-.94 2.06-2.06.94zm10 10l.94 2.06.94-2.06 2.06-.94-2.06-.94-.94-2.06-.94 2.06-2.06.94z\"/><path d=\"M17.41 7.96l-1.37-1.37c-.4-.4-.92-.59-1.43-.59-.52 0-1.04.2-1.43.59L10.3 9.45l-7.72 7.72c-.78.78-.78 2.05 0 2.83L4 21.41c.39.39.9.59 1.41.59.51 0 1.02-.2 1.41-.59l7.78-7.78 2.81-2.81c.8-.78.8-2.07 0-2.86zM5.41 20L4 18.59l7.72-7.72 1.47 1.35L5.41 20z\"/>\n",
              "  </svg>\n",
              "      </button>\n",
              "      \n",
              "  <style>\n",
              "    .colab-df-container {\n",
              "      display:flex;\n",
              "      flex-wrap:wrap;\n",
              "      gap: 12px;\n",
              "    }\n",
              "\n",
              "    .colab-df-convert {\n",
              "      background-color: #E8F0FE;\n",
              "      border: none;\n",
              "      border-radius: 50%;\n",
              "      cursor: pointer;\n",
              "      display: none;\n",
              "      fill: #1967D2;\n",
              "      height: 32px;\n",
              "      padding: 0 0 0 0;\n",
              "      width: 32px;\n",
              "    }\n",
              "\n",
              "    .colab-df-convert:hover {\n",
              "      background-color: #E2EBFA;\n",
              "      box-shadow: 0px 1px 2px rgba(60, 64, 67, 0.3), 0px 1px 3px 1px rgba(60, 64, 67, 0.15);\n",
              "      fill: #174EA6;\n",
              "    }\n",
              "\n",
              "    [theme=dark] .colab-df-convert {\n",
              "      background-color: #3B4455;\n",
              "      fill: #D2E3FC;\n",
              "    }\n",
              "\n",
              "    [theme=dark] .colab-df-convert:hover {\n",
              "      background-color: #434B5C;\n",
              "      box-shadow: 0px 1px 3px 1px rgba(0, 0, 0, 0.15);\n",
              "      filter: drop-shadow(0px 1px 2px rgba(0, 0, 0, 0.3));\n",
              "      fill: #FFFFFF;\n",
              "    }\n",
              "  </style>\n",
              "\n",
              "      <script>\n",
              "        const buttonEl =\n",
              "          document.querySelector('#df-4c53b674-e25f-4309-a2b8-45aed8e89e16 button.colab-df-convert');\n",
              "        buttonEl.style.display =\n",
              "          google.colab.kernel.accessAllowed ? 'block' : 'none';\n",
              "\n",
              "        async function convertToInteractive(key) {\n",
              "          const element = document.querySelector('#df-4c53b674-e25f-4309-a2b8-45aed8e89e16');\n",
              "          const dataTable =\n",
              "            await google.colab.kernel.invokeFunction('convertToInteractive',\n",
              "                                                     [key], {});\n",
              "          if (!dataTable) return;\n",
              "\n",
              "          const docLinkHtml = 'Like what you see? Visit the ' +\n",
              "            '<a target=\"_blank\" href=https://colab.research.google.com/notebooks/data_table.ipynb>data table notebook</a>'\n",
              "            + ' to learn more about interactive tables.';\n",
              "          element.innerHTML = '';\n",
              "          dataTable['output_type'] = 'display_data';\n",
              "          await google.colab.output.renderOutput(dataTable, element);\n",
              "          const docLink = document.createElement('div');\n",
              "          docLink.innerHTML = docLinkHtml;\n",
              "          element.appendChild(docLink);\n",
              "        }\n",
              "      </script>\n",
              "    </div>\n",
              "  </div>\n",
              "  "
            ]
          },
          "metadata": {},
          "execution_count": 71
        }
      ]
    },
    {
      "cell_type": "code",
      "source": [
        "# Pengecekan data Missing Value\n",
        "ADA.isna().sum()"
      ],
      "metadata": {
        "colab": {
          "base_uri": "https://localhost:8080/"
        },
        "id": "yRZVwdeOdxzg",
        "outputId": "cef39581-875e-4285-b158-843cd199a5c2"
      },
      "execution_count": null,
      "outputs": [
        {
          "output_type": "execute_result",
          "data": {
            "text/plain": [
              "Open         0\n",
              "High         0\n",
              "Low          0\n",
              "Close        0\n",
              "Adj Close    0\n",
              "Volume       0\n",
              "dtype: int64"
            ]
          },
          "metadata": {},
          "execution_count": 72
        }
      ]
    },
    {
      "cell_type": "code",
      "source": [
        "# Visualize the Closing Price\n",
        "ADA[\"Close\"].plot(figsize=(18,8))\n",
        "plt.title(\"Cardano Closing Price\", fontsize = 18)\n",
        "plt.ylabel(\"Close Price\", fontsize = 18)"
      ],
      "metadata": {
        "colab": {
          "base_uri": "https://localhost:8080/",
          "height": 575
        },
        "id": "6AyAgdypdx5U",
        "outputId": "c10ba703-dc6f-44f7-9d9b-4bee8a983205"
      },
      "execution_count": null,
      "outputs": [
        {
          "output_type": "execute_result",
          "data": {
            "text/plain": [
              "Text(0, 0.5, 'Close Price')"
            ]
          },
          "metadata": {},
          "execution_count": 73
        },
        {
          "output_type": "display_data",
          "data": {
            "text/plain": [
              "<Figure size 1296x576 with 1 Axes>"
            ],
            "image/png": "[encoded data removed]"
          },
          "metadata": {}
        }
      ]
    },
    {
      "cell_type": "code",
      "source": [
        "# Create a new dataframe with only the \"Close\" cloumn\n",
        "ADA = ADA.filter([\"Close\"])\n",
        "# Convert the dataframe to a numpy array\n",
        "ADA1 = ADA.values\n",
        "# Get the number of Rows to train the model on\n",
        "training_data_len = math.ceil(len(ADA1)*.80)\n",
        "training_data_len"
      ],
      "metadata": {
        "colab": {
          "base_uri": "https://localhost:8080/"
        },
        "id": "7K3VHHgrdx-4",
        "outputId": "269a3f76-d7f1-4c6a-e7be-e3033cbacf51"
      },
      "execution_count": null,
      "outputs": [
        {
          "output_type": "execute_result",
          "data": {
            "text/plain": [
              "1064"
            ]
          },
          "metadata": {},
          "execution_count": 74
        }
      ]
    },
    {
      "cell_type": "code",
      "source": [
        "# Scale the Data for Normalizing\n",
        "from sklearn.preprocessing import MinMaxScaler\n",
        "scaler = MinMaxScaler(feature_range = (0, 1))\n",
        "scaled_data = scaler.fit_transform(ADA1)\n",
        "scaled_data"
      ],
      "metadata": {
        "colab": {
          "base_uri": "https://localhost:8080/"
        },
        "id": "SV8ETOrGdyIe",
        "outputId": "46563b14-074c-4776-f0e8-b7b85712972b"
      },
      "execution_count": null,
      "outputs": [
        {
          "output_type": "execute_result",
          "data": {
            "text/plain": [
              "array([[0.37340429],\n",
              "       [0.35389622],\n",
              "       [0.38068611],\n",
              "       ...,\n",
              "       [0.29921968],\n",
              "       [0.30008271],\n",
              "       [0.30180877]])"
            ]
          },
          "metadata": {},
          "execution_count": 75
        }
      ]
    },
    {
      "cell_type": "code",
      "source": [
        "# Create the training data set\n",
        "# create the scaled training data set\n",
        "train_data = scaled_data[0: training_data_len, :]\n",
        "# Split the Data into x_train and y_train data set\n",
        "x_train = []\n",
        "y_train = []\n",
        "for i in range(30, len(train_data)):\n",
        "    x_train.append(train_data[i-30:i,0])\n",
        "    y_train.append(train_data[i,0])\n",
        "    if i <=  31:\n",
        "        print(x_train)\n",
        "        print(y_train)\n",
        "        print()  "
      ],
      "metadata": {
        "colab": {
          "base_uri": "https://localhost:8080/"
        },
        "id": "cLUKZL9idyOu",
        "outputId": "3ddc1824-e87f-4d4e-d118-dfd742368965"
      },
      "execution_count": null,
      "outputs": [
        {
          "output_type": "stream",
          "name": "stdout",
          "text": [
            "[array([0.37340429, 0.35389622, 0.38068611, 0.41197094, 0.38392247,\n",
            "       0.36126793, 0.32845482, 0.31892553, 0.3123629 , 0.32063361,\n",
            "       0.32180229, 0.31712755, 0.26432989, 0.30121543, 0.2516002 ,\n",
            "       0.32081341, 0.34850228, 0.37789924, 0.31146391, 0.30112553,\n",
            "       0.21541587, 0.3726851 , 0.38778813, 0.29675645, 0.30580028,\n",
            "       0.33285987, 0.31757704, 0.38895681, 0.58448704, 0.45808911])]\n",
            "[0.45386385702470555]\n",
            "\n",
            "[array([0.37340429, 0.35389622, 0.38068611, 0.41197094, 0.38392247,\n",
            "       0.36126793, 0.32845482, 0.31892553, 0.3123629 , 0.32063361,\n",
            "       0.32180229, 0.31712755, 0.26432989, 0.30121543, 0.2516002 ,\n",
            "       0.32081341, 0.34850228, 0.37789924, 0.31146391, 0.30112553,\n",
            "       0.21541587, 0.3726851 , 0.38778813, 0.29675645, 0.30580028,\n",
            "       0.33285987, 0.31757704, 0.38895681, 0.58448704, 0.45808911]), array([0.35389622, 0.38068611, 0.41197094, 0.38392247, 0.36126793,\n",
            "       0.32845482, 0.31892553, 0.3123629 , 0.32063361, 0.32180229,\n",
            "       0.31712755, 0.26432989, 0.30121543, 0.2516002 , 0.32081341,\n",
            "       0.34850228, 0.37789924, 0.31146391, 0.30112553, 0.21541587,\n",
            "       0.3726851 , 0.38778813, 0.29675645, 0.30580028, 0.33285987,\n",
            "       0.31757704, 0.38895681, 0.58448704, 0.45808911, 0.45386386])]\n",
            "[0.45386385702470555, 0.4594375921464273]\n",
            "\n"
          ]
        }
      ]
    },
    {
      "cell_type": "code",
      "source": [
        "# Convert the x_train and y_train to numpy arrays\n",
        "x_train,y_train = np.array(x_train), np.array(y_train)"
      ],
      "metadata": {
        "id": "wvhlq9l9dyVU"
      },
      "execution_count": null,
      "outputs": []
    },
    {
      "cell_type": "code",
      "source": [
        "# Reshape the Data\n",
        "x_train = np.reshape(x_train, (x_train.shape[0], x_train.shape[1],1))\n",
        "x_train.shape"
      ],
      "metadata": {
        "colab": {
          "base_uri": "https://localhost:8080/"
        },
        "id": "r9wd5Yn8dybf",
        "outputId": "2f1997c7-9d95-42ca-c9c8-41197bbd7177"
      },
      "execution_count": null,
      "outputs": [
        {
          "output_type": "execute_result",
          "data": {
            "text/plain": [
              "(1034, 30, 1)"
            ]
          },
          "metadata": {},
          "execution_count": 78
        }
      ]
    },
    {
      "cell_type": "code",
      "source": [
        "# Fitting / Build the Model\n",
        "model = keras.Sequential()\n",
        "model.add(layers.LSTM(50,return_sequences=True, input_shape= (x_train.shape[1],1)))\n",
        "model.add(Dropout(0.2))\n",
        "model.add(layers.LSTM(50,return_sequences=True))\n",
        "model.add(Dropout(0.2))\n",
        "model.add(layers.LSTM(50,return_sequences=True))\n",
        "model.add(Dropout(0.2))\n",
        "model.add(layers.LSTM(50,return_sequences=False))\n",
        "model.add(Dropout(0.2))\n",
        "model.add(layers.Dense(1))"
      ],
      "metadata": {
        "id": "K225aNASdyiJ"
      },
      "execution_count": null,
      "outputs": []
    },
    {
      "cell_type": "code",
      "source": [
        "# Compile the Model\n",
        "model.compile(optimizer=\"adam\", loss=\"mean_squared_error\")"
      ],
      "metadata": {
        "id": "qu0pKagMdypA"
      },
      "execution_count": null,
      "outputs": []
    },
    {
      "cell_type": "code",
      "source": [
        "# Ftting / Train the Model\n",
        "model.fit(x_train, y_train, batch_size = 32, epochs = 100)"
      ],
      "metadata": {
        "colab": {
          "base_uri": "https://localhost:8080/"
        },
        "id": "HzvW8IQUdyw6",
        "outputId": "89789a01-a665-49e7-926e-1551ab513327"
      },
      "execution_count": null,
      "outputs": [
        {
          "output_type": "stream",
          "name": "stdout",
          "text": [
            "Epoch 1/100\n",
            "33/33 [==============================] - 10s 64ms/step - loss: 0.0125\n",
            "Epoch 2/100\n",
            "33/33 [==============================] - 2s 67ms/step - loss: 0.0050\n",
            "Epoch 3/100\n",
            "33/33 [==============================] - 2s 65ms/step - loss: 0.0044\n",
            "Epoch 4/100\n",
            "33/33 [==============================] - 2s 66ms/step - loss: 0.0042\n",
            "Epoch 5/100\n",
            "33/33 [==============================] - 2s 66ms/step - loss: 0.0040\n",
            "Epoch 6/100\n",
            "33/33 [==============================] - 2s 66ms/step - loss: 0.0040\n",
            "Epoch 7/100\n",
            "33/33 [==============================] - 2s 66ms/step - loss: 0.0041\n",
            "Epoch 8/100\n",
            "33/33 [==============================] - 2s 68ms/step - loss: 0.0040\n",
            "Epoch 9/100\n",
            "33/33 [==============================] - 2s 66ms/step - loss: 0.0038\n",
            "Epoch 10/100\n",
            "33/33 [==============================] - 2s 65ms/step - loss: 0.0039\n",
            "Epoch 11/100\n",
            "33/33 [==============================] - 2s 65ms/step - loss: 0.0038\n",
            "Epoch 12/100\n",
            "33/33 [==============================] - 2s 65ms/step - loss: 0.0037\n",
            "Epoch 13/100\n",
            "33/33 [==============================] - 2s 66ms/step - loss: 0.0038\n",
            "Epoch 14/100\n",
            "33/33 [==============================] - 2s 66ms/step - loss: 0.0035\n",
            "Epoch 15/100\n",
            "33/33 [==============================] - 2s 66ms/step - loss: 0.0037\n",
            "Epoch 16/100\n",
            "33/33 [==============================] - 2s 65ms/step - loss: 0.0039\n",
            "Epoch 17/100\n",
            "33/33 [==============================] - 3s 85ms/step - loss: 0.0036\n",
            "Epoch 18/100\n",
            "33/33 [==============================] - 2s 66ms/step - loss: 0.0034\n",
            "Epoch 19/100\n",
            "33/33 [==============================] - 2s 66ms/step - loss: 0.0035\n",
            "Epoch 20/100\n",
            "33/33 [==============================] - 2s 67ms/step - loss: 0.0033\n",
            "Epoch 21/100\n",
            "33/33 [==============================] - 2s 66ms/step - loss: 0.0033\n",
            "Epoch 22/100\n",
            "33/33 [==============================] - 2s 66ms/step - loss: 0.0034\n",
            "Epoch 23/100\n",
            "33/33 [==============================] - 2s 65ms/step - loss: 0.0034\n",
            "Epoch 24/100\n",
            "33/33 [==============================] - 2s 67ms/step - loss: 0.0033\n",
            "Epoch 25/100\n",
            "33/33 [==============================] - 4s 112ms/step - loss: 0.0032\n",
            "Epoch 26/100\n",
            "33/33 [==============================] - 2s 65ms/step - loss: 0.0031\n",
            "Epoch 27/100\n",
            "33/33 [==============================] - 2s 66ms/step - loss: 0.0032\n",
            "Epoch 28/100\n",
            "33/33 [==============================] - 2s 70ms/step - loss: 0.0033\n",
            "Epoch 29/100\n",
            "33/33 [==============================] - 2s 65ms/step - loss: 0.0033\n",
            "Epoch 30/100\n",
            "33/33 [==============================] - 2s 66ms/step - loss: 0.0033\n",
            "Epoch 31/100\n",
            "33/33 [==============================] - 2s 66ms/step - loss: 0.0032\n",
            "Epoch 32/100\n",
            "33/33 [==============================] - 2s 66ms/step - loss: 0.0030\n",
            "Epoch 33/100\n",
            "33/33 [==============================] - 2s 67ms/step - loss: 0.0030\n",
            "Epoch 34/100\n",
            "33/33 [==============================] - 2s 65ms/step - loss: 0.0032\n",
            "Epoch 35/100\n",
            "33/33 [==============================] - 2s 66ms/step - loss: 0.0031\n",
            "Epoch 36/100\n",
            "33/33 [==============================] - 2s 65ms/step - loss: 0.0029\n",
            "Epoch 37/100\n",
            "33/33 [==============================] - 2s 66ms/step - loss: 0.0030\n",
            "Epoch 38/100\n",
            "33/33 [==============================] - 2s 66ms/step - loss: 0.0031\n",
            "Epoch 39/100\n",
            "33/33 [==============================] - 2s 67ms/step - loss: 0.0030\n",
            "Epoch 40/100\n",
            "33/33 [==============================] - 2s 67ms/step - loss: 0.0034\n",
            "Epoch 41/100\n",
            "33/33 [==============================] - 2s 67ms/step - loss: 0.0032\n",
            "Epoch 42/100\n",
            "33/33 [==============================] - 2s 66ms/step - loss: 0.0029\n",
            "Epoch 43/100\n",
            "33/33 [==============================] - 2s 65ms/step - loss: 0.0029\n",
            "Epoch 44/100\n",
            "33/33 [==============================] - 2s 65ms/step - loss: 0.0034\n",
            "Epoch 45/100\n",
            "33/33 [==============================] - 3s 87ms/step - loss: 0.0029\n",
            "Epoch 46/100\n",
            "33/33 [==============================] - 2s 67ms/step - loss: 0.0029\n",
            "Epoch 47/100\n",
            "33/33 [==============================] - 2s 66ms/step - loss: 0.0028\n",
            "Epoch 48/100\n",
            "33/33 [==============================] - 2s 66ms/step - loss: 0.0027\n",
            "Epoch 49/100\n",
            "33/33 [==============================] - 2s 66ms/step - loss: 0.0028\n",
            "Epoch 50/100\n",
            "33/33 [==============================] - 2s 66ms/step - loss: 0.0027\n",
            "Epoch 51/100\n",
            "33/33 [==============================] - 2s 66ms/step - loss: 0.0027\n",
            "Epoch 52/100\n",
            "33/33 [==============================] - 2s 66ms/step - loss: 0.0027\n",
            "Epoch 53/100\n",
            "33/33 [==============================] - 3s 87ms/step - loss: 0.0029\n",
            "Epoch 54/100\n",
            "33/33 [==============================] - 3s 84ms/step - loss: 0.0028\n",
            "Epoch 55/100\n",
            "33/33 [==============================] - 2s 67ms/step - loss: 0.0027\n",
            "Epoch 56/100\n",
            "33/33 [==============================] - 2s 66ms/step - loss: 0.0027\n",
            "Epoch 57/100\n",
            "33/33 [==============================] - 2s 66ms/step - loss: 0.0026\n",
            "Epoch 58/100\n",
            "33/33 [==============================] - 2s 66ms/step - loss: 0.0027\n",
            "Epoch 59/100\n",
            "33/33 [==============================] - 2s 67ms/step - loss: 0.0026\n",
            "Epoch 60/100\n",
            "33/33 [==============================] - 2s 65ms/step - loss: 0.0027\n",
            "Epoch 61/100\n",
            "33/33 [==============================] - 2s 68ms/step - loss: 0.0026\n",
            "Epoch 62/100\n",
            "33/33 [==============================] - 2s 66ms/step - loss: 0.0027\n",
            "Epoch 63/100\n",
            "33/33 [==============================] - 2s 67ms/step - loss: 0.0025\n",
            "Epoch 64/100\n",
            "33/33 [==============================] - 2s 66ms/step - loss: 0.0026\n",
            "Epoch 65/100\n",
            "33/33 [==============================] - 2s 65ms/step - loss: 0.0026\n",
            "Epoch 66/100\n",
            "33/33 [==============================] - 2s 68ms/step - loss: 0.0026\n",
            "Epoch 67/100\n",
            "33/33 [==============================] - 2s 66ms/step - loss: 0.0025\n",
            "Epoch 68/100\n",
            "33/33 [==============================] - 2s 66ms/step - loss: 0.0027\n",
            "Epoch 69/100\n",
            "33/33 [==============================] - 2s 66ms/step - loss: 0.0025\n",
            "Epoch 70/100\n",
            "33/33 [==============================] - 2s 66ms/step - loss: 0.0026\n",
            "Epoch 71/100\n",
            "33/33 [==============================] - 2s 65ms/step - loss: 0.0026\n",
            "Epoch 72/100\n",
            "33/33 [==============================] - 2s 66ms/step - loss: 0.0026\n",
            "Epoch 73/100\n",
            "33/33 [==============================] - 2s 67ms/step - loss: 0.0025\n",
            "Epoch 74/100\n",
            "33/33 [==============================] - 2s 66ms/step - loss: 0.0024\n",
            "Epoch 75/100\n",
            "33/33 [==============================] - 2s 66ms/step - loss: 0.0026\n",
            "Epoch 76/100\n",
            "33/33 [==============================] - 2s 66ms/step - loss: 0.0024\n",
            "Epoch 77/100\n",
            "33/33 [==============================] - 2s 65ms/step - loss: 0.0025\n",
            "Epoch 78/100\n",
            "33/33 [==============================] - 2s 68ms/step - loss: 0.0024\n",
            "Epoch 79/100\n",
            "33/33 [==============================] - 2s 66ms/step - loss: 0.0023\n",
            "Epoch 80/100\n",
            "33/33 [==============================] - 2s 66ms/step - loss: 0.0025\n",
            "Epoch 81/100\n",
            "33/33 [==============================] - 2s 67ms/step - loss: 0.0025\n",
            "Epoch 82/100\n",
            "33/33 [==============================] - 2s 66ms/step - loss: 0.0025\n",
            "Epoch 83/100\n",
            "33/33 [==============================] - 2s 67ms/step - loss: 0.0023\n",
            "Epoch 84/100\n",
            "33/33 [==============================] - 2s 66ms/step - loss: 0.0023\n",
            "Epoch 85/100\n",
            "33/33 [==============================] - 2s 66ms/step - loss: 0.0024\n",
            "Epoch 86/100\n",
            "33/33 [==============================] - 2s 65ms/step - loss: 0.0023\n",
            "Epoch 87/100\n",
            "33/33 [==============================] - 2s 66ms/step - loss: 0.0024\n",
            "Epoch 88/100\n",
            "33/33 [==============================] - 2s 67ms/step - loss: 0.0024\n",
            "Epoch 89/100\n",
            "33/33 [==============================] - 2s 67ms/step - loss: 0.0024\n",
            "Epoch 90/100\n",
            "33/33 [==============================] - 2s 67ms/step - loss: 0.0022\n",
            "Epoch 91/100\n",
            "33/33 [==============================] - 2s 67ms/step - loss: 0.0024\n",
            "Epoch 92/100\n",
            "33/33 [==============================] - 2s 67ms/step - loss: 0.0024\n",
            "Epoch 93/100\n",
            "33/33 [==============================] - 3s 86ms/step - loss: 0.0024\n",
            "Epoch 94/100\n",
            "33/33 [==============================] - 2s 67ms/step - loss: 0.0023\n",
            "Epoch 95/100\n",
            "33/33 [==============================] - 2s 67ms/step - loss: 0.0022\n",
            "Epoch 96/100\n",
            "33/33 [==============================] - 2s 68ms/step - loss: 0.0023\n",
            "Epoch 97/100\n",
            "33/33 [==============================] - 2s 67ms/step - loss: 0.0023\n",
            "Epoch 98/100\n",
            "33/33 [==============================] - 2s 69ms/step - loss: 0.0023\n",
            "Epoch 99/100\n",
            "33/33 [==============================] - 2s 67ms/step - loss: 0.0023\n",
            "Epoch 100/100\n",
            "33/33 [==============================] - 2s 67ms/step - loss: 0.0023\n"
          ]
        },
        {
          "output_type": "execute_result",
          "data": {
            "text/plain": [
              "<keras.callbacks.History at 0x7fc1c52e4110>"
            ]
          },
          "metadata": {},
          "execution_count": 81
        }
      ]
    },
    {
      "cell_type": "code",
      "source": [
        "# Create the testing data set\n",
        "# Create a new array containing scale values from index .... to the end of data set\n",
        "test_data = scaled_data[training_data_len-30:,:]"
      ],
      "metadata": {
        "id": "Ps0hjvb4dy3s"
      },
      "execution_count": null,
      "outputs": []
    },
    {
      "cell_type": "code",
      "source": [
        "# Created the data set x_test and y_test\n",
        "x_test = []\n",
        "y_test = ADA1[training_data_len:,:]#---rest of the data\n",
        "for i in range(30, len(test_data)):\n",
        "    x_test.append(test_data[i-30:i,0])"
      ],
      "metadata": {
        "id": "tYGqlmF1dy-l"
      },
      "execution_count": null,
      "outputs": []
    },
    {
      "cell_type": "code",
      "source": [
        "# Convert the Data to a numpy array\n",
        "x_test = np.array(x_test)"
      ],
      "metadata": {
        "id": "jjMts8KcdzFB"
      },
      "execution_count": null,
      "outputs": []
    },
    {
      "cell_type": "code",
      "source": [
        "# Reshape the Data\n",
        "x_test = np.reshape(x_test, (x_test.shape[0], x_test.shape[1],1))"
      ],
      "metadata": {
        "id": "cWCkmmp3dzod"
      },
      "execution_count": null,
      "outputs": []
    },
    {
      "cell_type": "code",
      "source": [
        "# Get the model predicted price values / Denormalize\n",
        "predictions = model.predict(x_test)\n",
        "predictions = scaler.inverse_transform(predictions)"
      ],
      "metadata": {
        "id": "Qfa8WTY5dzuR"
      },
      "execution_count": null,
      "outputs": []
    },
    {
      "cell_type": "code",
      "source": [
        "from sklearn.metrics import mean_absolute_percentage_error\n",
        "MAPE = mean_absolute_percentage_error(y_test, predictions)*100\n",
        "print(MAPE)"
      ],
      "metadata": {
        "colab": {
          "base_uri": "https://localhost:8080/"
        },
        "id": "mmnK6jdSdz0M",
        "outputId": "31eaaf0f-f038-4543-c1e9-7c6aa8e4f407"
      },
      "execution_count": null,
      "outputs": [
        {
          "output_type": "stream",
          "name": "stdout",
          "text": [
            "0.05297020886586805\n"
          ]
        }
      ]
    },
    {
      "cell_type": "code",
      "source": [
        "# Plot the Data\n",
        "train =ADA[:training_data_len]\n",
        "valid =ADA[training_data_len:]\n",
        "valid[\"predictions\"] = predictions"
      ],
      "metadata": {
        "colab": {
          "base_uri": "https://localhost:8080/"
        },
        "id": "Rq4OWyp_dz5_",
        "outputId": "9d902470-003f-44a0-fa57-f8fc17a0d9ef"
      },
      "execution_count": null,
      "outputs": [
        {
          "output_type": "stream",
          "name": "stderr",
          "text": [
            "/usr/local/lib/python3.7/dist-packages/ipykernel_launcher.py:4: SettingWithCopyWarning: \n",
            "A value is trying to be set on a copy of a slice from a DataFrame.\n",
            "Try using .loc[row_indexer,col_indexer] = value instead\n",
            "\n",
            "See the caveats in the documentation: https://pandas.pydata.org/pandas-docs/stable/user_guide/indexing.html#returning-a-view-versus-a-copy\n",
            "  after removing the cwd from sys.path.\n"
          ]
        }
      ]
    },
    {
      "cell_type": "code",
      "source": [
        "# Visualize the Data\n",
        "plt.figure(figsize=(16,8))\n",
        "plt.title(\"Prediction model of Cardano Closing Price\", fontsize=18)\n",
        "plt.xlabel(\"Date\",fontsize = 18)\n",
        "plt.ylabel(\"Close Price\", fontsize = 18)\n",
        "plt.plot(train[\"Close\"])\n",
        "plt.plot(valid[[\"Close\",\"predictions\"]])\n",
        "plt.legend([\"Train\",\"Valid\",\"predictions\"],loc=\"lower right\")\n",
        "plt.grid()\n",
        "plt.show()"
      ],
      "metadata": {
        "colab": {
          "base_uri": "https://localhost:8080/",
          "height": 557
        },
        "id": "93Tdw197gSAz",
        "outputId": "f6708f78-893e-44f4-ee59-c31d11c5ccf1"
      },
      "execution_count": null,
      "outputs": [
        {
          "output_type": "display_data",
          "data": {
            "text/plain": [
              "<Figure size 1152x576 with 1 Axes>"
            ],
            "image/png": "[encoded data removed]"
          },
          "metadata": {}
        }
      ]
    },
    {
      "cell_type": "code",
      "source": [
        "#Show The Valid and Predicted Prices\n",
        "valid[[\"Close\" , \"predictions\"]]"
      ],
      "metadata": {
        "colab": {
          "base_uri": "https://localhost:8080/",
          "height": 455
        },
        "id": "UyUuhNYtdz_z",
        "outputId": "ab9405f1-e6eb-433f-8f73-07228adb900f"
      },
      "execution_count": null,
      "outputs": [
        {
          "output_type": "execute_result",
          "data": {
            "text/plain": [
              "               Close  predictions\n",
              "Date                             \n",
              "2020-10-08  1.001252     1.000711\n",
              "2020-10-09  1.001180     1.000862\n",
              "2020-10-10  1.000884     1.000947\n",
              "2020-10-11  1.000734     1.000893\n",
              "2020-10-12  1.001302     1.000801\n",
              "...              ...          ...\n",
              "2021-06-26  1.001214     1.000344\n",
              "2021-06-27  1.000642     1.000615\n",
              "2021-06-28  0.999928     1.000669\n",
              "2021-06-29  1.000024     1.000451\n",
              "2021-06-30  1.000216     1.000320\n",
              "\n",
              "[266 rows x 2 columns]"
            ],
            "text/html": [
              "\n",
              "  <div id=\"df-c9e2cc96-d93f-403a-ace5-4c8268cbd32e\">\n",
              "    <div class=\"colab-df-container\">\n",
              "      <div>\n",
              "<style scoped>\n",
              "    .dataframe tbody tr th:only-of-type {\n",
              "        vertical-align: middle;\n",
              "    }\n",
              "\n",
              "    .dataframe tbody tr th {\n",
              "        vertical-align: top;\n",
              "    }\n",
              "\n",
              "    .dataframe thead th {\n",
              "        text-align: right;\n",
              "    }\n",
              "</style>\n",
              "<table border=\"1\" class=\"dataframe\">\n",
              "  <thead>\n",
              "    <tr style=\"text-align: right;\">\n",
              "      <th></th>\n",
              "      <th>Close</th>\n",
              "      <th>predictions</th>\n",
              "    </tr>\n",
              "    <tr>\n",
              "      <th>Date</th>\n",
              "      <th></th>\n",
              "      <th></th>\n",
              "    </tr>\n",
              "  </thead>\n",
              "  <tbody>\n",
              "    <tr>\n",
              "      <th>2020-10-08</th>\n",
              "      <td>1.001252</td>\n",
              "      <td>1.000711</td>\n",
              "    </tr>\n",
              "    <tr>\n",
              "      <th>2020-10-09</th>\n",
              "      <td>1.001180</td>\n",
              "      <td>1.000862</td>\n",
              "    </tr>\n",
              "    <tr>\n",
              "      <th>2020-10-10</th>\n",
              "      <td>1.000884</td>\n",
              "      <td>1.000947</td>\n",
              "    </tr>\n",
              "    <tr>\n",
              "      <th>2020-10-11</th>\n",
              "      <td>1.000734</td>\n",
              "      <td>1.000893</td>\n",
              "    </tr>\n",
              "    <tr>\n",
              "      <th>2020-10-12</th>\n",
              "      <td>1.001302</td>\n",
              "      <td>1.000801</td>\n",
              "    </tr>\n",
              "    <tr>\n",
              "      <th>...</th>\n",
              "      <td>...</td>\n",
              "      <td>...</td>\n",
              "    </tr>\n",
              "    <tr>\n",
              "      <th>2021-06-26</th>\n",
              "      <td>1.001214</td>\n",
              "      <td>1.000344</td>\n",
              "    </tr>\n",
              "    <tr>\n",
              "      <th>2021-06-27</th>\n",
              "      <td>1.000642</td>\n",
              "      <td>1.000615</td>\n",
              "    </tr>\n",
              "    <tr>\n",
              "      <th>2021-06-28</th>\n",
              "      <td>0.999928</td>\n",
              "      <td>1.000669</td>\n",
              "    </tr>\n",
              "    <tr>\n",
              "      <th>2021-06-29</th>\n",
              "      <td>1.000024</td>\n",
              "      <td>1.000451</td>\n",
              "    </tr>\n",
              "    <tr>\n",
              "      <th>2021-06-30</th>\n",
              "      <td>1.000216</td>\n",
              "      <td>1.000320</td>\n",
              "    </tr>\n",
              "  </tbody>\n",
              "</table>\n",
              "<p>266 rows × 2 columns</p>\n",
              "</div>\n",
              "      <button class=\"colab-df-convert\" onclick=\"convertToInteractive('df-c9e2cc96-d93f-403a-ace5-4c8268cbd32e')\"\n",
              "              title=\"Convert this dataframe to an interactive table.\"\n",
              "              style=\"display:none;\">\n",
              "        \n",
              "  <svg xmlns=\"http://www.w3.org/2000/svg\" height=\"24px\"viewBox=\"0 0 24 24\"\n",
              "       width=\"24px\">\n",
              "    <path d=\"M0 0h24v24H0V0z\" fill=\"none\"/>\n",
              "    <path d=\"M18.56 5.44l.94 2.06.94-2.06 2.06-.94-2.06-.94-.94-2.06-.94 2.06-2.06.94zm-11 1L8.5 8.5l.94-2.06 2.06-.94-2.06-.94L8.5 2.5l-.94 2.06-2.06.94zm10 10l.94 2.06.94-2.06 2.06-.94-2.06-.94-.94-2.06-.94 2.06-2.06.94z\"/><path d=\"M17.41 7.96l-1.37-1.37c-.4-.4-.92-.59-1.43-.59-.52 0-1.04.2-1.43.59L10.3 9.45l-7.72 7.72c-.78.78-.78 2.05 0 2.83L4 21.41c.39.39.9.59 1.41.59.51 0 1.02-.2 1.41-.59l7.78-7.78 2.81-2.81c.8-.78.8-2.07 0-2.86zM5.41 20L4 18.59l7.72-7.72 1.47 1.35L5.41 20z\"/>\n",
              "  </svg>\n",
              "      </button>\n",
              "      \n",
              "  <style>\n",
              "    .colab-df-container {\n",
              "      display:flex;\n",
              "      flex-wrap:wrap;\n",
              "      gap: 12px;\n",
              "    }\n",
              "\n",
              "    .colab-df-convert {\n",
              "      background-color: #E8F0FE;\n",
              "      border: none;\n",
              "      border-radius: 50%;\n",
              "      cursor: pointer;\n",
              "      display: none;\n",
              "      fill: #1967D2;\n",
              "      height: 32px;\n",
              "      padding: 0 0 0 0;\n",
              "      width: 32px;\n",
              "    }\n",
              "\n",
              "    .colab-df-convert:hover {\n",
              "      background-color: #E2EBFA;\n",
              "      box-shadow: 0px 1px 2px rgba(60, 64, 67, 0.3), 0px 1px 3px 1px rgba(60, 64, 67, 0.15);\n",
              "      fill: #174EA6;\n",
              "    }\n",
              "\n",
              "    [theme=dark] .colab-df-convert {\n",
              "      background-color: #3B4455;\n",
              "      fill: #D2E3FC;\n",
              "    }\n",
              "\n",
              "    [theme=dark] .colab-df-convert:hover {\n",
              "      background-color: #434B5C;\n",
              "      box-shadow: 0px 1px 3px 1px rgba(0, 0, 0, 0.15);\n",
              "      filter: drop-shadow(0px 1px 2px rgba(0, 0, 0, 0.3));\n",
              "      fill: #FFFFFF;\n",
              "    }\n",
              "  </style>\n",
              "\n",
              "      <script>\n",
              "        const buttonEl =\n",
              "          document.querySelector('#df-c9e2cc96-d93f-403a-ace5-4c8268cbd32e button.colab-df-convert');\n",
              "        buttonEl.style.display =\n",
              "          google.colab.kernel.accessAllowed ? 'block' : 'none';\n",
              "\n",
              "        async function convertToInteractive(key) {\n",
              "          const element = document.querySelector('#df-c9e2cc96-d93f-403a-ace5-4c8268cbd32e');\n",
              "          const dataTable =\n",
              "            await google.colab.kernel.invokeFunction('convertToInteractive',\n",
              "                                                     [key], {});\n",
              "          if (!dataTable) return;\n",
              "\n",
              "          const docLinkHtml = 'Like what you see? Visit the ' +\n",
              "            '<a target=\"_blank\" href=https://colab.research.google.com/notebooks/data_table.ipynb>data table notebook</a>'\n",
              "            + ' to learn more about interactive tables.';\n",
              "          element.innerHTML = '';\n",
              "          dataTable['output_type'] = 'display_data';\n",
              "          await google.colab.output.renderOutput(dataTable, element);\n",
              "          const docLink = document.createElement('div');\n",
              "          docLink.innerHTML = docLinkHtml;\n",
              "          element.appendChild(docLink);\n",
              "        }\n",
              "      </script>\n",
              "    </div>\n",
              "  </div>\n",
              "  "
            ]
          },
          "metadata": {},
          "execution_count": 91
        }
      ]
    },
    {
      "cell_type": "code",
      "source": [
        "valid2 = valid[[\"Close\" , \"predictions\"]]\n",
        "valid2.head(20)"
      ],
      "metadata": {
        "colab": {
          "base_uri": "https://localhost:8080/",
          "height": 708
        },
        "id": "WySA_EntNWlG",
        "outputId": "f12f724d-414c-499f-ffc1-c9eaa61b9015"
      },
      "execution_count": null,
      "outputs": [
        {
          "output_type": "execute_result",
          "data": {
            "text/plain": [
              "               Close  predictions\n",
              "Date                             \n",
              "2020-10-08  1.001252     1.000711\n",
              "2020-10-09  1.001180     1.000862\n",
              "2020-10-10  1.000884     1.000947\n",
              "2020-10-11  1.000734     1.000893\n",
              "2020-10-12  1.001302     1.000801\n",
              "2020-10-13  1.001111     1.000909\n",
              "2020-10-14  1.001007     1.000944\n",
              "2020-10-15  1.000796     1.000921\n",
              "2020-10-16  1.001047     1.000841\n",
              "2020-10-17  1.000697     1.000864\n",
              "2020-10-18  1.000784     1.000794\n",
              "2020-10-19  1.000853     1.000766\n",
              "2020-10-20  1.000985     1.000777\n",
              "2020-10-21  1.001834     1.000824\n",
              "2020-10-22  1.001091     1.001094\n",
              "2020-10-23  1.000657     1.001058\n",
              "2020-10-24  1.000909     1.000869\n",
              "2020-10-25  1.000721     1.000824\n",
              "2020-10-26  1.000958     1.000773\n",
              "2020-10-27  1.000223     1.000810"
            ],
            "text/html": [
              "\n",
              "  <div id=\"df-66e053a1-6587-4b9a-b9d7-0059b5d40e61\">\n",
              "    <div class=\"colab-df-container\">\n",
              "      <div>\n",
              "<style scoped>\n",
              "    .dataframe tbody tr th:only-of-type {\n",
              "        vertical-align: middle;\n",
              "    }\n",
              "\n",
              "    .dataframe tbody tr th {\n",
              "        vertical-align: top;\n",
              "    }\n",
              "\n",
              "    .dataframe thead th {\n",
              "        text-align: right;\n",
              "    }\n",
              "</style>\n",
              "<table border=\"1\" class=\"dataframe\">\n",
              "  <thead>\n",
              "    <tr style=\"text-align: right;\">\n",
              "      <th></th>\n",
              "      <th>Close</th>\n",
              "      <th>predictions</th>\n",
              "    </tr>\n",
              "    <tr>\n",
              "      <th>Date</th>\n",
              "      <th></th>\n",
              "      <th></th>\n",
              "    </tr>\n",
              "  </thead>\n",
              "  <tbody>\n",
              "    <tr>\n",
              "      <th>2020-10-08</th>\n",
              "      <td>1.001252</td>\n",
              "      <td>1.000711</td>\n",
              "    </tr>\n",
              "    <tr>\n",
              "      <th>2020-10-09</th>\n",
              "      <td>1.001180</td>\n",
              "      <td>1.000862</td>\n",
              "    </tr>\n",
              "    <tr>\n",
              "      <th>2020-10-10</th>\n",
              "      <td>1.000884</td>\n",
              "      <td>1.000947</td>\n",
              "    </tr>\n",
              "    <tr>\n",
              "      <th>2020-10-11</th>\n",
              "      <td>1.000734</td>\n",
              "      <td>1.000893</td>\n",
              "    </tr>\n",
              "    <tr>\n",
              "      <th>2020-10-12</th>\n",
              "      <td>1.001302</td>\n",
              "      <td>1.000801</td>\n",
              "    </tr>\n",
              "    <tr>\n",
              "      <th>2020-10-13</th>\n",
              "      <td>1.001111</td>\n",
              "      <td>1.000909</td>\n",
              "    </tr>\n",
              "    <tr>\n",
              "      <th>2020-10-14</th>\n",
              "      <td>1.001007</td>\n",
              "      <td>1.000944</td>\n",
              "    </tr>\n",
              "    <tr>\n",
              "      <th>2020-10-15</th>\n",
              "      <td>1.000796</td>\n",
              "      <td>1.000921</td>\n",
              "    </tr>\n",
              "    <tr>\n",
              "      <th>2020-10-16</th>\n",
              "      <td>1.001047</td>\n",
              "      <td>1.000841</td>\n",
              "    </tr>\n",
              "    <tr>\n",
              "      <th>2020-10-17</th>\n",
              "      <td>1.000697</td>\n",
              "      <td>1.000864</td>\n",
              "    </tr>\n",
              "    <tr>\n",
              "      <th>2020-10-18</th>\n",
              "      <td>1.000784</td>\n",
              "      <td>1.000794</td>\n",
              "    </tr>\n",
              "    <tr>\n",
              "      <th>2020-10-19</th>\n",
              "      <td>1.000853</td>\n",
              "      <td>1.000766</td>\n",
              "    </tr>\n",
              "    <tr>\n",
              "      <th>2020-10-20</th>\n",
              "      <td>1.000985</td>\n",
              "      <td>1.000777</td>\n",
              "    </tr>\n",
              "    <tr>\n",
              "      <th>2020-10-21</th>\n",
              "      <td>1.001834</td>\n",
              "      <td>1.000824</td>\n",
              "    </tr>\n",
              "    <tr>\n",
              "      <th>2020-10-22</th>\n",
              "      <td>1.001091</td>\n",
              "      <td>1.001094</td>\n",
              "    </tr>\n",
              "    <tr>\n",
              "      <th>2020-10-23</th>\n",
              "      <td>1.000657</td>\n",
              "      <td>1.001058</td>\n",
              "    </tr>\n",
              "    <tr>\n",
              "      <th>2020-10-24</th>\n",
              "      <td>1.000909</td>\n",
              "      <td>1.000869</td>\n",
              "    </tr>\n",
              "    <tr>\n",
              "      <th>2020-10-25</th>\n",
              "      <td>1.000721</td>\n",
              "      <td>1.000824</td>\n",
              "    </tr>\n",
              "    <tr>\n",
              "      <th>2020-10-26</th>\n",
              "      <td>1.000958</td>\n",
              "      <td>1.000773</td>\n",
              "    </tr>\n",
              "    <tr>\n",
              "      <th>2020-10-27</th>\n",
              "      <td>1.000223</td>\n",
              "      <td>1.000810</td>\n",
              "    </tr>\n",
              "  </tbody>\n",
              "</table>\n",
              "</div>\n",
              "      <button class=\"colab-df-convert\" onclick=\"convertToInteractive('df-66e053a1-6587-4b9a-b9d7-0059b5d40e61')\"\n",
              "              title=\"Convert this dataframe to an interactive table.\"\n",
              "              style=\"display:none;\">\n",
              "        \n",
              "  <svg xmlns=\"http://www.w3.org/2000/svg\" height=\"24px\"viewBox=\"0 0 24 24\"\n",
              "       width=\"24px\">\n",
              "    <path d=\"M0 0h24v24H0V0z\" fill=\"none\"/>\n",
              "    <path d=\"M18.56 5.44l.94 2.06.94-2.06 2.06-.94-2.06-.94-.94-2.06-.94 2.06-2.06.94zm-11 1L8.5 8.5l.94-2.06 2.06-.94-2.06-.94L8.5 2.5l-.94 2.06-2.06.94zm10 10l.94 2.06.94-2.06 2.06-.94-2.06-.94-.94-2.06-.94 2.06-2.06.94z\"/><path d=\"M17.41 7.96l-1.37-1.37c-.4-.4-.92-.59-1.43-.59-.52 0-1.04.2-1.43.59L10.3 9.45l-7.72 7.72c-.78.78-.78 2.05 0 2.83L4 21.41c.39.39.9.59 1.41.59.51 0 1.02-.2 1.41-.59l7.78-7.78 2.81-2.81c.8-.78.8-2.07 0-2.86zM5.41 20L4 18.59l7.72-7.72 1.47 1.35L5.41 20z\"/>\n",
              "  </svg>\n",
              "      </button>\n",
              "      \n",
              "  <style>\n",
              "    .colab-df-container {\n",
              "      display:flex;\n",
              "      flex-wrap:wrap;\n",
              "      gap: 12px;\n",
              "    }\n",
              "\n",
              "    .colab-df-convert {\n",
              "      background-color: #E8F0FE;\n",
              "      border: none;\n",
              "      border-radius: 50%;\n",
              "      cursor: pointer;\n",
              "      display: none;\n",
              "      fill: #1967D2;\n",
              "      height: 32px;\n",
              "      padding: 0 0 0 0;\n",
              "      width: 32px;\n",
              "    }\n",
              "\n",
              "    .colab-df-convert:hover {\n",
              "      background-color: #E2EBFA;\n",
              "      box-shadow: 0px 1px 2px rgba(60, 64, 67, 0.3), 0px 1px 3px 1px rgba(60, 64, 67, 0.15);\n",
              "      fill: #174EA6;\n",
              "    }\n",
              "\n",
              "    [theme=dark] .colab-df-convert {\n",
              "      background-color: #3B4455;\n",
              "      fill: #D2E3FC;\n",
              "    }\n",
              "\n",
              "    [theme=dark] .colab-df-convert:hover {\n",
              "      background-color: #434B5C;\n",
              "      box-shadow: 0px 1px 3px 1px rgba(0, 0, 0, 0.15);\n",
              "      filter: drop-shadow(0px 1px 2px rgba(0, 0, 0, 0.3));\n",
              "      fill: #FFFFFF;\n",
              "    }\n",
              "  </style>\n",
              "\n",
              "      <script>\n",
              "        const buttonEl =\n",
              "          document.querySelector('#df-66e053a1-6587-4b9a-b9d7-0059b5d40e61 button.colab-df-convert');\n",
              "        buttonEl.style.display =\n",
              "          google.colab.kernel.accessAllowed ? 'block' : 'none';\n",
              "\n",
              "        async function convertToInteractive(key) {\n",
              "          const element = document.querySelector('#df-66e053a1-6587-4b9a-b9d7-0059b5d40e61');\n",
              "          const dataTable =\n",
              "            await google.colab.kernel.invokeFunction('convertToInteractive',\n",
              "                                                     [key], {});\n",
              "          if (!dataTable) return;\n",
              "\n",
              "          const docLinkHtml = 'Like what you see? Visit the ' +\n",
              "            '<a target=\"_blank\" href=https://colab.research.google.com/notebooks/data_table.ipynb>data table notebook</a>'\n",
              "            + ' to learn more about interactive tables.';\n",
              "          element.innerHTML = '';\n",
              "          dataTable['output_type'] = 'display_data';\n",
              "          await google.colab.output.renderOutput(dataTable, element);\n",
              "          const docLink = document.createElement('div');\n",
              "          docLink.innerHTML = docLinkHtml;\n",
              "          element.appendChild(docLink);\n",
              "        }\n",
              "      </script>\n",
              "    </div>\n",
              "  </div>\n",
              "  "
            ]
          },
          "metadata": {},
          "execution_count": 92
        }
      ]
    },
    {
      "cell_type": "code",
      "source": [
        "# Get the RMSE\n",
        "rmse = np.sqrt(np.mean(predictions - y_test)**2)\n",
        "rmse"
      ],
      "metadata": {
        "id": "nCSy0fPH_DRF",
        "colab": {
          "base_uri": "https://localhost:8080/"
        },
        "outputId": "e74832e7-8902-4797-97c3-4bdad63f54d5"
      },
      "execution_count": null,
      "outputs": [
        {
          "output_type": "execute_result",
          "data": {
            "text/plain": [
              "9.763762452549027e-06"
            ]
          },
          "metadata": {},
          "execution_count": 93
        }
      ]
    }
  ]
}