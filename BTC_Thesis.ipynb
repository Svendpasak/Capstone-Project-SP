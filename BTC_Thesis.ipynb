{
  "nbformat": 4,
  "nbformat_minor": 0,
  "metadata": {
    "colab": {
      "name": "BTC-Thesis.ipynb",
      "provenance": [],
      "collapsed_sections": [],
      "authorship_tag": "ABX9TyNcuZFj1ydIERhb5KdKUPCD",
      "include_colab_link": true
    },
    "kernelspec": {
      "name": "python3",
      "display_name": "Python 3"
    },
    "language_info": {
      "name": "python"
    }
  },
  "cells": [
    {
      "cell_type": "markdown",
      "metadata": {
        "id": "view-in-github",
        "colab_type": "text"
      },
      "source": [
        "<a href=\"https://colab.research.google.com/github/Svendpasak/Capstone-Project-SP/blob/master/BTC_Thesis.ipynb\" target=\"_parent\"><img src=\"https://colab.research.google.com/assets/colab-badge.svg\" alt=\"Open In Colab\"/></a>"
      ]
    },
    {
      "cell_type": "code",
      "execution_count": 1,
      "metadata": {
        "id": "2J2OIAlXGtHD"
      },
      "outputs": [],
      "source": [
        "# Tahap Preprocessing\n",
        "import keras\n",
        "import math\n",
        "import pandas as pd\n",
        "import numpy as np\n",
        "import tensorflow as tf\n",
        "import random as set_random_seed\n",
        "from sklearn.preprocessing import MinMaxScaler\n",
        "from pandas.core.common import random_state\n",
        "from sklearn.model_selection import train_test_split\n",
        "from keras.models import sequential\n",
        "from keras.layers import Dense,LSTM, Dropout\n",
        "import matplotlib.pyplot as plt\n",
        "from tensorflow.keras import layers,Sequential\n",
        "from tensorflow.keras.models import Model\n",
        "from tensorflow.python.keras import Sequential\n",
        "plt.style.use(\"fivethirtyeight\")"
      ]
    },
    {
      "cell_type": "code",
      "source": [
        "from google.colab import files\n",
        "uploaded = files.upload()"
      ],
      "metadata": {
        "colab": {
          "base_uri": "https://localhost:8080/",
          "resources": {
            "http://localhost:8080/nbextensions/google.colab/files.js": {
              "data": "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",
              "ok": true,
              "headers": [
                [
                  "content-type",
                  "application/javascript"
                ]
              ],
              "status": 200,
              "status_text": ""
            }
          },
          "height": 74
        },
        "id": "R767RYT_eOxp",
        "outputId": "156fd715-3d32-496b-e15b-ab7283d0a0c5"
      },
      "execution_count": 219,
      "outputs": [
        {
          "output_type": "display_data",
          "data": {
            "text/plain": [
              "<IPython.core.display.HTML object>"
            ],
            "text/html": [
              "\n",
              "     <input type=\"file\" id=\"files-f72023ca-6858-4045-b7dc-c48999f21155\" name=\"files[]\" multiple disabled\n",
              "        style=\"border:none\" />\n",
              "     <output id=\"result-f72023ca-6858-4045-b7dc-c48999f21155\">\n",
              "      Upload widget is only available when the cell has been executed in the\n",
              "      current browser session. Please rerun this cell to enable.\n",
              "      </output>\n",
              "      <script src=\"/nbextensions/google.colab/files.js\"></script> "
            ]
          },
          "metadata": {}
        },
        {
          "output_type": "stream",
          "name": "stdout",
          "text": [
            "Saving BTC-USD.csv to BTC-USD.csv\n"
          ]
        }
      ]
    },
    {
      "cell_type": "code",
      "source": [
        "# Read Data\n",
        "df = pd.read_csv(\"data set BTC-USD.csv\", index_col=0)\n",
        "df.head(6)"
      ],
      "metadata": {
        "colab": {
          "base_uri": "https://localhost:8080/",
          "height": 269
        },
        "id": "m6s6LIiilRY8",
        "outputId": "0aacaf34-25b6-4ff0-c91e-57d29e25a353"
      },
      "execution_count": 220,
      "outputs": [
        {
          "output_type": "execute_result",
          "data": {
            "text/plain": [
              "                   Open         High          Low        Close    Adj Close  \\\n",
              "Date                                                                          \n",
              "2017-03-01  1180.040039  1222.500000  1179.689941  1222.500000  1222.500000   \n",
              "2017-03-02  1224.680054  1262.130005  1215.619995  1251.010010  1251.010010   \n",
              "2017-03-03  1250.709961  1280.310059  1250.709961  1274.989990  1274.989990   \n",
              "2017-03-04  1277.430054  1279.400024  1230.510010  1255.150024  1255.150024   \n",
              "2017-03-05  1254.290039  1267.290039  1238.060059  1267.119995  1267.119995   \n",
              "2017-03-06  1267.469971  1276.000000  1264.599976  1272.829956  1272.829956   \n",
              "\n",
              "               Volume  \n",
              "Date                   \n",
              "2017-03-01  229056992  \n",
              "2017-03-02  368275008  \n",
              "2017-03-03  315739008  \n",
              "2017-03-04  183270000  \n",
              "2017-03-05  134127000  \n",
              "2017-03-06  153656992  "
            ],
            "text/html": [
              "\n",
              "  <div id=\"df-05e856a0-2d6c-4c90-a688-d2a42a62a44f\">\n",
              "    <div class=\"colab-df-container\">\n",
              "      <div>\n",
              "<style scoped>\n",
              "    .dataframe tbody tr th:only-of-type {\n",
              "        vertical-align: middle;\n",
              "    }\n",
              "\n",
              "    .dataframe tbody tr th {\n",
              "        vertical-align: top;\n",
              "    }\n",
              "\n",
              "    .dataframe thead th {\n",
              "        text-align: right;\n",
              "    }\n",
              "</style>\n",
              "<table border=\"1\" class=\"dataframe\">\n",
              "  <thead>\n",
              "    <tr style=\"text-align: right;\">\n",
              "      <th></th>\n",
              "      <th>Open</th>\n",
              "      <th>High</th>\n",
              "      <th>Low</th>\n",
              "      <th>Close</th>\n",
              "      <th>Adj Close</th>\n",
              "      <th>Volume</th>\n",
              "    </tr>\n",
              "    <tr>\n",
              "      <th>Date</th>\n",
              "      <th></th>\n",
              "      <th></th>\n",
              "      <th></th>\n",
              "      <th></th>\n",
              "      <th></th>\n",
              "      <th></th>\n",
              "    </tr>\n",
              "  </thead>\n",
              "  <tbody>\n",
              "    <tr>\n",
              "      <th>2017-03-01</th>\n",
              "      <td>1180.040039</td>\n",
              "      <td>1222.500000</td>\n",
              "      <td>1179.689941</td>\n",
              "      <td>1222.500000</td>\n",
              "      <td>1222.500000</td>\n",
              "      <td>229056992</td>\n",
              "    </tr>\n",
              "    <tr>\n",
              "      <th>2017-03-02</th>\n",
              "      <td>1224.680054</td>\n",
              "      <td>1262.130005</td>\n",
              "      <td>1215.619995</td>\n",
              "      <td>1251.010010</td>\n",
              "      <td>1251.010010</td>\n",
              "      <td>368275008</td>\n",
              "    </tr>\n",
              "    <tr>\n",
              "      <th>2017-03-03</th>\n",
              "      <td>1250.709961</td>\n",
              "      <td>1280.310059</td>\n",
              "      <td>1250.709961</td>\n",
              "      <td>1274.989990</td>\n",
              "      <td>1274.989990</td>\n",
              "      <td>315739008</td>\n",
              "    </tr>\n",
              "    <tr>\n",
              "      <th>2017-03-04</th>\n",
              "      <td>1277.430054</td>\n",
              "      <td>1279.400024</td>\n",
              "      <td>1230.510010</td>\n",
              "      <td>1255.150024</td>\n",
              "      <td>1255.150024</td>\n",
              "      <td>183270000</td>\n",
              "    </tr>\n",
              "    <tr>\n",
              "      <th>2017-03-05</th>\n",
              "      <td>1254.290039</td>\n",
              "      <td>1267.290039</td>\n",
              "      <td>1238.060059</td>\n",
              "      <td>1267.119995</td>\n",
              "      <td>1267.119995</td>\n",
              "      <td>134127000</td>\n",
              "    </tr>\n",
              "    <tr>\n",
              "      <th>2017-03-06</th>\n",
              "      <td>1267.469971</td>\n",
              "      <td>1276.000000</td>\n",
              "      <td>1264.599976</td>\n",
              "      <td>1272.829956</td>\n",
              "      <td>1272.829956</td>\n",
              "      <td>153656992</td>\n",
              "    </tr>\n",
              "  </tbody>\n",
              "</table>\n",
              "</div>\n",
              "      <button class=\"colab-df-convert\" onclick=\"convertToInteractive('df-05e856a0-2d6c-4c90-a688-d2a42a62a44f')\"\n",
              "              title=\"Convert this dataframe to an interactive table.\"\n",
              "              style=\"display:none;\">\n",
              "        \n",
              "  <svg xmlns=\"http://www.w3.org/2000/svg\" height=\"24px\"viewBox=\"0 0 24 24\"\n",
              "       width=\"24px\">\n",
              "    <path d=\"M0 0h24v24H0V0z\" fill=\"none\"/>\n",
              "    <path d=\"M18.56 5.44l.94 2.06.94-2.06 2.06-.94-2.06-.94-.94-2.06-.94 2.06-2.06.94zm-11 1L8.5 8.5l.94-2.06 2.06-.94-2.06-.94L8.5 2.5l-.94 2.06-2.06.94zm10 10l.94 2.06.94-2.06 2.06-.94-2.06-.94-.94-2.06-.94 2.06-2.06.94z\"/><path d=\"M17.41 7.96l-1.37-1.37c-.4-.4-.92-.59-1.43-.59-.52 0-1.04.2-1.43.59L10.3 9.45l-7.72 7.72c-.78.78-.78 2.05 0 2.83L4 21.41c.39.39.9.59 1.41.59.51 0 1.02-.2 1.41-.59l7.78-7.78 2.81-2.81c.8-.78.8-2.07 0-2.86zM5.41 20L4 18.59l7.72-7.72 1.47 1.35L5.41 20z\"/>\n",
              "  </svg>\n",
              "      </button>\n",
              "      \n",
              "  <style>\n",
              "    .colab-df-container {\n",
              "      display:flex;\n",
              "      flex-wrap:wrap;\n",
              "      gap: 12px;\n",
              "    }\n",
              "\n",
              "    .colab-df-convert {\n",
              "      background-color: #E8F0FE;\n",
              "      border: none;\n",
              "      border-radius: 50%;\n",
              "      cursor: pointer;\n",
              "      display: none;\n",
              "      fill: #1967D2;\n",
              "      height: 32px;\n",
              "      padding: 0 0 0 0;\n",
              "      width: 32px;\n",
              "    }\n",
              "\n",
              "    .colab-df-convert:hover {\n",
              "      background-color: #E2EBFA;\n",
              "      box-shadow: 0px 1px 2px rgba(60, 64, 67, 0.3), 0px 1px 3px 1px rgba(60, 64, 67, 0.15);\n",
              "      fill: #174EA6;\n",
              "    }\n",
              "\n",
              "    [theme=dark] .colab-df-convert {\n",
              "      background-color: #3B4455;\n",
              "      fill: #D2E3FC;\n",
              "    }\n",
              "\n",
              "    [theme=dark] .colab-df-convert:hover {\n",
              "      background-color: #434B5C;\n",
              "      box-shadow: 0px 1px 3px 1px rgba(0, 0, 0, 0.15);\n",
              "      filter: drop-shadow(0px 1px 2px rgba(0, 0, 0, 0.3));\n",
              "      fill: #FFFFFF;\n",
              "    }\n",
              "  </style>\n",
              "\n",
              "      <script>\n",
              "        const buttonEl =\n",
              "          document.querySelector('#df-05e856a0-2d6c-4c90-a688-d2a42a62a44f button.colab-df-convert');\n",
              "        buttonEl.style.display =\n",
              "          google.colab.kernel.accessAllowed ? 'block' : 'none';\n",
              "\n",
              "        async function convertToInteractive(key) {\n",
              "          const element = document.querySelector('#df-05e856a0-2d6c-4c90-a688-d2a42a62a44f');\n",
              "          const dataTable =\n",
              "            await google.colab.kernel.invokeFunction('convertToInteractive',\n",
              "                                                     [key], {});\n",
              "          if (!dataTable) return;\n",
              "\n",
              "          const docLinkHtml = 'Like what you see? Visit the ' +\n",
              "            '<a target=\"_blank\" href=https://colab.research.google.com/notebooks/data_table.ipynb>data table notebook</a>'\n",
              "            + ' to learn more about interactive tables.';\n",
              "          element.innerHTML = '';\n",
              "          dataTable['output_type'] = 'display_data';\n",
              "          await google.colab.output.renderOutput(dataTable, element);\n",
              "          const docLink = document.createElement('div');\n",
              "          docLink.innerHTML = docLinkHtml;\n",
              "          element.appendChild(docLink);\n",
              "        }\n",
              "      </script>\n",
              "    </div>\n",
              "  </div>\n",
              "  "
            ]
          },
          "metadata": {},
          "execution_count": 220
        }
      ]
    },
    {
      "cell_type": "code",
      "source": [
        "df.shape"
      ],
      "metadata": {
        "colab": {
          "base_uri": "https://localhost:8080/"
        },
        "id": "BNxMttx6qRGU",
        "outputId": "4e2b0f9c-3503-4f52-b710-e8407269b5ad"
      },
      "execution_count": 221,
      "outputs": [
        {
          "output_type": "execute_result",
          "data": {
            "text/plain": [
              "(1583, 6)"
            ]
          },
          "metadata": {},
          "execution_count": 221
        }
      ]
    },
    {
      "cell_type": "code",
      "source": [
        "df.info()"
      ],
      "metadata": {
        "id": "toxpvRNe8k48",
        "colab": {
          "base_uri": "https://localhost:8080/"
        },
        "outputId": "1f8a32fc-39e6-428f-93f9-28d0cbb3dc09"
      },
      "execution_count": 222,
      "outputs": [
        {
          "output_type": "stream",
          "name": "stdout",
          "text": [
            "<class 'pandas.core.frame.DataFrame'>\n",
            "Index: 1583 entries, 2017-03-01 to 2021-06-30\n",
            "Data columns (total 6 columns):\n",
            " #   Column     Non-Null Count  Dtype  \n",
            "---  ------     --------------  -----  \n",
            " 0   Open       1583 non-null   float64\n",
            " 1   High       1583 non-null   float64\n",
            " 2   Low        1583 non-null   float64\n",
            " 3   Close      1583 non-null   float64\n",
            " 4   Adj Close  1583 non-null   float64\n",
            " 5   Volume     1583 non-null   int64  \n",
            "dtypes: float64(5), int64(1)\n",
            "memory usage: 86.6+ KB\n"
          ]
        }
      ]
    },
    {
      "cell_type": "code",
      "source": [
        "# Tahap Data Cleaning (Missing Value)\n",
        "BTC = df.fillna(0)\n",
        "BTC.tail()"
      ],
      "metadata": {
        "colab": {
          "base_uri": "https://localhost:8080/",
          "height": 238
        },
        "id": "qbLMcX940Lk0",
        "outputId": "60dcf61d-01e4-4963-dd71-4c60196c1cb6"
      },
      "execution_count": 223,
      "outputs": [
        {
          "output_type": "execute_result",
          "data": {
            "text/plain": [
              "                    Open          High           Low         Close  \\\n",
              "Date                                                                 \n",
              "2021-06-26  31594.664063  32637.587891  30184.501953  32186.277344   \n",
              "2021-06-27  32287.523438  34656.128906  32071.757813  34649.644531   \n",
              "2021-06-28  34679.121094  35219.890625  33902.074219  34434.335938   \n",
              "2021-06-29  34475.558594  36542.109375  34252.484375  35867.777344   \n",
              "2021-06-30  35908.386719  36074.757813  34086.152344  35040.835938   \n",
              "\n",
              "               Adj Close       Volume  \n",
              "Date                                   \n",
              "2021-06-26  32186.277344  38585385521  \n",
              "2021-06-27  34649.644531  35511640894  \n",
              "2021-06-28  34434.335938  33892523752  \n",
              "2021-06-29  35867.777344  37901460044  \n",
              "2021-06-30  35040.835938  34059036099  "
            ],
            "text/html": [
              "\n",
              "  <div id=\"df-47f5327c-b834-4afc-a481-52156728ce61\">\n",
              "    <div class=\"colab-df-container\">\n",
              "      <div>\n",
              "<style scoped>\n",
              "    .dataframe tbody tr th:only-of-type {\n",
              "        vertical-align: middle;\n",
              "    }\n",
              "\n",
              "    .dataframe tbody tr th {\n",
              "        vertical-align: top;\n",
              "    }\n",
              "\n",
              "    .dataframe thead th {\n",
              "        text-align: right;\n",
              "    }\n",
              "</style>\n",
              "<table border=\"1\" class=\"dataframe\">\n",
              "  <thead>\n",
              "    <tr style=\"text-align: right;\">\n",
              "      <th></th>\n",
              "      <th>Open</th>\n",
              "      <th>High</th>\n",
              "      <th>Low</th>\n",
              "      <th>Close</th>\n",
              "      <th>Adj Close</th>\n",
              "      <th>Volume</th>\n",
              "    </tr>\n",
              "    <tr>\n",
              "      <th>Date</th>\n",
              "      <th></th>\n",
              "      <th></th>\n",
              "      <th></th>\n",
              "      <th></th>\n",
              "      <th></th>\n",
              "      <th></th>\n",
              "    </tr>\n",
              "  </thead>\n",
              "  <tbody>\n",
              "    <tr>\n",
              "      <th>2021-06-26</th>\n",
              "      <td>31594.664063</td>\n",
              "      <td>32637.587891</td>\n",
              "      <td>30184.501953</td>\n",
              "      <td>32186.277344</td>\n",
              "      <td>32186.277344</td>\n",
              "      <td>38585385521</td>\n",
              "    </tr>\n",
              "    <tr>\n",
              "      <th>2021-06-27</th>\n",
              "      <td>32287.523438</td>\n",
              "      <td>34656.128906</td>\n",
              "      <td>32071.757813</td>\n",
              "      <td>34649.644531</td>\n",
              "      <td>34649.644531</td>\n",
              "      <td>35511640894</td>\n",
              "    </tr>\n",
              "    <tr>\n",
              "      <th>2021-06-28</th>\n",
              "      <td>34679.121094</td>\n",
              "      <td>35219.890625</td>\n",
              "      <td>33902.074219</td>\n",
              "      <td>34434.335938</td>\n",
              "      <td>34434.335938</td>\n",
              "      <td>33892523752</td>\n",
              "    </tr>\n",
              "    <tr>\n",
              "      <th>2021-06-29</th>\n",
              "      <td>34475.558594</td>\n",
              "      <td>36542.109375</td>\n",
              "      <td>34252.484375</td>\n",
              "      <td>35867.777344</td>\n",
              "      <td>35867.777344</td>\n",
              "      <td>37901460044</td>\n",
              "    </tr>\n",
              "    <tr>\n",
              "      <th>2021-06-30</th>\n",
              "      <td>35908.386719</td>\n",
              "      <td>36074.757813</td>\n",
              "      <td>34086.152344</td>\n",
              "      <td>35040.835938</td>\n",
              "      <td>35040.835938</td>\n",
              "      <td>34059036099</td>\n",
              "    </tr>\n",
              "  </tbody>\n",
              "</table>\n",
              "</div>\n",
              "      <button class=\"colab-df-convert\" onclick=\"convertToInteractive('df-47f5327c-b834-4afc-a481-52156728ce61')\"\n",
              "              title=\"Convert this dataframe to an interactive table.\"\n",
              "              style=\"display:none;\">\n",
              "        \n",
              "  <svg xmlns=\"http://www.w3.org/2000/svg\" height=\"24px\"viewBox=\"0 0 24 24\"\n",
              "       width=\"24px\">\n",
              "    <path d=\"M0 0h24v24H0V0z\" fill=\"none\"/>\n",
              "    <path d=\"M18.56 5.44l.94 2.06.94-2.06 2.06-.94-2.06-.94-.94-2.06-.94 2.06-2.06.94zm-11 1L8.5 8.5l.94-2.06 2.06-.94-2.06-.94L8.5 2.5l-.94 2.06-2.06.94zm10 10l.94 2.06.94-2.06 2.06-.94-2.06-.94-.94-2.06-.94 2.06-2.06.94z\"/><path d=\"M17.41 7.96l-1.37-1.37c-.4-.4-.92-.59-1.43-.59-.52 0-1.04.2-1.43.59L10.3 9.45l-7.72 7.72c-.78.78-.78 2.05 0 2.83L4 21.41c.39.39.9.59 1.41.59.51 0 1.02-.2 1.41-.59l7.78-7.78 2.81-2.81c.8-.78.8-2.07 0-2.86zM5.41 20L4 18.59l7.72-7.72 1.47 1.35L5.41 20z\"/>\n",
              "  </svg>\n",
              "      </button>\n",
              "      \n",
              "  <style>\n",
              "    .colab-df-container {\n",
              "      display:flex;\n",
              "      flex-wrap:wrap;\n",
              "      gap: 12px;\n",
              "    }\n",
              "\n",
              "    .colab-df-convert {\n",
              "      background-color: #E8F0FE;\n",
              "      border: none;\n",
              "      border-radius: 50%;\n",
              "      cursor: pointer;\n",
              "      display: none;\n",
              "      fill: #1967D2;\n",
              "      height: 32px;\n",
              "      padding: 0 0 0 0;\n",
              "      width: 32px;\n",
              "    }\n",
              "\n",
              "    .colab-df-convert:hover {\n",
              "      background-color: #E2EBFA;\n",
              "      box-shadow: 0px 1px 2px rgba(60, 64, 67, 0.3), 0px 1px 3px 1px rgba(60, 64, 67, 0.15);\n",
              "      fill: #174EA6;\n",
              "    }\n",
              "\n",
              "    [theme=dark] .colab-df-convert {\n",
              "      background-color: #3B4455;\n",
              "      fill: #D2E3FC;\n",
              "    }\n",
              "\n",
              "    [theme=dark] .colab-df-convert:hover {\n",
              "      background-color: #434B5C;\n",
              "      box-shadow: 0px 1px 3px 1px rgba(0, 0, 0, 0.15);\n",
              "      filter: drop-shadow(0px 1px 2px rgba(0, 0, 0, 0.3));\n",
              "      fill: #FFFFFF;\n",
              "    }\n",
              "  </style>\n",
              "\n",
              "      <script>\n",
              "        const buttonEl =\n",
              "          document.querySelector('#df-47f5327c-b834-4afc-a481-52156728ce61 button.colab-df-convert');\n",
              "        buttonEl.style.display =\n",
              "          google.colab.kernel.accessAllowed ? 'block' : 'none';\n",
              "\n",
              "        async function convertToInteractive(key) {\n",
              "          const element = document.querySelector('#df-47f5327c-b834-4afc-a481-52156728ce61');\n",
              "          const dataTable =\n",
              "            await google.colab.kernel.invokeFunction('convertToInteractive',\n",
              "                                                     [key], {});\n",
              "          if (!dataTable) return;\n",
              "\n",
              "          const docLinkHtml = 'Like what you see? Visit the ' +\n",
              "            '<a target=\"_blank\" href=https://colab.research.google.com/notebooks/data_table.ipynb>data table notebook</a>'\n",
              "            + ' to learn more about interactive tables.';\n",
              "          element.innerHTML = '';\n",
              "          dataTable['output_type'] = 'display_data';\n",
              "          await google.colab.output.renderOutput(dataTable, element);\n",
              "          const docLink = document.createElement('div');\n",
              "          docLink.innerHTML = docLinkHtml;\n",
              "          element.appendChild(docLink);\n",
              "        }\n",
              "      </script>\n",
              "    </div>\n",
              "  </div>\n",
              "  "
            ]
          },
          "metadata": {},
          "execution_count": 223
        }
      ]
    },
    {
      "cell_type": "code",
      "source": [
        "# Pengecekan data Missing Value\n",
        "BTC.isna().any()"
      ],
      "metadata": {
        "id": "3iuk7-jS07FS",
        "colab": {
          "base_uri": "https://localhost:8080/"
        },
        "outputId": "5a53f398-dd93-4d34-c57a-d38069bfb1fb"
      },
      "execution_count": 224,
      "outputs": [
        {
          "output_type": "execute_result",
          "data": {
            "text/plain": [
              "Open         False\n",
              "High         False\n",
              "Low          False\n",
              "Close        False\n",
              "Adj Close    False\n",
              "Volume       False\n",
              "dtype: bool"
            ]
          },
          "metadata": {},
          "execution_count": 224
        }
      ]
    },
    {
      "cell_type": "code",
      "source": [
        "# Visualize the Closing Price\n",
        "BTC[\"Close\"].plot(figsize=(18,8))\n",
        "plt.title(\"Bitcoin Closing Price\", fontsize = 18)\n",
        "plt.ylabel(\"Close Price\", fontsize = 18)"
      ],
      "metadata": {
        "colab": {
          "base_uri": "https://localhost:8080/",
          "height": 534
        },
        "id": "Fc4vcbaGIHY2",
        "outputId": "00540285-9fb2-439b-8b9b-6bbb39ffbbe4"
      },
      "execution_count": 225,
      "outputs": [
        {
          "output_type": "execute_result",
          "data": {
            "text/plain": [
              "Text(0, 0.5, 'Close Price')"
            ]
          },
          "metadata": {},
          "execution_count": 225
        },
        {
          "output_type": "display_data",
          "data": {
            "text/plain": [
              "<Figure size 1296x576 with 1 Axes>"
            ],
            "image/png": "[encoded data removed]"
          },
          "metadata": {
            "needs_background": "light"
          }
        }
      ]
    },
    {
      "cell_type": "code",
      "source": [
        "# Create a new dataframe with only the \"Close\" cloumn\n",
        "BTC = BTC.filter([\"Close\"])\n",
        "# Convert the dataframe to a numpy array\n",
        "BTC1 = BTC.values\n",
        "# Get the number of Rows to train the model on\n",
        "training_data_len = math.ceil(len(BTC1)*.80)\n",
        "training_data_len"
      ],
      "metadata": {
        "colab": {
          "base_uri": "https://localhost:8080/"
        },
        "id": "pswoCLmuuCoa",
        "outputId": "436bb6ee-4614-4bfb-d2f1-726628935049"
      },
      "execution_count": 226,
      "outputs": [
        {
          "output_type": "execute_result",
          "data": {
            "text/plain": [
              "1267"
            ]
          },
          "metadata": {},
          "execution_count": 226
        }
      ]
    },
    {
      "cell_type": "code",
      "source": [
        "# Scale the Data for Normalizing\n",
        "from sklearn.preprocessing import MinMaxScaler\n",
        "scaler = MinMaxScaler(feature_range = (0, 1))\n",
        "scaled_data = scaler.fit_transform(BTC1)\n",
        "scaled_data"
      ],
      "metadata": {
        "id": "HSVLFbtZuDFv",
        "colab": {
          "base_uri": "https://localhost:8080/"
        },
        "outputId": "f97293fc-5668-4dd9-99ec-66aea3d6cad6"
      },
      "execution_count": 227,
      "outputs": [
        {
          "output_type": "execute_result",
          "data": {
            "text/plain": [
              "array([[0.00455487],\n",
              "       [0.00501055],\n",
              "       [0.00539383],\n",
              "       ...,\n",
              "       [0.53538423],\n",
              "       [0.55829512],\n",
              "       [0.545078  ]])"
            ]
          },
          "metadata": {},
          "execution_count": 227
        }
      ]
    },
    {
      "cell_type": "code",
      "source": [
        "# Create the training data set\n",
        "# create the scaled training data set\n",
        "train_data = scaled_data[0: training_data_len, :]\n",
        "# Split the Data into x_train and y_train data set\n",
        "x_train = []\n",
        "y_train = []\n",
        "for i in range(30, len(train_data)):\n",
        "    x_train.append(train_data[i-30:i,0])\n",
        "    y_train.append(train_data[i,0])\n",
        "    if i <=  31:\n",
        "        print(x_train)\n",
        "        print(y_train)\n",
        "        print()   "
      ],
      "metadata": {
        "colab": {
          "base_uri": "https://localhost:8080/"
        },
        "id": "7o1S-qo2uD1e",
        "outputId": "59750fde-79f0-4e43-f2e4-9baf73d24cf7"
      },
      "execution_count": 228,
      "outputs": [
        {
          "output_type": "stream",
          "name": "stdout",
          "text": [
            "[array([0.00455487, 0.00501055, 0.00539383, 0.00507672, 0.00526804,\n",
            "       0.0053593 , 0.0045715 , 0.0033961 , 0.00401129, 0.00286418,\n",
            "       0.00380894, 0.00453697, 0.00470544, 0.00483458, 0.00498818,\n",
            "       0.00400042, 0.00260062, 0.00058016, 0.00158585, 0.00186539,\n",
            "       0.00292523, 0.00178404, 0.00161541, 0.        , 0.00056355,\n",
            "       0.00046679, 0.00173017, 0.00175223, 0.00163747, 0.00142106])]\n",
            "[0.002146056231466544]\n",
            "\n",
            "[array([0.00455487, 0.00501055, 0.00539383, 0.00507672, 0.00526804,\n",
            "       0.0053593 , 0.0045715 , 0.0033961 , 0.00401129, 0.00286418,\n",
            "       0.00380894, 0.00453697, 0.00470544, 0.00483458, 0.00498818,\n",
            "       0.00400042, 0.00260062, 0.00058016, 0.00158585, 0.00186539,\n",
            "       0.00292523, 0.00178404, 0.00161541, 0.        , 0.00056355,\n",
            "       0.00046679, 0.00173017, 0.00175223, 0.00163747, 0.00142106]), array([0.00501055, 0.00539383, 0.00507672, 0.00526804, 0.0053593 ,\n",
            "       0.0045715 , 0.0033961 , 0.00401129, 0.00286418, 0.00380894,\n",
            "       0.00453697, 0.00470544, 0.00483458, 0.00498818, 0.00400042,\n",
            "       0.00260062, 0.00058016, 0.00158585, 0.00186539, 0.00292523,\n",
            "       0.00178404, 0.00161541, 0.        , 0.00056355, 0.00046679,\n",
            "       0.00173017, 0.00175223, 0.00163747, 0.00142106, 0.00214606])]\n",
            "[0.002146056231466544, 0.002285268739359917]\n",
            "\n"
          ]
        }
      ]
    },
    {
      "cell_type": "code",
      "source": [
        "# Convert the x_train and y_train to numpy arrays\n",
        "x_train,y_train = np.array(x_train), np.array(y_train)"
      ],
      "metadata": {
        "id": "-OFvS6zyuD5g"
      },
      "execution_count": 229,
      "outputs": []
    },
    {
      "cell_type": "code",
      "source": [
        "# Reshape the Data\n",
        "x_train = np.reshape(x_train, (x_train.shape[0], x_train.shape[1],1))\n",
        "x_train.shape"
      ],
      "metadata": {
        "colab": {
          "base_uri": "https://localhost:8080/"
        },
        "id": "JD-5Og2XAIqL",
        "outputId": "bf20c130-d7fb-4bf3-e9f7-18beab6fde8f"
      },
      "execution_count": 230,
      "outputs": [
        {
          "output_type": "execute_result",
          "data": {
            "text/plain": [
              "(1237, 30, 1)"
            ]
          },
          "metadata": {},
          "execution_count": 230
        }
      ]
    },
    {
      "cell_type": "code",
      "source": [
        "# Build the Model\n",
        "model = keras.Sequential()\n",
        "model.add(layers.LSTM(50,return_sequences=True, input_shape= (x_train.shape[1],1)))\n",
        "model.add(Dropout(0.2))\n",
        "model.add(layers.LSTM(50,return_sequences=True))\n",
        "model.add(Dropout(0.2))\n",
        "model.add(layers.LSTM(50,return_sequences=True))\n",
        "model.add(Dropout(0.2))\n",
        "model.add(layers.LSTM(50,return_sequences=False))\n",
        "model.add(Dropout(0.2))\n",
        "model.add(layers.Dense(1))"
      ],
      "metadata": {
        "id": "3GWkenBiAI-u"
      },
      "execution_count": 231,
      "outputs": []
    },
    {
      "cell_type": "code",
      "source": [
        "model.summary()"
      ],
      "metadata": {
        "id": "3Tqhd_7ylfoo",
        "colab": {
          "base_uri": "https://localhost:8080/"
        },
        "outputId": "061b9062-054b-4358-8523-bbe1ff240b27"
      },
      "execution_count": 232,
      "outputs": [
        {
          "output_type": "stream",
          "name": "stdout",
          "text": [
            "Model: \"sequential_3\"\n",
            "_________________________________________________________________\n",
            " Layer (type)                Output Shape              Param #   \n",
            "=================================================================\n",
            " lstm_12 (LSTM)              (None, 30, 50)            10400     \n",
            "                                                                 \n",
            " dropout_12 (Dropout)        (None, 30, 50)            0         \n",
            "                                                                 \n",
            " lstm_13 (LSTM)              (None, 30, 50)            20200     \n",
            "                                                                 \n",
            " dropout_13 (Dropout)        (None, 30, 50)            0         \n",
            "                                                                 \n",
            " lstm_14 (LSTM)              (None, 30, 50)            20200     \n",
            "                                                                 \n",
            " dropout_14 (Dropout)        (None, 30, 50)            0         \n",
            "                                                                 \n",
            " lstm_15 (LSTM)              (None, 50)                20200     \n",
            "                                                                 \n",
            " dropout_15 (Dropout)        (None, 50)                0         \n",
            "                                                                 \n",
            " dense_3 (Dense)             (None, 1)                 51        \n",
            "                                                                 \n",
            "=================================================================\n",
            "Total params: 71,051\n",
            "Trainable params: 71,051\n",
            "Non-trainable params: 0\n",
            "_________________________________________________________________\n"
          ]
        }
      ]
    },
    {
      "cell_type": "code",
      "source": [
        "# Compile the Model\n",
        "model.compile(optimizer=\"adam\", loss=\"mean_squared_error\")"
      ],
      "metadata": {
        "id": "YgNFUIDVAJI4"
      },
      "execution_count": 235,
      "outputs": []
    },
    {
      "cell_type": "code",
      "source": [
        "np.random.seed(0)\n",
        "# Fitting / Train the Model\n",
        "model.fit(x_train, y_train, batch_size = 32, epochs = 100)"
      ],
      "metadata": {
        "colab": {
          "base_uri": "https://localhost:8080/"
        },
        "id": "86BMZiegVmPU",
        "outputId": "7f89ee16-b38b-4646-cf63-fa2a7e4d7ee3"
      },
      "execution_count": 236,
      "outputs": [
        {
          "output_type": "stream",
          "name": "stdout",
          "text": [
            "Epoch 1/100\n",
            "39/39 [==============================] - 9s 61ms/step - loss: 0.0018\n",
            "Epoch 2/100\n",
            "39/39 [==============================] - 2s 61ms/step - loss: 5.3436e-04\n",
            "Epoch 3/100\n",
            "39/39 [==============================] - 2s 61ms/step - loss: 4.9387e-04\n",
            "Epoch 4/100\n",
            "39/39 [==============================] - 2s 60ms/step - loss: 4.1651e-04\n",
            "Epoch 5/100\n",
            "39/39 [==============================] - 2s 60ms/step - loss: 3.8591e-04\n",
            "Epoch 6/100\n",
            "39/39 [==============================] - 2s 60ms/step - loss: 3.3549e-04\n",
            "Epoch 7/100\n",
            "39/39 [==============================] - 2s 59ms/step - loss: 3.1733e-04\n",
            "Epoch 8/100\n",
            "39/39 [==============================] - 2s 60ms/step - loss: 2.9657e-04\n",
            "Epoch 9/100\n",
            "39/39 [==============================] - 2s 60ms/step - loss: 2.9572e-04\n",
            "Epoch 10/100\n",
            "39/39 [==============================] - 2s 60ms/step - loss: 2.8610e-04\n",
            "Epoch 11/100\n",
            "39/39 [==============================] - 2s 59ms/step - loss: 2.9957e-04\n",
            "Epoch 12/100\n",
            "39/39 [==============================] - 2s 60ms/step - loss: 2.3965e-04\n",
            "Epoch 13/100\n",
            "39/39 [==============================] - 2s 59ms/step - loss: 2.2327e-04\n",
            "Epoch 14/100\n",
            "39/39 [==============================] - 2s 59ms/step - loss: 2.5788e-04\n",
            "Epoch 15/100\n",
            "39/39 [==============================] - 2s 59ms/step - loss: 2.4564e-04\n",
            "Epoch 16/100\n",
            "39/39 [==============================] - 2s 59ms/step - loss: 2.1646e-04\n",
            "Epoch 17/100\n",
            "39/39 [==============================] - 2s 59ms/step - loss: 2.1364e-04\n",
            "Epoch 18/100\n",
            "39/39 [==============================] - 2s 60ms/step - loss: 2.2303e-04\n",
            "Epoch 19/100\n",
            "39/39 [==============================] - 2s 60ms/step - loss: 2.0778e-04\n",
            "Epoch 20/100\n",
            "39/39 [==============================] - 2s 60ms/step - loss: 2.1011e-04\n",
            "Epoch 21/100\n",
            "39/39 [==============================] - 2s 60ms/step - loss: 2.1878e-04\n",
            "Epoch 22/100\n",
            "39/39 [==============================] - 2s 60ms/step - loss: 2.1984e-04\n",
            "Epoch 23/100\n",
            "39/39 [==============================] - 2s 59ms/step - loss: 1.9843e-04\n",
            "Epoch 24/100\n",
            "39/39 [==============================] - 2s 60ms/step - loss: 1.9987e-04\n",
            "Epoch 25/100\n",
            "39/39 [==============================] - 2s 60ms/step - loss: 1.8297e-04\n",
            "Epoch 26/100\n",
            "39/39 [==============================] - 2s 59ms/step - loss: 1.7138e-04\n",
            "Epoch 27/100\n",
            "39/39 [==============================] - 2s 59ms/step - loss: 1.6501e-04\n",
            "Epoch 28/100\n",
            "39/39 [==============================] - 2s 59ms/step - loss: 1.6610e-04\n",
            "Epoch 29/100\n",
            "39/39 [==============================] - 2s 60ms/step - loss: 1.6218e-04\n",
            "Epoch 30/100\n",
            "39/39 [==============================] - 2s 59ms/step - loss: 1.5927e-04\n",
            "Epoch 31/100\n",
            "39/39 [==============================] - 2s 59ms/step - loss: 1.4469e-04\n",
            "Epoch 32/100\n",
            "39/39 [==============================] - 2s 59ms/step - loss: 1.6372e-04\n",
            "Epoch 33/100\n",
            "39/39 [==============================] - 2s 60ms/step - loss: 1.5548e-04\n",
            "Epoch 34/100\n",
            "39/39 [==============================] - 2s 60ms/step - loss: 1.7792e-04\n",
            "Epoch 35/100\n",
            "39/39 [==============================] - 2s 59ms/step - loss: 1.5637e-04\n",
            "Epoch 36/100\n",
            "39/39 [==============================] - 2s 60ms/step - loss: 1.4334e-04\n",
            "Epoch 37/100\n",
            "39/39 [==============================] - 2s 60ms/step - loss: 1.5400e-04\n",
            "Epoch 38/100\n",
            "39/39 [==============================] - 2s 64ms/step - loss: 1.1995e-04\n",
            "Epoch 39/100\n",
            "39/39 [==============================] - 2s 60ms/step - loss: 1.5222e-04\n",
            "Epoch 40/100\n",
            "39/39 [==============================] - 2s 63ms/step - loss: 1.2990e-04\n",
            "Epoch 41/100\n",
            "39/39 [==============================] - 2s 60ms/step - loss: 1.2560e-04\n",
            "Epoch 42/100\n",
            "39/39 [==============================] - 2s 61ms/step - loss: 1.3024e-04\n",
            "Epoch 43/100\n",
            "39/39 [==============================] - 2s 60ms/step - loss: 1.4089e-04\n",
            "Epoch 44/100\n",
            "39/39 [==============================] - 2s 59ms/step - loss: 1.3931e-04\n",
            "Epoch 45/100\n",
            "39/39 [==============================] - 2s 59ms/step - loss: 1.2147e-04\n",
            "Epoch 46/100\n",
            "39/39 [==============================] - 2s 59ms/step - loss: 1.1541e-04\n",
            "Epoch 47/100\n",
            "39/39 [==============================] - 2s 60ms/step - loss: 1.2666e-04\n",
            "Epoch 48/100\n",
            "39/39 [==============================] - 2s 60ms/step - loss: 1.3406e-04\n",
            "Epoch 49/100\n",
            "39/39 [==============================] - 2s 61ms/step - loss: 1.4728e-04\n",
            "Epoch 50/100\n",
            "39/39 [==============================] - 2s 60ms/step - loss: 1.5333e-04\n",
            "Epoch 51/100\n",
            "39/39 [==============================] - 2s 60ms/step - loss: 1.1761e-04\n",
            "Epoch 52/100\n",
            "39/39 [==============================] - 2s 60ms/step - loss: 1.2289e-04\n",
            "Epoch 53/100\n",
            "39/39 [==============================] - 2s 60ms/step - loss: 1.2057e-04\n",
            "Epoch 54/100\n",
            "39/39 [==============================] - 2s 60ms/step - loss: 1.2198e-04\n",
            "Epoch 55/100\n",
            "39/39 [==============================] - 2s 61ms/step - loss: 1.2648e-04\n",
            "Epoch 56/100\n",
            "39/39 [==============================] - 2s 61ms/step - loss: 1.1134e-04\n",
            "Epoch 57/100\n",
            "39/39 [==============================] - 2s 61ms/step - loss: 1.2802e-04\n",
            "Epoch 58/100\n",
            "39/39 [==============================] - 2s 61ms/step - loss: 1.2313e-04\n",
            "Epoch 59/100\n",
            "39/39 [==============================] - 2s 60ms/step - loss: 9.6195e-05\n",
            "Epoch 60/100\n",
            "39/39 [==============================] - 2s 60ms/step - loss: 1.0050e-04\n",
            "Epoch 61/100\n",
            "39/39 [==============================] - 2s 61ms/step - loss: 1.1178e-04\n",
            "Epoch 62/100\n",
            "39/39 [==============================] - 2s 60ms/step - loss: 1.0297e-04\n",
            "Epoch 63/100\n",
            "39/39 [==============================] - 2s 59ms/step - loss: 1.1368e-04\n",
            "Epoch 64/100\n",
            "39/39 [==============================] - 2s 60ms/step - loss: 9.8079e-05\n",
            "Epoch 65/100\n",
            "39/39 [==============================] - 2s 60ms/step - loss: 9.6025e-05\n",
            "Epoch 66/100\n",
            "39/39 [==============================] - 2s 60ms/step - loss: 9.9884e-05\n",
            "Epoch 67/100\n",
            "39/39 [==============================] - 2s 60ms/step - loss: 1.2088e-04\n",
            "Epoch 68/100\n",
            "39/39 [==============================] - 2s 63ms/step - loss: 1.0353e-04\n",
            "Epoch 69/100\n",
            "39/39 [==============================] - 2s 60ms/step - loss: 8.9779e-05\n",
            "Epoch 70/100\n",
            "39/39 [==============================] - 2s 60ms/step - loss: 1.0961e-04\n",
            "Epoch 71/100\n",
            "39/39 [==============================] - 2s 61ms/step - loss: 9.7754e-05\n",
            "Epoch 72/100\n",
            "39/39 [==============================] - 2s 60ms/step - loss: 9.4619e-05\n",
            "Epoch 73/100\n",
            "39/39 [==============================] - 2s 60ms/step - loss: 1.0429e-04\n",
            "Epoch 74/100\n",
            "39/39 [==============================] - 2s 60ms/step - loss: 1.0498e-04\n",
            "Epoch 75/100\n",
            "39/39 [==============================] - 2s 61ms/step - loss: 9.9188e-05\n",
            "Epoch 76/100\n",
            "39/39 [==============================] - 2s 61ms/step - loss: 8.8209e-05\n",
            "Epoch 77/100\n",
            "39/39 [==============================] - 2s 61ms/step - loss: 8.9388e-05\n",
            "Epoch 78/100\n",
            "39/39 [==============================] - 2s 61ms/step - loss: 9.1981e-05\n",
            "Epoch 79/100\n",
            "39/39 [==============================] - 2s 60ms/step - loss: 9.0135e-05\n",
            "Epoch 80/100\n",
            "39/39 [==============================] - 2s 61ms/step - loss: 9.1139e-05\n",
            "Epoch 81/100\n",
            "39/39 [==============================] - 2s 62ms/step - loss: 9.3814e-05\n",
            "Epoch 82/100\n",
            "39/39 [==============================] - 2s 60ms/step - loss: 8.4624e-05\n",
            "Epoch 83/100\n",
            "39/39 [==============================] - 2s 60ms/step - loss: 8.8755e-05\n",
            "Epoch 84/100\n",
            "39/39 [==============================] - 2s 61ms/step - loss: 1.0416e-04\n",
            "Epoch 85/100\n",
            "39/39 [==============================] - 2s 61ms/step - loss: 9.4443e-05\n",
            "Epoch 86/100\n",
            "39/39 [==============================] - 2s 60ms/step - loss: 8.3229e-05\n",
            "Epoch 87/100\n",
            "39/39 [==============================] - 2s 61ms/step - loss: 9.1195e-05\n",
            "Epoch 88/100\n",
            "39/39 [==============================] - 2s 60ms/step - loss: 9.1353e-05\n",
            "Epoch 89/100\n",
            "39/39 [==============================] - 2s 60ms/step - loss: 8.6056e-05\n",
            "Epoch 90/100\n",
            "39/39 [==============================] - 2s 60ms/step - loss: 9.9114e-05\n",
            "Epoch 91/100\n",
            "39/39 [==============================] - 2s 60ms/step - loss: 9.2488e-05\n",
            "Epoch 92/100\n",
            "39/39 [==============================] - 2s 60ms/step - loss: 9.5357e-05\n",
            "Epoch 93/100\n",
            "39/39 [==============================] - 2s 60ms/step - loss: 9.9664e-05\n",
            "Epoch 94/100\n",
            "39/39 [==============================] - 2s 60ms/step - loss: 8.5409e-05\n",
            "Epoch 95/100\n",
            "39/39 [==============================] - 2s 61ms/step - loss: 8.4292e-05\n",
            "Epoch 96/100\n",
            "39/39 [==============================] - 2s 60ms/step - loss: 7.9898e-05\n",
            "Epoch 97/100\n",
            "39/39 [==============================] - 2s 62ms/step - loss: 8.4470e-05\n",
            "Epoch 98/100\n",
            "39/39 [==============================] - 2s 61ms/step - loss: 8.5068e-05\n",
            "Epoch 99/100\n",
            "39/39 [==============================] - 2s 60ms/step - loss: 9.7919e-05\n",
            "Epoch 100/100\n",
            "39/39 [==============================] - 2s 61ms/step - loss: 8.0293e-05\n"
          ]
        },
        {
          "output_type": "execute_result",
          "data": {
            "text/plain": [
              "<keras.callbacks.History at 0x7f9f741786d0>"
            ]
          },
          "metadata": {},
          "execution_count": 236
        }
      ]
    },
    {
      "cell_type": "code",
      "source": [
        "# Create the testing data set\n",
        "# Create a new array containing scale values from index .... to the end of data set\n",
        "test_data = scaled_data[training_data_len-30:,:]"
      ],
      "metadata": {
        "id": "aYO2Nzy4VmXl"
      },
      "execution_count": 237,
      "outputs": []
    },
    {
      "cell_type": "code",
      "source": [
        "# Created the data set x_test and y_test\n",
        "x_test = []\n",
        "y_test = BTC1[training_data_len:,:]#---rest of the data\n",
        "for i in range(30, len(test_data)):\n",
        "    x_test.append(test_data[i-30:i,0])"
      ],
      "metadata": {
        "id": "q1U3wW46VmdW"
      },
      "execution_count": 238,
      "outputs": []
    },
    {
      "cell_type": "code",
      "source": [
        "# Convert the Data to a numpy array\n",
        "x_test = np.array(x_test)"
      ],
      "metadata": {
        "id": "UN5sgXFXVmiz"
      },
      "execution_count": 239,
      "outputs": []
    },
    {
      "cell_type": "code",
      "source": [
        "# Reshape the Data\n",
        "x_test = np.reshape(x_test, (x_test.shape[0], x_test.shape[1],1))"
      ],
      "metadata": {
        "id": "5jpuQtVCVmvE"
      },
      "execution_count": 240,
      "outputs": []
    },
    {
      "cell_type": "code",
      "source": [
        "# Get the model predicted price values / Denormalize\n",
        "predictions = model.predict(x_test)\n",
        "predictions = scaler.inverse_transform(predictions)"
      ],
      "metadata": {
        "id": "pNYqyqIMAJjS"
      },
      "execution_count": 241,
      "outputs": []
    },
    {
      "cell_type": "code",
      "source": [
        "from sklearn.metrics import mean_absolute_percentage_error\n",
        "MAPE = mean_absolute_percentage_error(y_test, predictions)*100\n",
        "print(MAPE)"
      ],
      "metadata": {
        "colab": {
          "base_uri": "https://localhost:8080/"
        },
        "id": "lf6r2PKZiIvI",
        "outputId": "36884b37-71ae-4baf-e577-6fc60d2ea1b2"
      },
      "execution_count": 242,
      "outputs": [
        {
          "output_type": "stream",
          "name": "stdout",
          "text": [
            "9.43969329939092\n"
          ]
        }
      ]
    },
    {
      "cell_type": "code",
      "source": [
        "# Plot the Data\n",
        "train = BTC[:training_data_len]\n",
        "valid = BTC[training_data_len:]\n",
        "valid[\"predictions\"] = predictions"
      ],
      "metadata": {
        "id": "4MedpVeXWg4c"
      },
      "execution_count": null,
      "outputs": []
    },
    {
      "cell_type": "code",
      "source": [
        "# Visualize the Data\n",
        "plt.figure(figsize=(16,8))\n",
        "plt.title(\"Prediction model of Bitcoin Closing Price\", fontsize = 18)\n",
        "plt.xlabel(\"Date\",fontsize = 18)\n",
        "plt.ylabel(\"Close Price\", fontsize = 18)\n",
        "plt.plot(train[\"Close\"])\n",
        "plt.plot(valid[[\"Close\",\"predictions\"]])\n",
        "plt.legend([\"Train\",\"Valid\",\"predictions\"],loc=\"lower right\")\n",
        "plt.grid()\n",
        "plt.show()"
      ],
      "metadata": {
        "colab": {
          "base_uri": "https://localhost:8080/",
          "height": 521
        },
        "id": "V8gHj7ErWmaX",
        "outputId": "ba29b66a-af3d-4166-9284-23deded89ac6"
      },
      "execution_count": 244,
      "outputs": [
        {
          "output_type": "display_data",
          "data": {
            "text/plain": [
              "<Figure size 1152x576 with 1 Axes>"
            ],
            "image/png": "[encoded data removed]"
          },
          "metadata": {
            "needs_background": "light"
          }
        }
      ]
    },
    {
      "cell_type": "code",
      "source": [
        "#Show The Valid and Predicted Prices\n",
        "valid[[\"Close\" , \"predictions\"]]"
      ],
      "metadata": {
        "colab": {
          "base_uri": "https://localhost:8080/",
          "height": 455
        },
        "id": "SHFrHvafW22Z",
        "outputId": "65886424-1819-48c7-acc6-38f61d9f1fa2"
      },
      "execution_count": 245,
      "outputs": [
        {
          "output_type": "execute_result",
          "data": {
            "text/plain": [
              "                   Close   predictions\n",
              "Date                                  \n",
              "2020-08-19  11758.283203  11920.902344\n",
              "2020-08-20  11878.372070  11723.311523\n",
              "2020-08-21  11592.489258  11727.106445\n",
              "2020-08-22  11681.825195  11584.745117\n",
              "2020-08-23  11664.847656  11582.335938\n",
              "...                  ...           ...\n",
              "2021-06-26  32186.277344  28370.703125\n",
              "2021-06-27  34649.644531  28796.580078\n",
              "2021-06-28  34434.335938  31216.191406\n",
              "2021-06-29  35867.777344  30932.990234\n",
              "2021-06-30  35040.835938  32053.269531\n",
              "\n",
              "[316 rows x 2 columns]"
            ],
            "text/html": [
              "\n",
              "  <div id=\"df-672d7039-7fac-46fe-868e-50372abb0612\">\n",
              "    <div class=\"colab-df-container\">\n",
              "      <div>\n",
              "<style scoped>\n",
              "    .dataframe tbody tr th:only-of-type {\n",
              "        vertical-align: middle;\n",
              "    }\n",
              "\n",
              "    .dataframe tbody tr th {\n",
              "        vertical-align: top;\n",
              "    }\n",
              "\n",
              "    .dataframe thead th {\n",
              "        text-align: right;\n",
              "    }\n",
              "</style>\n",
              "<table border=\"1\" class=\"dataframe\">\n",
              "  <thead>\n",
              "    <tr style=\"text-align: right;\">\n",
              "      <th></th>\n",
              "      <th>Close</th>\n",
              "      <th>predictions</th>\n",
              "    </tr>\n",
              "    <tr>\n",
              "      <th>Date</th>\n",
              "      <th></th>\n",
              "      <th></th>\n",
              "    </tr>\n",
              "  </thead>\n",
              "  <tbody>\n",
              "    <tr>\n",
              "      <th>2020-08-19</th>\n",
              "      <td>11758.283203</td>\n",
              "      <td>11920.902344</td>\n",
              "    </tr>\n",
              "    <tr>\n",
              "      <th>2020-08-20</th>\n",
              "      <td>11878.372070</td>\n",
              "      <td>11723.311523</td>\n",
              "    </tr>\n",
              "    <tr>\n",
              "      <th>2020-08-21</th>\n",
              "      <td>11592.489258</td>\n",
              "      <td>11727.106445</td>\n",
              "    </tr>\n",
              "    <tr>\n",
              "      <th>2020-08-22</th>\n",
              "      <td>11681.825195</td>\n",
              "      <td>11584.745117</td>\n",
              "    </tr>\n",
              "    <tr>\n",
              "      <th>2020-08-23</th>\n",
              "      <td>11664.847656</td>\n",
              "      <td>11582.335938</td>\n",
              "    </tr>\n",
              "    <tr>\n",
              "      <th>...</th>\n",
              "      <td>...</td>\n",
              "      <td>...</td>\n",
              "    </tr>\n",
              "    <tr>\n",
              "      <th>2021-06-26</th>\n",
              "      <td>32186.277344</td>\n",
              "      <td>28370.703125</td>\n",
              "    </tr>\n",
              "    <tr>\n",
              "      <th>2021-06-27</th>\n",
              "      <td>34649.644531</td>\n",
              "      <td>28796.580078</td>\n",
              "    </tr>\n",
              "    <tr>\n",
              "      <th>2021-06-28</th>\n",
              "      <td>34434.335938</td>\n",
              "      <td>31216.191406</td>\n",
              "    </tr>\n",
              "    <tr>\n",
              "      <th>2021-06-29</th>\n",
              "      <td>35867.777344</td>\n",
              "      <td>30932.990234</td>\n",
              "    </tr>\n",
              "    <tr>\n",
              "      <th>2021-06-30</th>\n",
              "      <td>35040.835938</td>\n",
              "      <td>32053.269531</td>\n",
              "    </tr>\n",
              "  </tbody>\n",
              "</table>\n",
              "<p>316 rows × 2 columns</p>\n",
              "</div>\n",
              "      <button class=\"colab-df-convert\" onclick=\"convertToInteractive('df-672d7039-7fac-46fe-868e-50372abb0612')\"\n",
              "              title=\"Convert this dataframe to an interactive table.\"\n",
              "              style=\"display:none;\">\n",
              "        \n",
              "  <svg xmlns=\"http://www.w3.org/2000/svg\" height=\"24px\"viewBox=\"0 0 24 24\"\n",
              "       width=\"24px\">\n",
              "    <path d=\"M0 0h24v24H0V0z\" fill=\"none\"/>\n",
              "    <path d=\"M18.56 5.44l.94 2.06.94-2.06 2.06-.94-2.06-.94-.94-2.06-.94 2.06-2.06.94zm-11 1L8.5 8.5l.94-2.06 2.06-.94-2.06-.94L8.5 2.5l-.94 2.06-2.06.94zm10 10l.94 2.06.94-2.06 2.06-.94-2.06-.94-.94-2.06-.94 2.06-2.06.94z\"/><path d=\"M17.41 7.96l-1.37-1.37c-.4-.4-.92-.59-1.43-.59-.52 0-1.04.2-1.43.59L10.3 9.45l-7.72 7.72c-.78.78-.78 2.05 0 2.83L4 21.41c.39.39.9.59 1.41.59.51 0 1.02-.2 1.41-.59l7.78-7.78 2.81-2.81c.8-.78.8-2.07 0-2.86zM5.41 20L4 18.59l7.72-7.72 1.47 1.35L5.41 20z\"/>\n",
              "  </svg>\n",
              "      </button>\n",
              "      \n",
              "  <style>\n",
              "    .colab-df-container {\n",
              "      display:flex;\n",
              "      flex-wrap:wrap;\n",
              "      gap: 12px;\n",
              "    }\n",
              "\n",
              "    .colab-df-convert {\n",
              "      background-color: #E8F0FE;\n",
              "      border: none;\n",
              "      border-radius: 50%;\n",
              "      cursor: pointer;\n",
              "      display: none;\n",
              "      fill: #1967D2;\n",
              "      height: 32px;\n",
              "      padding: 0 0 0 0;\n",
              "      width: 32px;\n",
              "    }\n",
              "\n",
              "    .colab-df-convert:hover {\n",
              "      background-color: #E2EBFA;\n",
              "      box-shadow: 0px 1px 2px rgba(60, 64, 67, 0.3), 0px 1px 3px 1px rgba(60, 64, 67, 0.15);\n",
              "      fill: #174EA6;\n",
              "    }\n",
              "\n",
              "    [theme=dark] .colab-df-convert {\n",
              "      background-color: #3B4455;\n",
              "      fill: #D2E3FC;\n",
              "    }\n",
              "\n",
              "    [theme=dark] .colab-df-convert:hover {\n",
              "      background-color: #434B5C;\n",
              "      box-shadow: 0px 1px 3px 1px rgba(0, 0, 0, 0.15);\n",
              "      filter: drop-shadow(0px 1px 2px rgba(0, 0, 0, 0.3));\n",
              "      fill: #FFFFFF;\n",
              "    }\n",
              "  </style>\n",
              "\n",
              "      <script>\n",
              "        const buttonEl =\n",
              "          document.querySelector('#df-672d7039-7fac-46fe-868e-50372abb0612 button.colab-df-convert');\n",
              "        buttonEl.style.display =\n",
              "          google.colab.kernel.accessAllowed ? 'block' : 'none';\n",
              "\n",
              "        async function convertToInteractive(key) {\n",
              "          const element = document.querySelector('#df-672d7039-7fac-46fe-868e-50372abb0612');\n",
              "          const dataTable =\n",
              "            await google.colab.kernel.invokeFunction('convertToInteractive',\n",
              "                                                     [key], {});\n",
              "          if (!dataTable) return;\n",
              "\n",
              "          const docLinkHtml = 'Like what you see? Visit the ' +\n",
              "            '<a target=\"_blank\" href=https://colab.research.google.com/notebooks/data_table.ipynb>data table notebook</a>'\n",
              "            + ' to learn more about interactive tables.';\n",
              "          element.innerHTML = '';\n",
              "          dataTable['output_type'] = 'display_data';\n",
              "          await google.colab.output.renderOutput(dataTable, element);\n",
              "          const docLink = document.createElement('div');\n",
              "          docLink.innerHTML = docLinkHtml;\n",
              "          element.appendChild(docLink);\n",
              "        }\n",
              "      </script>\n",
              "    </div>\n",
              "  </div>\n",
              "  "
            ]
          },
          "metadata": {},
          "execution_count": 245
        }
      ]
    },
    {
      "cell_type": "code",
      "source": [
        "valid2 = valid[[\"Close\" , \"predictions\"]]\n",
        "valid2.head(20)"
      ],
      "metadata": {
        "id": "JRR5BnEbBq-U",
        "colab": {
          "base_uri": "https://localhost:8080/",
          "height": 708
        },
        "outputId": "b33b8101-6c7b-4f3a-ce37-7c69e5f8055d"
      },
      "execution_count": 246,
      "outputs": [
        {
          "output_type": "execute_result",
          "data": {
            "text/plain": [
              "                   Close   predictions\n",
              "Date                                  \n",
              "2020-08-19  11758.283203  11920.902344\n",
              "2020-08-20  11878.372070  11723.311523\n",
              "2020-08-21  11592.489258  11727.106445\n",
              "2020-08-22  11681.825195  11584.745117\n",
              "2020-08-23  11664.847656  11582.335938\n",
              "2020-08-24  11774.595703  11589.115234\n",
              "2020-08-25  11366.134766  11656.359375\n",
              "2020-08-26  11488.363281  11431.751953\n",
              "2020-08-27  11323.397461  11398.187500\n",
              "2020-08-28  11542.500000  11310.208984\n",
              "2020-08-29  11506.865234  11407.407227\n",
              "2020-08-30  11711.505859  11435.666992\n",
              "2020-08-31  11680.820313  11555.675781\n",
              "2020-09-01  11970.478516  11580.726562\n",
              "2020-09-02  11414.034180  11750.860352\n",
              "2020-09-03  10245.296875  11481.271484\n",
              "2020-09-04  10511.813477  10654.120117\n",
              "2020-09-05  10169.567383  10490.969727\n",
              "2020-09-06  10280.351563  10331.341797\n",
              "2020-09-07  10369.563477  10344.307617"
            ],
            "text/html": [
              "\n",
              "  <div id=\"df-de3e8cec-b085-4f8b-8749-83d0561345bf\">\n",
              "    <div class=\"colab-df-container\">\n",
              "      <div>\n",
              "<style scoped>\n",
              "    .dataframe tbody tr th:only-of-type {\n",
              "        vertical-align: middle;\n",
              "    }\n",
              "\n",
              "    .dataframe tbody tr th {\n",
              "        vertical-align: top;\n",
              "    }\n",
              "\n",
              "    .dataframe thead th {\n",
              "        text-align: right;\n",
              "    }\n",
              "</style>\n",
              "<table border=\"1\" class=\"dataframe\">\n",
              "  <thead>\n",
              "    <tr style=\"text-align: right;\">\n",
              "      <th></th>\n",
              "      <th>Close</th>\n",
              "      <th>predictions</th>\n",
              "    </tr>\n",
              "    <tr>\n",
              "      <th>Date</th>\n",
              "      <th></th>\n",
              "      <th></th>\n",
              "    </tr>\n",
              "  </thead>\n",
              "  <tbody>\n",
              "    <tr>\n",
              "      <th>2020-08-19</th>\n",
              "      <td>11758.283203</td>\n",
              "      <td>11920.902344</td>\n",
              "    </tr>\n",
              "    <tr>\n",
              "      <th>2020-08-20</th>\n",
              "      <td>11878.372070</td>\n",
              "      <td>11723.311523</td>\n",
              "    </tr>\n",
              "    <tr>\n",
              "      <th>2020-08-21</th>\n",
              "      <td>11592.489258</td>\n",
              "      <td>11727.106445</td>\n",
              "    </tr>\n",
              "    <tr>\n",
              "      <th>2020-08-22</th>\n",
              "      <td>11681.825195</td>\n",
              "      <td>11584.745117</td>\n",
              "    </tr>\n",
              "    <tr>\n",
              "      <th>2020-08-23</th>\n",
              "      <td>11664.847656</td>\n",
              "      <td>11582.335938</td>\n",
              "    </tr>\n",
              "    <tr>\n",
              "      <th>2020-08-24</th>\n",
              "      <td>11774.595703</td>\n",
              "      <td>11589.115234</td>\n",
              "    </tr>\n",
              "    <tr>\n",
              "      <th>2020-08-25</th>\n",
              "      <td>11366.134766</td>\n",
              "      <td>11656.359375</td>\n",
              "    </tr>\n",
              "    <tr>\n",
              "      <th>2020-08-26</th>\n",
              "      <td>11488.363281</td>\n",
              "      <td>11431.751953</td>\n",
              "    </tr>\n",
              "    <tr>\n",
              "      <th>2020-08-27</th>\n",
              "      <td>11323.397461</td>\n",
              "      <td>11398.187500</td>\n",
              "    </tr>\n",
              "    <tr>\n",
              "      <th>2020-08-28</th>\n",
              "      <td>11542.500000</td>\n",
              "      <td>11310.208984</td>\n",
              "    </tr>\n",
              "    <tr>\n",
              "      <th>2020-08-29</th>\n",
              "      <td>11506.865234</td>\n",
              "      <td>11407.407227</td>\n",
              "    </tr>\n",
              "    <tr>\n",
              "      <th>2020-08-30</th>\n",
              "      <td>11711.505859</td>\n",
              "      <td>11435.666992</td>\n",
              "    </tr>\n",
              "    <tr>\n",
              "      <th>2020-08-31</th>\n",
              "      <td>11680.820313</td>\n",
              "      <td>11555.675781</td>\n",
              "    </tr>\n",
              "    <tr>\n",
              "      <th>2020-09-01</th>\n",
              "      <td>11970.478516</td>\n",
              "      <td>11580.726562</td>\n",
              "    </tr>\n",
              "    <tr>\n",
              "      <th>2020-09-02</th>\n",
              "      <td>11414.034180</td>\n",
              "      <td>11750.860352</td>\n",
              "    </tr>\n",
              "    <tr>\n",
              "      <th>2020-09-03</th>\n",
              "      <td>10245.296875</td>\n",
              "      <td>11481.271484</td>\n",
              "    </tr>\n",
              "    <tr>\n",
              "      <th>2020-09-04</th>\n",
              "      <td>10511.813477</td>\n",
              "      <td>10654.120117</td>\n",
              "    </tr>\n",
              "    <tr>\n",
              "      <th>2020-09-05</th>\n",
              "      <td>10169.567383</td>\n",
              "      <td>10490.969727</td>\n",
              "    </tr>\n",
              "    <tr>\n",
              "      <th>2020-09-06</th>\n",
              "      <td>10280.351563</td>\n",
              "      <td>10331.341797</td>\n",
              "    </tr>\n",
              "    <tr>\n",
              "      <th>2020-09-07</th>\n",
              "      <td>10369.563477</td>\n",
              "      <td>10344.307617</td>\n",
              "    </tr>\n",
              "  </tbody>\n",
              "</table>\n",
              "</div>\n",
              "      <button class=\"colab-df-convert\" onclick=\"convertToInteractive('df-de3e8cec-b085-4f8b-8749-83d0561345bf')\"\n",
              "              title=\"Convert this dataframe to an interactive table.\"\n",
              "              style=\"display:none;\">\n",
              "        \n",
              "  <svg xmlns=\"http://www.w3.org/2000/svg\" height=\"24px\"viewBox=\"0 0 24 24\"\n",
              "       width=\"24px\">\n",
              "    <path d=\"M0 0h24v24H0V0z\" fill=\"none\"/>\n",
              "    <path d=\"M18.56 5.44l.94 2.06.94-2.06 2.06-.94-2.06-.94-.94-2.06-.94 2.06-2.06.94zm-11 1L8.5 8.5l.94-2.06 2.06-.94-2.06-.94L8.5 2.5l-.94 2.06-2.06.94zm10 10l.94 2.06.94-2.06 2.06-.94-2.06-.94-.94-2.06-.94 2.06-2.06.94z\"/><path d=\"M17.41 7.96l-1.37-1.37c-.4-.4-.92-.59-1.43-.59-.52 0-1.04.2-1.43.59L10.3 9.45l-7.72 7.72c-.78.78-.78 2.05 0 2.83L4 21.41c.39.39.9.59 1.41.59.51 0 1.02-.2 1.41-.59l7.78-7.78 2.81-2.81c.8-.78.8-2.07 0-2.86zM5.41 20L4 18.59l7.72-7.72 1.47 1.35L5.41 20z\"/>\n",
              "  </svg>\n",
              "      </button>\n",
              "      \n",
              "  <style>\n",
              "    .colab-df-container {\n",
              "      display:flex;\n",
              "      flex-wrap:wrap;\n",
              "      gap: 12px;\n",
              "    }\n",
              "\n",
              "    .colab-df-convert {\n",
              "      background-color: #E8F0FE;\n",
              "      border: none;\n",
              "      border-radius: 50%;\n",
              "      cursor: pointer;\n",
              "      display: none;\n",
              "      fill: #1967D2;\n",
              "      height: 32px;\n",
              "      padding: 0 0 0 0;\n",
              "      width: 32px;\n",
              "    }\n",
              "\n",
              "    .colab-df-convert:hover {\n",
              "      background-color: #E2EBFA;\n",
              "      box-shadow: 0px 1px 2px rgba(60, 64, 67, 0.3), 0px 1px 3px 1px rgba(60, 64, 67, 0.15);\n",
              "      fill: #174EA6;\n",
              "    }\n",
              "\n",
              "    [theme=dark] .colab-df-convert {\n",
              "      background-color: #3B4455;\n",
              "      fill: #D2E3FC;\n",
              "    }\n",
              "\n",
              "    [theme=dark] .colab-df-convert:hover {\n",
              "      background-color: #434B5C;\n",
              "      box-shadow: 0px 1px 3px 1px rgba(0, 0, 0, 0.15);\n",
              "      filter: drop-shadow(0px 1px 2px rgba(0, 0, 0, 0.3));\n",
              "      fill: #FFFFFF;\n",
              "    }\n",
              "  </style>\n",
              "\n",
              "      <script>\n",
              "        const buttonEl =\n",
              "          document.querySelector('#df-de3e8cec-b085-4f8b-8749-83d0561345bf button.colab-df-convert');\n",
              "        buttonEl.style.display =\n",
              "          google.colab.kernel.accessAllowed ? 'block' : 'none';\n",
              "\n",
              "        async function convertToInteractive(key) {\n",
              "          const element = document.querySelector('#df-de3e8cec-b085-4f8b-8749-83d0561345bf');\n",
              "          const dataTable =\n",
              "            await google.colab.kernel.invokeFunction('convertToInteractive',\n",
              "                                                     [key], {});\n",
              "          if (!dataTable) return;\n",
              "\n",
              "          const docLinkHtml = 'Like what you see? Visit the ' +\n",
              "            '<a target=\"_blank\" href=https://colab.research.google.com/notebooks/data_table.ipynb>data table notebook</a>'\n",
              "            + ' to learn more about interactive tables.';\n",
              "          element.innerHTML = '';\n",
              "          dataTable['output_type'] = 'display_data';\n",
              "          await google.colab.output.renderOutput(dataTable, element);\n",
              "          const docLink = document.createElement('div');\n",
              "          docLink.innerHTML = docLinkHtml;\n",
              "          element.appendChild(docLink);\n",
              "        }\n",
              "      </script>\n",
              "    </div>\n",
              "  </div>\n",
              "  "
            ]
          },
          "metadata": {},
          "execution_count": 246
        }
      ]
    },
    {
      "cell_type": "code",
      "source": [
        "# Get the RMSE\n",
        "rmse = np.sqrt(np.mean(predictions - y_test)**2)\n",
        "rmse"
      ],
      "metadata": {
        "colab": {
          "base_uri": "https://localhost:8080/"
        },
        "id": "c9cBKlT7wnLU",
        "outputId": "5de70361-3146-4676-a46c-3dd50fa6860c"
      },
      "execution_count": 247,
      "outputs": [
        {
          "output_type": "execute_result",
          "data": {
            "text/plain": [
              "3989.044344052215"
            ]
          },
          "metadata": {},
          "execution_count": 247
        }
      ]
    },
    {
      "cell_type": "code",
      "source": [
        "BTC[\"Close\"].plot(figsize=(18,8))"
      ],
      "metadata": {
        "id": "U5jgN17I5PEn"
      },
      "execution_count": null,
      "outputs": []
    },
    {
      "cell_type": "code",
      "source": [
        "# Visualize the Data\n",
        "plt.figure(figsize=(16,8))\n",
        "plt.title(\"Prediction model of BITCOIN Closing Price\")\n",
        "plt.ylabel(\"Close Price\", fontsize = 18)\n",
        "plt.plot(train[\"Close\"], color=\"yellow\")\n",
        "plt.plot(valid[\"predictions\"],color=\"orange\")\n",
        "plt.plot(valid[\"Close\"],color=\"indianred\")\n",
        "plt.legend([\"Train\",\"Valid\",\"Prediction\"])\n",
        "BTC[\"Close\"].plot(figsize=(18,8))\n",
        "plt.grid()\n",
        "plt.show()"
      ],
      "metadata": {
        "colab": {
          "base_uri": "https://localhost:8080/",
          "height": 513
        },
        "id": "mYEv5qgR8yRB",
        "outputId": "ffc0ecd2-c19e-4af9-e0ee-1fb7c69c0e94"
      },
      "execution_count": 250,
      "outputs": [
        {
          "output_type": "display_data",
          "data": {
            "text/plain": [
              "<Figure size 1296x576 with 1 Axes>"
            ],
            "image/png": "[encoded data removed]"
          },
          "metadata": {
            "needs_background": "light"
          }
        }
      ]
    }
  ]
}