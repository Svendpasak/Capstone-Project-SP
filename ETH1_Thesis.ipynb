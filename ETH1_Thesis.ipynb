{
  "nbformat": 4,
  "nbformat_minor": 0,
  "metadata": {
    "colab": {
      "name": "ETH1-Thesis.ipynb",
      "provenance": [],
      "collapsed_sections": [],
      "authorship_tag": "ABX9TyM6z55XM4PRsbS/9cBZ2Fbu",
      "include_colab_link": true
    },
    "kernelspec": {
      "name": "python3",
      "display_name": "Python 3"
    },
    "language_info": {
      "name": "python"
    }
  },
  "cells": [
    {
      "cell_type": "markdown",
      "metadata": {
        "id": "view-in-github",
        "colab_type": "text"
      },
      "source": [
        "<a href=\"https://colab.research.google.com/github/Svendpasak/Capstone-Project-SP/blob/master/ETH1_Thesis.ipynb\" target=\"_parent\"><img src=\"https://colab.research.google.com/assets/colab-badge.svg\" alt=\"Open In Colab\"/></a>"
      ]
    },
    {
      "cell_type": "code",
      "execution_count": 3,
      "metadata": {
        "id": "Ap0fHVuzV9LD"
      },
      "outputs": [],
      "source": [
        "# Tahap Preprocessing\n",
        "import keras\n",
        "import math\n",
        "import pandas as pd\n",
        "import numpy as np\n",
        "import tensorflow as tf\n",
        "import random as set_random_seed\n",
        "from sklearn.preprocessing import MinMaxScaler\n",
        "from pandas.core.common import random_state\n",
        "from sklearn.model_selection import train_test_split\n",
        "from keras.models import sequential\n",
        "from keras.layers import Dense,LSTM, Dropout\n",
        "import matplotlib.pyplot as plt\n",
        "from tensorflow.keras import layers,Sequential\n",
        "from tensorflow.keras.models import Model\n",
        "from tensorflow.python.keras import Sequential\n",
        "plt.style.use(\"fivethirtyeight\")\n",
        "#import random as set_random_seed"
      ]
    },
    {
      "cell_type": "code",
      "source": [
        "from google.colab import files\n",
        "uploaded = files.upload() "
      ],
      "metadata": {
        "colab": {
          "resources": {
            "http://localhost:8080/nbextensions/google.colab/files.js": {
              "data": "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",
              "ok": true,
              "headers": [
                [
                  "content-type",
                  "application/javascript"
                ]
              ],
              "status": 200,
              "status_text": ""
            }
          },
          "base_uri": "https://localhost:8080/",
          "height": 74
        },
        "id": "gP4rujziWIRQ",
        "outputId": "49b1fdd1-8f77-4aaf-8a9b-0d65a6fb171f"
      },
      "execution_count": 31,
      "outputs": [
        {
          "output_type": "display_data",
          "data": {
            "text/plain": [
              "<IPython.core.display.HTML object>"
            ],
            "text/html": [
              "\n",
              "     <input type=\"file\" id=\"files-2236df89-e6de-4733-b75b-ba157ec4c3c2\" name=\"files[]\" multiple disabled\n",
              "        style=\"border:none\" />\n",
              "     <output id=\"result-2236df89-e6de-4733-b75b-ba157ec4c3c2\">\n",
              "      Upload widget is only available when the cell has been executed in the\n",
              "      current browser session. Please rerun this cell to enable.\n",
              "      </output>\n",
              "      <script src=\"/nbextensions/google.colab/files.js\"></script> "
            ]
          },
          "metadata": {}
        },
        {
          "output_type": "stream",
          "name": "stdout",
          "text": [
            "Saving ETH-USD.csv to ETH-USD.csv\n"
          ]
        }
      ]
    },
    {
      "cell_type": "code",
      "source": [
        "df = pd.read_csv(\"data set ETH-USD.csv\", index_col=0)\n",
        "df.head(6)"
      ],
      "metadata": {
        "colab": {
          "base_uri": "https://localhost:8080/",
          "height": 269
        },
        "id": "2GKogTmuWhWt",
        "outputId": "f40484e4-c060-4ec3-90b1-82de3398f3ff"
      },
      "execution_count": 32,
      "outputs": [
        {
          "output_type": "execute_result",
          "data": {
            "text/plain": [
              "                  Open        High         Low       Close   Adj Close  \\\n",
              "Date                                                                     \n",
              "2017-11-09  308.644989  329.451996  307.056000  320.884003  320.884003   \n",
              "2017-11-10  320.670990  324.717987  294.541992  299.252991  299.252991   \n",
              "2017-11-11  298.585999  319.453003  298.191986  314.681000  314.681000   \n",
              "2017-11-12  314.690002  319.153015  298.513000  307.907990  307.907990   \n",
              "2017-11-13  307.024994  328.415009  307.024994  316.716003  316.716003   \n",
              "2017-11-14  316.763000  340.177002  316.763000  337.631012  337.631012   \n",
              "\n",
              "                Volume  \n",
              "Date                    \n",
              "2017-11-09   893249984  \n",
              "2017-11-10   885985984  \n",
              "2017-11-11   842300992  \n",
              "2017-11-12  1613479936  \n",
              "2017-11-13  1041889984  \n",
              "2017-11-14  1069680000  "
            ],
            "text/html": [
              "\n",
              "  <div id=\"df-8b55d772-920c-4cb6-ba56-5d8c10097173\">\n",
              "    <div class=\"colab-df-container\">\n",
              "      <div>\n",
              "<style scoped>\n",
              "    .dataframe tbody tr th:only-of-type {\n",
              "        vertical-align: middle;\n",
              "    }\n",
              "\n",
              "    .dataframe tbody tr th {\n",
              "        vertical-align: top;\n",
              "    }\n",
              "\n",
              "    .dataframe thead th {\n",
              "        text-align: right;\n",
              "    }\n",
              "</style>\n",
              "<table border=\"1\" class=\"dataframe\">\n",
              "  <thead>\n",
              "    <tr style=\"text-align: right;\">\n",
              "      <th></th>\n",
              "      <th>Open</th>\n",
              "      <th>High</th>\n",
              "      <th>Low</th>\n",
              "      <th>Close</th>\n",
              "      <th>Adj Close</th>\n",
              "      <th>Volume</th>\n",
              "    </tr>\n",
              "    <tr>\n",
              "      <th>Date</th>\n",
              "      <th></th>\n",
              "      <th></th>\n",
              "      <th></th>\n",
              "      <th></th>\n",
              "      <th></th>\n",
              "      <th></th>\n",
              "    </tr>\n",
              "  </thead>\n",
              "  <tbody>\n",
              "    <tr>\n",
              "      <th>2017-11-09</th>\n",
              "      <td>308.644989</td>\n",
              "      <td>329.451996</td>\n",
              "      <td>307.056000</td>\n",
              "      <td>320.884003</td>\n",
              "      <td>320.884003</td>\n",
              "      <td>893249984</td>\n",
              "    </tr>\n",
              "    <tr>\n",
              "      <th>2017-11-10</th>\n",
              "      <td>320.670990</td>\n",
              "      <td>324.717987</td>\n",
              "      <td>294.541992</td>\n",
              "      <td>299.252991</td>\n",
              "      <td>299.252991</td>\n",
              "      <td>885985984</td>\n",
              "    </tr>\n",
              "    <tr>\n",
              "      <th>2017-11-11</th>\n",
              "      <td>298.585999</td>\n",
              "      <td>319.453003</td>\n",
              "      <td>298.191986</td>\n",
              "      <td>314.681000</td>\n",
              "      <td>314.681000</td>\n",
              "      <td>842300992</td>\n",
              "    </tr>\n",
              "    <tr>\n",
              "      <th>2017-11-12</th>\n",
              "      <td>314.690002</td>\n",
              "      <td>319.153015</td>\n",
              "      <td>298.513000</td>\n",
              "      <td>307.907990</td>\n",
              "      <td>307.907990</td>\n",
              "      <td>1613479936</td>\n",
              "    </tr>\n",
              "    <tr>\n",
              "      <th>2017-11-13</th>\n",
              "      <td>307.024994</td>\n",
              "      <td>328.415009</td>\n",
              "      <td>307.024994</td>\n",
              "      <td>316.716003</td>\n",
              "      <td>316.716003</td>\n",
              "      <td>1041889984</td>\n",
              "    </tr>\n",
              "    <tr>\n",
              "      <th>2017-11-14</th>\n",
              "      <td>316.763000</td>\n",
              "      <td>340.177002</td>\n",
              "      <td>316.763000</td>\n",
              "      <td>337.631012</td>\n",
              "      <td>337.631012</td>\n",
              "      <td>1069680000</td>\n",
              "    </tr>\n",
              "  </tbody>\n",
              "</table>\n",
              "</div>\n",
              "      <button class=\"colab-df-convert\" onclick=\"convertToInteractive('df-8b55d772-920c-4cb6-ba56-5d8c10097173')\"\n",
              "              title=\"Convert this dataframe to an interactive table.\"\n",
              "              style=\"display:none;\">\n",
              "        \n",
              "  <svg xmlns=\"http://www.w3.org/2000/svg\" height=\"24px\"viewBox=\"0 0 24 24\"\n",
              "       width=\"24px\">\n",
              "    <path d=\"M0 0h24v24H0V0z\" fill=\"none\"/>\n",
              "    <path d=\"M18.56 5.44l.94 2.06.94-2.06 2.06-.94-2.06-.94-.94-2.06-.94 2.06-2.06.94zm-11 1L8.5 8.5l.94-2.06 2.06-.94-2.06-.94L8.5 2.5l-.94 2.06-2.06.94zm10 10l.94 2.06.94-2.06 2.06-.94-2.06-.94-.94-2.06-.94 2.06-2.06.94z\"/><path d=\"M17.41 7.96l-1.37-1.37c-.4-.4-.92-.59-1.43-.59-.52 0-1.04.2-1.43.59L10.3 9.45l-7.72 7.72c-.78.78-.78 2.05 0 2.83L4 21.41c.39.39.9.59 1.41.59.51 0 1.02-.2 1.41-.59l7.78-7.78 2.81-2.81c.8-.78.8-2.07 0-2.86zM5.41 20L4 18.59l7.72-7.72 1.47 1.35L5.41 20z\"/>\n",
              "  </svg>\n",
              "      </button>\n",
              "      \n",
              "  <style>\n",
              "    .colab-df-container {\n",
              "      display:flex;\n",
              "      flex-wrap:wrap;\n",
              "      gap: 12px;\n",
              "    }\n",
              "\n",
              "    .colab-df-convert {\n",
              "      background-color: #E8F0FE;\n",
              "      border: none;\n",
              "      border-radius: 50%;\n",
              "      cursor: pointer;\n",
              "      display: none;\n",
              "      fill: #1967D2;\n",
              "      height: 32px;\n",
              "      padding: 0 0 0 0;\n",
              "      width: 32px;\n",
              "    }\n",
              "\n",
              "    .colab-df-convert:hover {\n",
              "      background-color: #E2EBFA;\n",
              "      box-shadow: 0px 1px 2px rgba(60, 64, 67, 0.3), 0px 1px 3px 1px rgba(60, 64, 67, 0.15);\n",
              "      fill: #174EA6;\n",
              "    }\n",
              "\n",
              "    [theme=dark] .colab-df-convert {\n",
              "      background-color: #3B4455;\n",
              "      fill: #D2E3FC;\n",
              "    }\n",
              "\n",
              "    [theme=dark] .colab-df-convert:hover {\n",
              "      background-color: #434B5C;\n",
              "      box-shadow: 0px 1px 3px 1px rgba(0, 0, 0, 0.15);\n",
              "      filter: drop-shadow(0px 1px 2px rgba(0, 0, 0, 0.3));\n",
              "      fill: #FFFFFF;\n",
              "    }\n",
              "  </style>\n",
              "\n",
              "      <script>\n",
              "        const buttonEl =\n",
              "          document.querySelector('#df-8b55d772-920c-4cb6-ba56-5d8c10097173 button.colab-df-convert');\n",
              "        buttonEl.style.display =\n",
              "          google.colab.kernel.accessAllowed ? 'block' : 'none';\n",
              "\n",
              "        async function convertToInteractive(key) {\n",
              "          const element = document.querySelector('#df-8b55d772-920c-4cb6-ba56-5d8c10097173');\n",
              "          const dataTable =\n",
              "            await google.colab.kernel.invokeFunction('convertToInteractive',\n",
              "                                                     [key], {});\n",
              "          if (!dataTable) return;\n",
              "\n",
              "          const docLinkHtml = 'Like what you see? Visit the ' +\n",
              "            '<a target=\"_blank\" href=https://colab.research.google.com/notebooks/data_table.ipynb>data table notebook</a>'\n",
              "            + ' to learn more about interactive tables.';\n",
              "          element.innerHTML = '';\n",
              "          dataTable['output_type'] = 'display_data';\n",
              "          await google.colab.output.renderOutput(dataTable, element);\n",
              "          const docLink = document.createElement('div');\n",
              "          docLink.innerHTML = docLinkHtml;\n",
              "          element.appendChild(docLink);\n",
              "        }\n",
              "      </script>\n",
              "    </div>\n",
              "  </div>\n",
              "  "
            ]
          },
          "metadata": {},
          "execution_count": 32
        }
      ]
    },
    {
      "cell_type": "code",
      "source": [
        "df.shape"
      ],
      "metadata": {
        "colab": {
          "base_uri": "https://localhost:8080/"
        },
        "id": "hjw2TrxAWyk_",
        "outputId": "6b4d3c7c-dbf6-455c-c30a-9c4e230e6e9c"
      },
      "execution_count": 33,
      "outputs": [
        {
          "output_type": "execute_result",
          "data": {
            "text/plain": [
              "(1330, 6)"
            ]
          },
          "metadata": {},
          "execution_count": 33
        }
      ]
    },
    {
      "cell_type": "code",
      "source": [
        "df.info()"
      ],
      "metadata": {
        "colab": {
          "base_uri": "https://localhost:8080/"
        },
        "id": "zY1Q4NTWXTS0",
        "outputId": "e5637131-fafb-4909-d620-f446f5f0563a"
      },
      "execution_count": 34,
      "outputs": [
        {
          "output_type": "stream",
          "name": "stdout",
          "text": [
            "<class 'pandas.core.frame.DataFrame'>\n",
            "Index: 1330 entries, 2017-11-09 to 2021-06-30\n",
            "Data columns (total 6 columns):\n",
            " #   Column     Non-Null Count  Dtype  \n",
            "---  ------     --------------  -----  \n",
            " 0   Open       1330 non-null   float64\n",
            " 1   High       1330 non-null   float64\n",
            " 2   Low        1330 non-null   float64\n",
            " 3   Close      1330 non-null   float64\n",
            " 4   Adj Close  1330 non-null   float64\n",
            " 5   Volume     1330 non-null   int64  \n",
            "dtypes: float64(5), int64(1)\n",
            "memory usage: 72.7+ KB\n"
          ]
        }
      ]
    },
    {
      "cell_type": "code",
      "source": [
        "# Tahap Data Cleaning (Missing Value)\n",
        "ETH = df.fillna(0)\n",
        "ETH.head()"
      ],
      "metadata": {
        "colab": {
          "base_uri": "https://localhost:8080/",
          "height": 238
        },
        "id": "R-zk5ugcXTVf",
        "outputId": "1923fd13-07b9-494a-eb15-5cb569dbfd35"
      },
      "execution_count": 35,
      "outputs": [
        {
          "output_type": "execute_result",
          "data": {
            "text/plain": [
              "                  Open        High         Low       Close   Adj Close  \\\n",
              "Date                                                                     \n",
              "2017-11-09  308.644989  329.451996  307.056000  320.884003  320.884003   \n",
              "2017-11-10  320.670990  324.717987  294.541992  299.252991  299.252991   \n",
              "2017-11-11  298.585999  319.453003  298.191986  314.681000  314.681000   \n",
              "2017-11-12  314.690002  319.153015  298.513000  307.907990  307.907990   \n",
              "2017-11-13  307.024994  328.415009  307.024994  316.716003  316.716003   \n",
              "\n",
              "                Volume  \n",
              "Date                    \n",
              "2017-11-09   893249984  \n",
              "2017-11-10   885985984  \n",
              "2017-11-11   842300992  \n",
              "2017-11-12  1613479936  \n",
              "2017-11-13  1041889984  "
            ],
            "text/html": [
              "\n",
              "  <div id=\"df-00f824aa-f800-469c-9d48-e1eda52fa799\">\n",
              "    <div class=\"colab-df-container\">\n",
              "      <div>\n",
              "<style scoped>\n",
              "    .dataframe tbody tr th:only-of-type {\n",
              "        vertical-align: middle;\n",
              "    }\n",
              "\n",
              "    .dataframe tbody tr th {\n",
              "        vertical-align: top;\n",
              "    }\n",
              "\n",
              "    .dataframe thead th {\n",
              "        text-align: right;\n",
              "    }\n",
              "</style>\n",
              "<table border=\"1\" class=\"dataframe\">\n",
              "  <thead>\n",
              "    <tr style=\"text-align: right;\">\n",
              "      <th></th>\n",
              "      <th>Open</th>\n",
              "      <th>High</th>\n",
              "      <th>Low</th>\n",
              "      <th>Close</th>\n",
              "      <th>Adj Close</th>\n",
              "      <th>Volume</th>\n",
              "    </tr>\n",
              "    <tr>\n",
              "      <th>Date</th>\n",
              "      <th></th>\n",
              "      <th></th>\n",
              "      <th></th>\n",
              "      <th></th>\n",
              "      <th></th>\n",
              "      <th></th>\n",
              "    </tr>\n",
              "  </thead>\n",
              "  <tbody>\n",
              "    <tr>\n",
              "      <th>2017-11-09</th>\n",
              "      <td>308.644989</td>\n",
              "      <td>329.451996</td>\n",
              "      <td>307.056000</td>\n",
              "      <td>320.884003</td>\n",
              "      <td>320.884003</td>\n",
              "      <td>893249984</td>\n",
              "    </tr>\n",
              "    <tr>\n",
              "      <th>2017-11-10</th>\n",
              "      <td>320.670990</td>\n",
              "      <td>324.717987</td>\n",
              "      <td>294.541992</td>\n",
              "      <td>299.252991</td>\n",
              "      <td>299.252991</td>\n",
              "      <td>885985984</td>\n",
              "    </tr>\n",
              "    <tr>\n",
              "      <th>2017-11-11</th>\n",
              "      <td>298.585999</td>\n",
              "      <td>319.453003</td>\n",
              "      <td>298.191986</td>\n",
              "      <td>314.681000</td>\n",
              "      <td>314.681000</td>\n",
              "      <td>842300992</td>\n",
              "    </tr>\n",
              "    <tr>\n",
              "      <th>2017-11-12</th>\n",
              "      <td>314.690002</td>\n",
              "      <td>319.153015</td>\n",
              "      <td>298.513000</td>\n",
              "      <td>307.907990</td>\n",
              "      <td>307.907990</td>\n",
              "      <td>1613479936</td>\n",
              "    </tr>\n",
              "    <tr>\n",
              "      <th>2017-11-13</th>\n",
              "      <td>307.024994</td>\n",
              "      <td>328.415009</td>\n",
              "      <td>307.024994</td>\n",
              "      <td>316.716003</td>\n",
              "      <td>316.716003</td>\n",
              "      <td>1041889984</td>\n",
              "    </tr>\n",
              "  </tbody>\n",
              "</table>\n",
              "</div>\n",
              "      <button class=\"colab-df-convert\" onclick=\"convertToInteractive('df-00f824aa-f800-469c-9d48-e1eda52fa799')\"\n",
              "              title=\"Convert this dataframe to an interactive table.\"\n",
              "              style=\"display:none;\">\n",
              "        \n",
              "  <svg xmlns=\"http://www.w3.org/2000/svg\" height=\"24px\"viewBox=\"0 0 24 24\"\n",
              "       width=\"24px\">\n",
              "    <path d=\"M0 0h24v24H0V0z\" fill=\"none\"/>\n",
              "    <path d=\"M18.56 5.44l.94 2.06.94-2.06 2.06-.94-2.06-.94-.94-2.06-.94 2.06-2.06.94zm-11 1L8.5 8.5l.94-2.06 2.06-.94-2.06-.94L8.5 2.5l-.94 2.06-2.06.94zm10 10l.94 2.06.94-2.06 2.06-.94-2.06-.94-.94-2.06-.94 2.06-2.06.94z\"/><path d=\"M17.41 7.96l-1.37-1.37c-.4-.4-.92-.59-1.43-.59-.52 0-1.04.2-1.43.59L10.3 9.45l-7.72 7.72c-.78.78-.78 2.05 0 2.83L4 21.41c.39.39.9.59 1.41.59.51 0 1.02-.2 1.41-.59l7.78-7.78 2.81-2.81c.8-.78.8-2.07 0-2.86zM5.41 20L4 18.59l7.72-7.72 1.47 1.35L5.41 20z\"/>\n",
              "  </svg>\n",
              "      </button>\n",
              "      \n",
              "  <style>\n",
              "    .colab-df-container {\n",
              "      display:flex;\n",
              "      flex-wrap:wrap;\n",
              "      gap: 12px;\n",
              "    }\n",
              "\n",
              "    .colab-df-convert {\n",
              "      background-color: #E8F0FE;\n",
              "      border: none;\n",
              "      border-radius: 50%;\n",
              "      cursor: pointer;\n",
              "      display: none;\n",
              "      fill: #1967D2;\n",
              "      height: 32px;\n",
              "      padding: 0 0 0 0;\n",
              "      width: 32px;\n",
              "    }\n",
              "\n",
              "    .colab-df-convert:hover {\n",
              "      background-color: #E2EBFA;\n",
              "      box-shadow: 0px 1px 2px rgba(60, 64, 67, 0.3), 0px 1px 3px 1px rgba(60, 64, 67, 0.15);\n",
              "      fill: #174EA6;\n",
              "    }\n",
              "\n",
              "    [theme=dark] .colab-df-convert {\n",
              "      background-color: #3B4455;\n",
              "      fill: #D2E3FC;\n",
              "    }\n",
              "\n",
              "    [theme=dark] .colab-df-convert:hover {\n",
              "      background-color: #434B5C;\n",
              "      box-shadow: 0px 1px 3px 1px rgba(0, 0, 0, 0.15);\n",
              "      filter: drop-shadow(0px 1px 2px rgba(0, 0, 0, 0.3));\n",
              "      fill: #FFFFFF;\n",
              "    }\n",
              "  </style>\n",
              "\n",
              "      <script>\n",
              "        const buttonEl =\n",
              "          document.querySelector('#df-00f824aa-f800-469c-9d48-e1eda52fa799 button.colab-df-convert');\n",
              "        buttonEl.style.display =\n",
              "          google.colab.kernel.accessAllowed ? 'block' : 'none';\n",
              "\n",
              "        async function convertToInteractive(key) {\n",
              "          const element = document.querySelector('#df-00f824aa-f800-469c-9d48-e1eda52fa799');\n",
              "          const dataTable =\n",
              "            await google.colab.kernel.invokeFunction('convertToInteractive',\n",
              "                                                     [key], {});\n",
              "          if (!dataTable) return;\n",
              "\n",
              "          const docLinkHtml = 'Like what you see? Visit the ' +\n",
              "            '<a target=\"_blank\" href=https://colab.research.google.com/notebooks/data_table.ipynb>data table notebook</a>'\n",
              "            + ' to learn more about interactive tables.';\n",
              "          element.innerHTML = '';\n",
              "          dataTable['output_type'] = 'display_data';\n",
              "          await google.colab.output.renderOutput(dataTable, element);\n",
              "          const docLink = document.createElement('div');\n",
              "          docLink.innerHTML = docLinkHtml;\n",
              "          element.appendChild(docLink);\n",
              "        }\n",
              "      </script>\n",
              "    </div>\n",
              "  </div>\n",
              "  "
            ]
          },
          "metadata": {},
          "execution_count": 35
        }
      ]
    },
    {
      "cell_type": "code",
      "source": [
        "# Pengecekan data Missing Value\n",
        "ETH.isna().sum()"
      ],
      "metadata": {
        "colab": {
          "base_uri": "https://localhost:8080/"
        },
        "id": "DEWPDLQ-XTZu",
        "outputId": "e39f7043-f0dc-47e9-b7d1-2d8e62ce6f51"
      },
      "execution_count": 36,
      "outputs": [
        {
          "output_type": "execute_result",
          "data": {
            "text/plain": [
              "Open         0\n",
              "High         0\n",
              "Low          0\n",
              "Close        0\n",
              "Adj Close    0\n",
              "Volume       0\n",
              "dtype: int64"
            ]
          },
          "metadata": {},
          "execution_count": 36
        }
      ]
    },
    {
      "cell_type": "code",
      "source": [
        "ETH[\"Close\"].plot(figsize=(18,8))\n",
        "plt.title(\"Bitcoin Closing Price\", fontsize = 18)\n",
        "plt.ylabel(\"Close Price\", fontsize = 18)"
      ],
      "metadata": {
        "colab": {
          "base_uri": "https://localhost:8080/",
          "height": 575
        },
        "id": "GEV-hSF6XTc1",
        "outputId": "76152020-ea29-451a-ba05-1958da6a084a"
      },
      "execution_count": 37,
      "outputs": [
        {
          "output_type": "execute_result",
          "data": {
            "text/plain": [
              "Text(0, 0.5, 'Close Price')"
            ]
          },
          "metadata": {},
          "execution_count": 37
        },
        {
          "output_type": "display_data",
          "data": {
            "text/plain": [
              "<Figure size 1296x576 with 1 Axes>"
            ],
            "image/png": "[encoded data removed]"
          },
          "metadata": {}
        }
      ]
    },
    {
      "cell_type": "code",
      "source": [
        "# Create a new dataframe with only the \"Close\" cloumn\n",
        "ETH = ETH.filter([\"Close\"])\n",
        "# Convert the dataframe to a numpy array\n",
        "ETH1 = ETH.values\n",
        "# Get the number of Rows to train the model on\n",
        "training_data_len = math.ceil(len(ETH1)*.80)\n",
        "training_data_len"
      ],
      "metadata": {
        "colab": {
          "base_uri": "https://localhost:8080/"
        },
        "id": "dTnn22r8XTf5",
        "outputId": "07a7cbbc-b93d-4355-be24-2bbad19307f0"
      },
      "execution_count": 38,
      "outputs": [
        {
          "output_type": "execute_result",
          "data": {
            "text/plain": [
              "1064"
            ]
          },
          "metadata": {},
          "execution_count": 38
        }
      ]
    },
    {
      "cell_type": "code",
      "source": [
        "# Scale the Data for Normalizing\n",
        "from sklearn.preprocessing import MinMaxScaler\n",
        "scaler = MinMaxScaler(feature_range = (0, 1))\n",
        "scaled_data = scaler.fit_transform(ETH1)\n",
        "scaled_data"
      ],
      "metadata": {
        "id": "VxUoNiMsXTrZ",
        "colab": {
          "base_uri": "https://localhost:8080/"
        },
        "outputId": "c96e1ffb-8931-4c4f-a032-4aee2d45ea15"
      },
      "execution_count": 39,
      "outputs": [
        {
          "output_type": "execute_result",
          "data": {
            "text/plain": [
              "array([[0.05792188],\n",
              "       [0.05262586],\n",
              "       [0.05640317],\n",
              "       ...,\n",
              "       [0.48853018],\n",
              "       [0.5083889 ],\n",
              "       [0.53624599]])"
            ]
          },
          "metadata": {},
          "execution_count": 39
        }
      ]
    },
    {
      "cell_type": "code",
      "source": [
        "# Create the training data set\n",
        "# create the scaled training data set\n",
        "train_data = scaled_data[0: training_data_len, :]\n",
        "# Split the Data into x_train and y_train data set\n",
        "x_train = []\n",
        "y_train = []\n",
        "for i in range(30, len(train_data)):\n",
        "    x_train.append(train_data[i-30:i,0])\n",
        "    y_train.append(train_data[i,0])\n",
        "    if i <=  31:\n",
        "        print(x_train)\n",
        "        print(y_train)\n",
        "        print()   "
      ],
      "metadata": {
        "id": "Ah9ac1lRXTun",
        "colab": {
          "base_uri": "https://localhost:8080/"
        },
        "outputId": "c5e52e5e-a3dd-4cb0-f761-9d9db501a4af"
      },
      "execution_count": 40,
      "outputs": [
        {
          "output_type": "stream",
          "name": "stdout",
          "text": [
            "[array([0.05792188, 0.05262586, 0.05640317, 0.0547449 , 0.05690141,\n",
            "       0.06202212, 0.0609757 , 0.06038002, 0.06073992, 0.06446581,\n",
            "       0.06612432, 0.06914656, 0.067597  , 0.07255514, 0.07978118,\n",
            "       0.09563299, 0.09351885, 0.09475623, 0.09696587, 0.09514112,\n",
            "       0.08403078, 0.08882733, 0.09358348, 0.0928267 , 0.09341528,\n",
            "       0.09448056, 0.09278557, 0.08429153, 0.08571646, 0.09101052])]\n",
            "[0.09528802194492907]\n",
            "\n",
            "[array([0.05792188, 0.05262586, 0.05640317, 0.0547449 , 0.05690141,\n",
            "       0.06202212, 0.0609757 , 0.06038002, 0.06073992, 0.06446581,\n",
            "       0.06612432, 0.06914656, 0.067597  , 0.07255514, 0.07978118,\n",
            "       0.09563299, 0.09351885, 0.09475623, 0.09696587, 0.09514112,\n",
            "       0.08403078, 0.08882733, 0.09358348, 0.0928267 , 0.09341528,\n",
            "       0.09448056, 0.09278557, 0.08429153, 0.08571646, 0.09101052]), array([0.05262586, 0.05640317, 0.0547449 , 0.05690141, 0.06202212,\n",
            "       0.0609757 , 0.06038002, 0.06073992, 0.06446581, 0.06612432,\n",
            "       0.06914656, 0.067597  , 0.07255514, 0.07978118, 0.09563299,\n",
            "       0.09351885, 0.09475623, 0.09696587, 0.09514112, 0.08403078,\n",
            "       0.08882733, 0.09358348, 0.0928267 , 0.09341528, 0.09448056,\n",
            "       0.09278557, 0.08429153, 0.08571646, 0.09101052, 0.09528802])]\n",
            "[0.09528802194492907, 0.08750693746925435]\n",
            "\n"
          ]
        }
      ]
    },
    {
      "cell_type": "code",
      "source": [
        "# Convert the x_train and y_train to numpy arrays\n",
        "x_train,y_train = np.array(x_train), np.array(y_train)"
      ],
      "metadata": {
        "id": "q06xhB3oXT5R"
      },
      "execution_count": 41,
      "outputs": []
    },
    {
      "cell_type": "code",
      "source": [
        "# Reshape the Data\n",
        "x_train = np.reshape(x_train, (x_train.shape[0], x_train.shape[1],1))\n",
        "x_train.shape"
      ],
      "metadata": {
        "colab": {
          "base_uri": "https://localhost:8080/"
        },
        "id": "3dU3N_-RXT9B",
        "outputId": "795c1722-5c23-471e-fb18-ab0c59a1c5bf"
      },
      "execution_count": 42,
      "outputs": [
        {
          "output_type": "execute_result",
          "data": {
            "text/plain": [
              "(1034, 30, 1)"
            ]
          },
          "metadata": {},
          "execution_count": 42
        }
      ]
    },
    {
      "cell_type": "code",
      "source": [
        "# Build the Model\n",
        "model = keras.Sequential()\n",
        "model.add(layers.LSTM(50,return_sequences=True, input_shape= (x_train.shape[1],1)))\n",
        "model.add(Dropout(0.2))\n",
        "model.add(layers.LSTM(50,return_sequences=True))\n",
        "model.add(Dropout(0.2))\n",
        "model.add(layers.LSTM(50,return_sequences=True))\n",
        "model.add(Dropout(0.2))\n",
        "model.add(layers.LSTM(50,return_sequences=False))\n",
        "model.add(Dropout(0.2))\n",
        "model.add(layers.Dense(1))"
      ],
      "metadata": {
        "id": "vdnbYnObXUBW"
      },
      "execution_count": 18,
      "outputs": []
    },
    {
      "cell_type": "code",
      "source": [
        "# Compile the Model\n",
        "model.compile(optimizer=\"adam\", loss=\"mean_squared_error\")"
      ],
      "metadata": {
        "id": "l8zjPhygXUET"
      },
      "execution_count": 43,
      "outputs": []
    },
    {
      "cell_type": "code",
      "source": [
        "# Train the Model\n",
        "model.fit(x_train, y_train, batch_size = 32, epochs = 100)"
      ],
      "metadata": {
        "colab": {
          "base_uri": "https://localhost:8080/"
        },
        "id": "KbWlTEaVZz5m",
        "outputId": "8421ee3e-c30e-43ea-b3ef-b58e7940d496"
      },
      "execution_count": 44,
      "outputs": [
        {
          "output_type": "stream",
          "name": "stdout",
          "text": [
            "Epoch 1/100\n",
            "33/33 [==============================] - 9s 58ms/step - loss: 1.8896e-04\n",
            "Epoch 2/100\n",
            "33/33 [==============================] - 2s 58ms/step - loss: 9.5531e-05\n",
            "Epoch 3/100\n",
            "33/33 [==============================] - 2s 59ms/step - loss: 1.4818e-04\n",
            "Epoch 4/100\n",
            "33/33 [==============================] - 2s 59ms/step - loss: 1.5943e-04\n",
            "Epoch 5/100\n",
            "33/33 [==============================] - 2s 61ms/step - loss: 1.4366e-04\n",
            "Epoch 6/100\n",
            "33/33 [==============================] - 2s 59ms/step - loss: 1.2954e-04\n",
            "Epoch 7/100\n",
            "33/33 [==============================] - 2s 58ms/step - loss: 1.3313e-04\n",
            "Epoch 8/100\n",
            "33/33 [==============================] - 2s 58ms/step - loss: 1.5526e-04\n",
            "Epoch 9/100\n",
            "33/33 [==============================] - 2s 59ms/step - loss: 1.3448e-04\n",
            "Epoch 10/100\n",
            "33/33 [==============================] - 2s 57ms/step - loss: 1.3133e-04\n",
            "Epoch 11/100\n",
            "33/33 [==============================] - 2s 59ms/step - loss: 1.3314e-04\n",
            "Epoch 12/100\n",
            "33/33 [==============================] - 2s 58ms/step - loss: 1.0331e-04\n",
            "Epoch 13/100\n",
            "33/33 [==============================] - 2s 58ms/step - loss: 1.2021e-04\n",
            "Epoch 14/100\n",
            "33/33 [==============================] - 2s 57ms/step - loss: 1.5949e-04\n",
            "Epoch 15/100\n",
            "33/33 [==============================] - 2s 57ms/step - loss: 1.2864e-04\n",
            "Epoch 16/100\n",
            "33/33 [==============================] - 2s 57ms/step - loss: 1.5430e-04\n",
            "Epoch 17/100\n",
            "33/33 [==============================] - 2s 58ms/step - loss: 1.0399e-04\n",
            "Epoch 18/100\n",
            "33/33 [==============================] - 2s 59ms/step - loss: 1.2565e-04\n",
            "Epoch 19/100\n",
            "33/33 [==============================] - 2s 57ms/step - loss: 1.2228e-04\n",
            "Epoch 20/100\n",
            "33/33 [==============================] - 2s 58ms/step - loss: 1.3648e-04\n",
            "Epoch 21/100\n",
            "33/33 [==============================] - 2s 57ms/step - loss: 1.4079e-04\n",
            "Epoch 22/100\n",
            "33/33 [==============================] - 2s 58ms/step - loss: 1.4965e-04\n",
            "Epoch 23/100\n",
            "33/33 [==============================] - 2s 59ms/step - loss: 1.2340e-04\n",
            "Epoch 24/100\n",
            "33/33 [==============================] - 2s 60ms/step - loss: 1.4699e-04\n",
            "Epoch 25/100\n",
            "33/33 [==============================] - 2s 58ms/step - loss: 1.4601e-04\n",
            "Epoch 26/100\n",
            "33/33 [==============================] - 2s 58ms/step - loss: 1.1598e-04\n",
            "Epoch 27/100\n",
            "33/33 [==============================] - 2s 59ms/step - loss: 1.1777e-04\n",
            "Epoch 28/100\n",
            "33/33 [==============================] - 2s 58ms/step - loss: 1.0913e-04\n",
            "Epoch 29/100\n",
            "33/33 [==============================] - 2s 59ms/step - loss: 1.2113e-04\n",
            "Epoch 30/100\n",
            "33/33 [==============================] - 2s 58ms/step - loss: 1.1056e-04\n",
            "Epoch 31/100\n",
            "33/33 [==============================] - 2s 58ms/step - loss: 1.2013e-04\n",
            "Epoch 32/100\n",
            "33/33 [==============================] - 2s 61ms/step - loss: 1.1012e-04\n",
            "Epoch 33/100\n",
            "33/33 [==============================] - 2s 59ms/step - loss: 1.1907e-04\n",
            "Epoch 34/100\n",
            "33/33 [==============================] - 2s 57ms/step - loss: 1.1501e-04\n",
            "Epoch 35/100\n",
            "33/33 [==============================] - 2s 59ms/step - loss: 1.3543e-04\n",
            "Epoch 36/100\n",
            "33/33 [==============================] - 2s 58ms/step - loss: 1.2706e-04\n",
            "Epoch 37/100\n",
            "33/33 [==============================] - 2s 58ms/step - loss: 9.7343e-05\n",
            "Epoch 38/100\n",
            "33/33 [==============================] - 2s 59ms/step - loss: 1.1535e-04\n",
            "Epoch 39/100\n",
            "33/33 [==============================] - 2s 60ms/step - loss: 1.1357e-04\n",
            "Epoch 40/100\n",
            "33/33 [==============================] - 2s 58ms/step - loss: 9.9278e-05\n",
            "Epoch 41/100\n",
            "33/33 [==============================] - 2s 59ms/step - loss: 1.4323e-04\n",
            "Epoch 42/100\n",
            "33/33 [==============================] - 2s 57ms/step - loss: 2.2171e-04\n",
            "Epoch 43/100\n",
            "33/33 [==============================] - 2s 59ms/step - loss: 1.4394e-04\n",
            "Epoch 44/100\n",
            "33/33 [==============================] - 2s 59ms/step - loss: 1.0174e-04\n",
            "Epoch 45/100\n",
            "33/33 [==============================] - 2s 59ms/step - loss: 1.0641e-04\n",
            "Epoch 46/100\n",
            "33/33 [==============================] - 2s 59ms/step - loss: 1.3598e-04\n",
            "Epoch 47/100\n",
            "33/33 [==============================] - 2s 60ms/step - loss: 9.7719e-05\n",
            "Epoch 48/100\n",
            "33/33 [==============================] - 2s 60ms/step - loss: 1.1367e-04\n",
            "Epoch 49/100\n",
            "33/33 [==============================] - 2s 58ms/step - loss: 1.2371e-04\n",
            "Epoch 50/100\n",
            "33/33 [==============================] - 2s 57ms/step - loss: 1.1771e-04\n",
            "Epoch 51/100\n",
            "33/33 [==============================] - 2s 58ms/step - loss: 1.0836e-04\n",
            "Epoch 52/100\n",
            "33/33 [==============================] - 2s 58ms/step - loss: 1.0776e-04\n",
            "Epoch 53/100\n",
            "33/33 [==============================] - 2s 59ms/step - loss: 9.4731e-05\n",
            "Epoch 54/100\n",
            "33/33 [==============================] - 2s 58ms/step - loss: 1.0740e-04\n",
            "Epoch 55/100\n",
            "33/33 [==============================] - 2s 58ms/step - loss: 1.2236e-04\n",
            "Epoch 56/100\n",
            "33/33 [==============================] - 2s 58ms/step - loss: 1.4226e-04\n",
            "Epoch 57/100\n",
            "33/33 [==============================] - 2s 60ms/step - loss: 1.0129e-04\n",
            "Epoch 58/100\n",
            "33/33 [==============================] - 2s 58ms/step - loss: 1.1816e-04\n",
            "Epoch 59/100\n",
            "33/33 [==============================] - 2s 58ms/step - loss: 8.9602e-05\n",
            "Epoch 60/100\n",
            "33/33 [==============================] - 2s 59ms/step - loss: 1.0109e-04\n",
            "Epoch 61/100\n",
            "33/33 [==============================] - 2s 59ms/step - loss: 8.6274e-05\n",
            "Epoch 62/100\n",
            "33/33 [==============================] - 2s 59ms/step - loss: 1.0617e-04\n",
            "Epoch 63/100\n",
            "33/33 [==============================] - 2s 60ms/step - loss: 8.7527e-05\n",
            "Epoch 64/100\n",
            "33/33 [==============================] - 2s 58ms/step - loss: 1.0377e-04\n",
            "Epoch 65/100\n",
            "33/33 [==============================] - 2s 58ms/step - loss: 1.0808e-04\n",
            "Epoch 66/100\n",
            "33/33 [==============================] - 2s 59ms/step - loss: 1.0773e-04\n",
            "Epoch 67/100\n",
            "33/33 [==============================] - 2s 59ms/step - loss: 9.2458e-05\n",
            "Epoch 68/100\n",
            "33/33 [==============================] - 2s 59ms/step - loss: 1.0333e-04\n",
            "Epoch 69/100\n",
            "33/33 [==============================] - 2s 58ms/step - loss: 9.8997e-05\n",
            "Epoch 70/100\n",
            "33/33 [==============================] - 2s 60ms/step - loss: 9.3163e-05\n",
            "Epoch 71/100\n",
            "33/33 [==============================] - 2s 59ms/step - loss: 9.5239e-05\n",
            "Epoch 72/100\n",
            "33/33 [==============================] - 2s 59ms/step - loss: 9.9868e-05\n",
            "Epoch 73/100\n",
            "33/33 [==============================] - 2s 59ms/step - loss: 9.8912e-05\n",
            "Epoch 74/100\n",
            "33/33 [==============================] - 2s 60ms/step - loss: 1.0690e-04\n",
            "Epoch 75/100\n",
            "33/33 [==============================] - 2s 58ms/step - loss: 9.4046e-05\n",
            "Epoch 76/100\n",
            "33/33 [==============================] - 2s 58ms/step - loss: 1.1099e-04\n",
            "Epoch 77/100\n",
            "33/33 [==============================] - 2s 58ms/step - loss: 1.1866e-04\n",
            "Epoch 78/100\n",
            "33/33 [==============================] - 2s 59ms/step - loss: 8.3610e-05\n",
            "Epoch 79/100\n",
            "33/33 [==============================] - 2s 60ms/step - loss: 9.8558e-05\n",
            "Epoch 80/100\n",
            "33/33 [==============================] - 2s 59ms/step - loss: 7.7784e-05\n",
            "Epoch 81/100\n",
            "33/33 [==============================] - 2s 59ms/step - loss: 8.3771e-05\n",
            "Epoch 82/100\n",
            "33/33 [==============================] - 2s 60ms/step - loss: 9.8825e-05\n",
            "Epoch 83/100\n",
            "33/33 [==============================] - 2s 59ms/step - loss: 8.9743e-05\n",
            "Epoch 84/100\n",
            "33/33 [==============================] - 2s 58ms/step - loss: 9.9361e-05\n",
            "Epoch 85/100\n",
            "33/33 [==============================] - 2s 59ms/step - loss: 1.2744e-04\n",
            "Epoch 86/100\n",
            "33/33 [==============================] - 2s 60ms/step - loss: 1.1142e-04\n",
            "Epoch 87/100\n",
            "33/33 [==============================] - 2s 60ms/step - loss: 9.8124e-05\n",
            "Epoch 88/100\n",
            "33/33 [==============================] - 2s 61ms/step - loss: 1.1933e-04\n",
            "Epoch 89/100\n",
            "33/33 [==============================] - 2s 60ms/step - loss: 8.5447e-05\n",
            "Epoch 90/100\n",
            "33/33 [==============================] - 2s 59ms/step - loss: 9.2310e-05\n",
            "Epoch 91/100\n",
            "33/33 [==============================] - 2s 59ms/step - loss: 1.0264e-04\n",
            "Epoch 92/100\n",
            "33/33 [==============================] - 2s 62ms/step - loss: 1.0179e-04\n",
            "Epoch 93/100\n",
            "33/33 [==============================] - 2s 59ms/step - loss: 1.0291e-04\n",
            "Epoch 94/100\n",
            "33/33 [==============================] - 2s 59ms/step - loss: 1.0233e-04\n",
            "Epoch 95/100\n",
            "33/33 [==============================] - 2s 59ms/step - loss: 9.0780e-05\n",
            "Epoch 96/100\n",
            "33/33 [==============================] - 2s 60ms/step - loss: 9.1197e-05\n",
            "Epoch 97/100\n",
            "33/33 [==============================] - 2s 62ms/step - loss: 8.1392e-05\n",
            "Epoch 98/100\n",
            "33/33 [==============================] - 2s 60ms/step - loss: 7.3509e-05\n",
            "Epoch 99/100\n",
            "33/33 [==============================] - 2s 59ms/step - loss: 9.7991e-05\n",
            "Epoch 100/100\n",
            "33/33 [==============================] - 2s 59ms/step - loss: 1.0590e-04\n"
          ]
        },
        {
          "output_type": "execute_result",
          "data": {
            "text/plain": [
              "<keras.callbacks.History at 0x7ff3bb519bd0>"
            ]
          },
          "metadata": {},
          "execution_count": 44
        }
      ]
    },
    {
      "cell_type": "code",
      "source": [
        "# Create the testing data set\n",
        "# Create a new array containing scale values from index .... to the end of data set\n",
        "test_data = scaled_data[training_data_len-30:,:]"
      ],
      "metadata": {
        "id": "ecL9QvGSXUGv"
      },
      "execution_count": 45,
      "outputs": []
    },
    {
      "cell_type": "code",
      "source": [
        "# Created the data set x_test and y_test\n",
        "x_test = []\n",
        "y_test = ETH1[training_data_len:,:]#---rest of the data\n",
        "for i in range(30, len(test_data)):\n",
        "    x_test.append(test_data[i-30:i,0])"
      ],
      "metadata": {
        "id": "JFteBOHdYQzK"
      },
      "execution_count": 46,
      "outputs": []
    },
    {
      "cell_type": "code",
      "source": [
        "# Convert the Data to a numpy array\n",
        "x_test = np.array(x_test)"
      ],
      "metadata": {
        "id": "vxSfZEsCYQ17"
      },
      "execution_count": 47,
      "outputs": []
    },
    {
      "cell_type": "code",
      "source": [
        "# Reshape the Data\n",
        "x_test = np.reshape(x_test, (x_test.shape[0], x_test.shape[1],1))"
      ],
      "metadata": {
        "id": "YaeBxJzLYQ8n"
      },
      "execution_count": 48,
      "outputs": []
    },
    {
      "cell_type": "code",
      "source": [
        "# Get the model predicted price values / Denormalize\n",
        "predictions = model.predict(x_test)\n",
        "predictions = scaler.inverse_transform(predictions)"
      ],
      "metadata": {
        "id": "Vb_iy8xCYQ_z"
      },
      "execution_count": 49,
      "outputs": []
    },
    {
      "cell_type": "code",
      "source": [
        "from sklearn.metrics import mean_absolute_percentage_error\n",
        "MAPE = mean_absolute_percentage_error(y_test, predictions)*100\n",
        "print(MAPE)"
      ],
      "metadata": {
        "colab": {
          "base_uri": "https://localhost:8080/"
        },
        "id": "H7Otk3quYREa",
        "outputId": "a2479531-64d0-4c90-a81d-2ce36a11788c"
      },
      "execution_count": 50,
      "outputs": [
        {
          "output_type": "stream",
          "name": "stdout",
          "text": [
            "9.013327856986075\n"
          ]
        }
      ]
    },
    {
      "cell_type": "code",
      "source": [
        "# Plot the Data\n",
        "train = ETH[:training_data_len]\n",
        "valid = ETH[training_data_len:]\n",
        "valid[\"predictions\"] = predictions"
      ],
      "metadata": {
        "colab": {
          "base_uri": "https://localhost:8080/"
        },
        "id": "8uEPg-zgYRW-",
        "outputId": "fb3e0458-6098-4190-8b89-68902b430218"
      },
      "execution_count": 51,
      "outputs": [
        {
          "output_type": "stream",
          "name": "stderr",
          "text": [
            "/usr/local/lib/python3.7/dist-packages/ipykernel_launcher.py:4: SettingWithCopyWarning: \n",
            "A value is trying to be set on a copy of a slice from a DataFrame.\n",
            "Try using .loc[row_indexer,col_indexer] = value instead\n",
            "\n",
            "See the caveats in the documentation: https://pandas.pydata.org/pandas-docs/stable/user_guide/indexing.html#returning-a-view-versus-a-copy\n",
            "  after removing the cwd from sys.path.\n"
          ]
        }
      ]
    },
    {
      "cell_type": "code",
      "source": [
        "# Visualize the Data\n",
        "plt.figure(figsize=(16,8))\n",
        "plt.title(\"Prediction model of Ethereum Closing Price\", fontsize = 18)\n",
        "plt.xlabel(\"Date\",fontsize = 18)\n",
        "plt.ylabel(\"Close Price\", fontsize = 18)\n",
        "plt.plot(train[\"Close\"])\n",
        "plt.plot(valid[[\"Close\",\"predictions\"]])\n",
        "plt.legend([\"Train\",\"Valid\",\"predictions\"],loc=\"lower right\")\n",
        "plt.grid()\n",
        "plt.show()"
      ],
      "metadata": {
        "colab": {
          "base_uri": "https://localhost:8080/",
          "height": 557
        },
        "id": "V3gJcg7LXUJm",
        "outputId": "343ee096-7cc2-4c70-a76b-1599ab8a5cf2"
      },
      "execution_count": 52,
      "outputs": [
        {
          "output_type": "display_data",
          "data": {
            "text/plain": [
              "<Figure size 1152x576 with 1 Axes>"
            ],
            "image/png": "[encoded data removed]"
          },
          "metadata": {}
        }
      ]
    },
    {
      "cell_type": "code",
      "source": [
        "#Show The Valid and Predicted Prices\n",
        "valid[[\"Close\" , \"predictions\"]]"
      ],
      "metadata": {
        "colab": {
          "base_uri": "https://localhost:8080/",
          "height": 455
        },
        "id": "xSTDNpTLXVK3",
        "outputId": "a507e331-5d25-4bfc-98df-8e1de5334d6e"
      },
      "execution_count": 53,
      "outputs": [
        {
          "output_type": "execute_result",
          "data": {
            "text/plain": [
              "                  Close  predictions\n",
              "Date                                \n",
              "2020-10-08   350.766144   346.332092\n",
              "2020-10-09   365.590485   350.951965\n",
              "2020-10-10   370.967590   362.719940\n",
              "2020-10-11   375.142059   371.731964\n",
              "2020-10-12   387.731262   377.839935\n",
              "...                 ...          ...\n",
              "2021-06-26  1829.239258  1664.921387\n",
              "2021-06-27  1978.894653  1678.937866\n",
              "2021-06-28  2079.657471  1795.862671\n",
              "2021-06-29  2160.768311  1878.057251\n",
              "2021-06-30  2274.547607  1942.478882\n",
              "\n",
              "[266 rows x 2 columns]"
            ],
            "text/html": [
              "\n",
              "  <div id=\"df-c8ebac9a-fcc7-4b08-8f2f-0865dd457da7\">\n",
              "    <div class=\"colab-df-container\">\n",
              "      <div>\n",
              "<style scoped>\n",
              "    .dataframe tbody tr th:only-of-type {\n",
              "        vertical-align: middle;\n",
              "    }\n",
              "\n",
              "    .dataframe tbody tr th {\n",
              "        vertical-align: top;\n",
              "    }\n",
              "\n",
              "    .dataframe thead th {\n",
              "        text-align: right;\n",
              "    }\n",
              "</style>\n",
              "<table border=\"1\" class=\"dataframe\">\n",
              "  <thead>\n",
              "    <tr style=\"text-align: right;\">\n",
              "      <th></th>\n",
              "      <th>Close</th>\n",
              "      <th>predictions</th>\n",
              "    </tr>\n",
              "    <tr>\n",
              "      <th>Date</th>\n",
              "      <th></th>\n",
              "      <th></th>\n",
              "    </tr>\n",
              "  </thead>\n",
              "  <tbody>\n",
              "    <tr>\n",
              "      <th>2020-10-08</th>\n",
              "      <td>350.766144</td>\n",
              "      <td>346.332092</td>\n",
              "    </tr>\n",
              "    <tr>\n",
              "      <th>2020-10-09</th>\n",
              "      <td>365.590485</td>\n",
              "      <td>350.951965</td>\n",
              "    </tr>\n",
              "    <tr>\n",
              "      <th>2020-10-10</th>\n",
              "      <td>370.967590</td>\n",
              "      <td>362.719940</td>\n",
              "    </tr>\n",
              "    <tr>\n",
              "      <th>2020-10-11</th>\n",
              "      <td>375.142059</td>\n",
              "      <td>371.731964</td>\n",
              "    </tr>\n",
              "    <tr>\n",
              "      <th>2020-10-12</th>\n",
              "      <td>387.731262</td>\n",
              "      <td>377.839935</td>\n",
              "    </tr>\n",
              "    <tr>\n",
              "      <th>...</th>\n",
              "      <td>...</td>\n",
              "      <td>...</td>\n",
              "    </tr>\n",
              "    <tr>\n",
              "      <th>2021-06-26</th>\n",
              "      <td>1829.239258</td>\n",
              "      <td>1664.921387</td>\n",
              "    </tr>\n",
              "    <tr>\n",
              "      <th>2021-06-27</th>\n",
              "      <td>1978.894653</td>\n",
              "      <td>1678.937866</td>\n",
              "    </tr>\n",
              "    <tr>\n",
              "      <th>2021-06-28</th>\n",
              "      <td>2079.657471</td>\n",
              "      <td>1795.862671</td>\n",
              "    </tr>\n",
              "    <tr>\n",
              "      <th>2021-06-29</th>\n",
              "      <td>2160.768311</td>\n",
              "      <td>1878.057251</td>\n",
              "    </tr>\n",
              "    <tr>\n",
              "      <th>2021-06-30</th>\n",
              "      <td>2274.547607</td>\n",
              "      <td>1942.478882</td>\n",
              "    </tr>\n",
              "  </tbody>\n",
              "</table>\n",
              "<p>266 rows × 2 columns</p>\n",
              "</div>\n",
              "      <button class=\"colab-df-convert\" onclick=\"convertToInteractive('df-c8ebac9a-fcc7-4b08-8f2f-0865dd457da7')\"\n",
              "              title=\"Convert this dataframe to an interactive table.\"\n",
              "              style=\"display:none;\">\n",
              "        \n",
              "  <svg xmlns=\"http://www.w3.org/2000/svg\" height=\"24px\"viewBox=\"0 0 24 24\"\n",
              "       width=\"24px\">\n",
              "    <path d=\"M0 0h24v24H0V0z\" fill=\"none\"/>\n",
              "    <path d=\"M18.56 5.44l.94 2.06.94-2.06 2.06-.94-2.06-.94-.94-2.06-.94 2.06-2.06.94zm-11 1L8.5 8.5l.94-2.06 2.06-.94-2.06-.94L8.5 2.5l-.94 2.06-2.06.94zm10 10l.94 2.06.94-2.06 2.06-.94-2.06-.94-.94-2.06-.94 2.06-2.06.94z\"/><path d=\"M17.41 7.96l-1.37-1.37c-.4-.4-.92-.59-1.43-.59-.52 0-1.04.2-1.43.59L10.3 9.45l-7.72 7.72c-.78.78-.78 2.05 0 2.83L4 21.41c.39.39.9.59 1.41.59.51 0 1.02-.2 1.41-.59l7.78-7.78 2.81-2.81c.8-.78.8-2.07 0-2.86zM5.41 20L4 18.59l7.72-7.72 1.47 1.35L5.41 20z\"/>\n",
              "  </svg>\n",
              "      </button>\n",
              "      \n",
              "  <style>\n",
              "    .colab-df-container {\n",
              "      display:flex;\n",
              "      flex-wrap:wrap;\n",
              "      gap: 12px;\n",
              "    }\n",
              "\n",
              "    .colab-df-convert {\n",
              "      background-color: #E8F0FE;\n",
              "      border: none;\n",
              "      border-radius: 50%;\n",
              "      cursor: pointer;\n",
              "      display: none;\n",
              "      fill: #1967D2;\n",
              "      height: 32px;\n",
              "      padding: 0 0 0 0;\n",
              "      width: 32px;\n",
              "    }\n",
              "\n",
              "    .colab-df-convert:hover {\n",
              "      background-color: #E2EBFA;\n",
              "      box-shadow: 0px 1px 2px rgba(60, 64, 67, 0.3), 0px 1px 3px 1px rgba(60, 64, 67, 0.15);\n",
              "      fill: #174EA6;\n",
              "    }\n",
              "\n",
              "    [theme=dark] .colab-df-convert {\n",
              "      background-color: #3B4455;\n",
              "      fill: #D2E3FC;\n",
              "    }\n",
              "\n",
              "    [theme=dark] .colab-df-convert:hover {\n",
              "      background-color: #434B5C;\n",
              "      box-shadow: 0px 1px 3px 1px rgba(0, 0, 0, 0.15);\n",
              "      filter: drop-shadow(0px 1px 2px rgba(0, 0, 0, 0.3));\n",
              "      fill: #FFFFFF;\n",
              "    }\n",
              "  </style>\n",
              "\n",
              "      <script>\n",
              "        const buttonEl =\n",
              "          document.querySelector('#df-c8ebac9a-fcc7-4b08-8f2f-0865dd457da7 button.colab-df-convert');\n",
              "        buttonEl.style.display =\n",
              "          google.colab.kernel.accessAllowed ? 'block' : 'none';\n",
              "\n",
              "        async function convertToInteractive(key) {\n",
              "          const element = document.querySelector('#df-c8ebac9a-fcc7-4b08-8f2f-0865dd457da7');\n",
              "          const dataTable =\n",
              "            await google.colab.kernel.invokeFunction('convertToInteractive',\n",
              "                                                     [key], {});\n",
              "          if (!dataTable) return;\n",
              "\n",
              "          const docLinkHtml = 'Like what you see? Visit the ' +\n",
              "            '<a target=\"_blank\" href=https://colab.research.google.com/notebooks/data_table.ipynb>data table notebook</a>'\n",
              "            + ' to learn more about interactive tables.';\n",
              "          element.innerHTML = '';\n",
              "          dataTable['output_type'] = 'display_data';\n",
              "          await google.colab.output.renderOutput(dataTable, element);\n",
              "          const docLink = document.createElement('div');\n",
              "          docLink.innerHTML = docLinkHtml;\n",
              "          element.appendChild(docLink);\n",
              "        }\n",
              "      </script>\n",
              "    </div>\n",
              "  </div>\n",
              "  "
            ]
          },
          "metadata": {},
          "execution_count": 53
        }
      ]
    },
    {
      "cell_type": "code",
      "source": [
        "valid2 = valid[[\"Close\" , \"predictions\"]]\n",
        "valid2.head(20)"
      ],
      "metadata": {
        "colab": {
          "base_uri": "https://localhost:8080/",
          "height": 708
        },
        "id": "a8sAWVqJKEqY",
        "outputId": "8fd11f3b-5109-44a7-fb25-fbadf3d6f93c"
      },
      "execution_count": 54,
      "outputs": [
        {
          "output_type": "execute_result",
          "data": {
            "text/plain": [
              "                 Close  predictions\n",
              "Date                               \n",
              "2020-10-08  350.766144   346.332092\n",
              "2020-10-09  365.590485   350.951965\n",
              "2020-10-10  370.967590   362.719940\n",
              "2020-10-11  375.142059   371.731964\n",
              "2020-10-12  387.731262   377.839935\n",
              "2020-10-13  381.190765   387.544800\n",
              "2020-10-14  379.484039   387.459412\n",
              "2020-10-15  377.441833   385.135773\n",
              "2020-10-16  366.229004   382.218445\n",
              "2020-10-17  368.855927   373.814209\n",
              "2020-10-18  378.213684   371.305084\n",
              "2020-10-19  379.935608   376.470886\n",
              "2020-10-20  369.136902   380.609039\n",
              "2020-10-21  392.189972   376.064484\n",
              "2020-10-22  413.772980   387.681702\n",
              "2020-10-23  409.766693   407.081177\n",
              "2020-10-24  412.457611   413.315399\n",
              "2020-10-25  406.217773   416.299683\n",
              "2020-10-26  393.888306   412.846741\n",
              "2020-10-27  403.997040   402.805450"
            ],
            "text/html": [
              "\n",
              "  <div id=\"df-1bdd347c-c1f5-4295-ab26-aeb4c078083f\">\n",
              "    <div class=\"colab-df-container\">\n",
              "      <div>\n",
              "<style scoped>\n",
              "    .dataframe tbody tr th:only-of-type {\n",
              "        vertical-align: middle;\n",
              "    }\n",
              "\n",
              "    .dataframe tbody tr th {\n",
              "        vertical-align: top;\n",
              "    }\n",
              "\n",
              "    .dataframe thead th {\n",
              "        text-align: right;\n",
              "    }\n",
              "</style>\n",
              "<table border=\"1\" class=\"dataframe\">\n",
              "  <thead>\n",
              "    <tr style=\"text-align: right;\">\n",
              "      <th></th>\n",
              "      <th>Close</th>\n",
              "      <th>predictions</th>\n",
              "    </tr>\n",
              "    <tr>\n",
              "      <th>Date</th>\n",
              "      <th></th>\n",
              "      <th></th>\n",
              "    </tr>\n",
              "  </thead>\n",
              "  <tbody>\n",
              "    <tr>\n",
              "      <th>2020-10-08</th>\n",
              "      <td>350.766144</td>\n",
              "      <td>346.332092</td>\n",
              "    </tr>\n",
              "    <tr>\n",
              "      <th>2020-10-09</th>\n",
              "      <td>365.590485</td>\n",
              "      <td>350.951965</td>\n",
              "    </tr>\n",
              "    <tr>\n",
              "      <th>2020-10-10</th>\n",
              "      <td>370.967590</td>\n",
              "      <td>362.719940</td>\n",
              "    </tr>\n",
              "    <tr>\n",
              "      <th>2020-10-11</th>\n",
              "      <td>375.142059</td>\n",
              "      <td>371.731964</td>\n",
              "    </tr>\n",
              "    <tr>\n",
              "      <th>2020-10-12</th>\n",
              "      <td>387.731262</td>\n",
              "      <td>377.839935</td>\n",
              "    </tr>\n",
              "    <tr>\n",
              "      <th>2020-10-13</th>\n",
              "      <td>381.190765</td>\n",
              "      <td>387.544800</td>\n",
              "    </tr>\n",
              "    <tr>\n",
              "      <th>2020-10-14</th>\n",
              "      <td>379.484039</td>\n",
              "      <td>387.459412</td>\n",
              "    </tr>\n",
              "    <tr>\n",
              "      <th>2020-10-15</th>\n",
              "      <td>377.441833</td>\n",
              "      <td>385.135773</td>\n",
              "    </tr>\n",
              "    <tr>\n",
              "      <th>2020-10-16</th>\n",
              "      <td>366.229004</td>\n",
              "      <td>382.218445</td>\n",
              "    </tr>\n",
              "    <tr>\n",
              "      <th>2020-10-17</th>\n",
              "      <td>368.855927</td>\n",
              "      <td>373.814209</td>\n",
              "    </tr>\n",
              "    <tr>\n",
              "      <th>2020-10-18</th>\n",
              "      <td>378.213684</td>\n",
              "      <td>371.305084</td>\n",
              "    </tr>\n",
              "    <tr>\n",
              "      <th>2020-10-19</th>\n",
              "      <td>379.935608</td>\n",
              "      <td>376.470886</td>\n",
              "    </tr>\n",
              "    <tr>\n",
              "      <th>2020-10-20</th>\n",
              "      <td>369.136902</td>\n",
              "      <td>380.609039</td>\n",
              "    </tr>\n",
              "    <tr>\n",
              "      <th>2020-10-21</th>\n",
              "      <td>392.189972</td>\n",
              "      <td>376.064484</td>\n",
              "    </tr>\n",
              "    <tr>\n",
              "      <th>2020-10-22</th>\n",
              "      <td>413.772980</td>\n",
              "      <td>387.681702</td>\n",
              "    </tr>\n",
              "    <tr>\n",
              "      <th>2020-10-23</th>\n",
              "      <td>409.766693</td>\n",
              "      <td>407.081177</td>\n",
              "    </tr>\n",
              "    <tr>\n",
              "      <th>2020-10-24</th>\n",
              "      <td>412.457611</td>\n",
              "      <td>413.315399</td>\n",
              "    </tr>\n",
              "    <tr>\n",
              "      <th>2020-10-25</th>\n",
              "      <td>406.217773</td>\n",
              "      <td>416.299683</td>\n",
              "    </tr>\n",
              "    <tr>\n",
              "      <th>2020-10-26</th>\n",
              "      <td>393.888306</td>\n",
              "      <td>412.846741</td>\n",
              "    </tr>\n",
              "    <tr>\n",
              "      <th>2020-10-27</th>\n",
              "      <td>403.997040</td>\n",
              "      <td>402.805450</td>\n",
              "    </tr>\n",
              "  </tbody>\n",
              "</table>\n",
              "</div>\n",
              "      <button class=\"colab-df-convert\" onclick=\"convertToInteractive('df-1bdd347c-c1f5-4295-ab26-aeb4c078083f')\"\n",
              "              title=\"Convert this dataframe to an interactive table.\"\n",
              "              style=\"display:none;\">\n",
              "        \n",
              "  <svg xmlns=\"http://www.w3.org/2000/svg\" height=\"24px\"viewBox=\"0 0 24 24\"\n",
              "       width=\"24px\">\n",
              "    <path d=\"M0 0h24v24H0V0z\" fill=\"none\"/>\n",
              "    <path d=\"M18.56 5.44l.94 2.06.94-2.06 2.06-.94-2.06-.94-.94-2.06-.94 2.06-2.06.94zm-11 1L8.5 8.5l.94-2.06 2.06-.94-2.06-.94L8.5 2.5l-.94 2.06-2.06.94zm10 10l.94 2.06.94-2.06 2.06-.94-2.06-.94-.94-2.06-.94 2.06-2.06.94z\"/><path d=\"M17.41 7.96l-1.37-1.37c-.4-.4-.92-.59-1.43-.59-.52 0-1.04.2-1.43.59L10.3 9.45l-7.72 7.72c-.78.78-.78 2.05 0 2.83L4 21.41c.39.39.9.59 1.41.59.51 0 1.02-.2 1.41-.59l7.78-7.78 2.81-2.81c.8-.78.8-2.07 0-2.86zM5.41 20L4 18.59l7.72-7.72 1.47 1.35L5.41 20z\"/>\n",
              "  </svg>\n",
              "      </button>\n",
              "      \n",
              "  <style>\n",
              "    .colab-df-container {\n",
              "      display:flex;\n",
              "      flex-wrap:wrap;\n",
              "      gap: 12px;\n",
              "    }\n",
              "\n",
              "    .colab-df-convert {\n",
              "      background-color: #E8F0FE;\n",
              "      border: none;\n",
              "      border-radius: 50%;\n",
              "      cursor: pointer;\n",
              "      display: none;\n",
              "      fill: #1967D2;\n",
              "      height: 32px;\n",
              "      padding: 0 0 0 0;\n",
              "      width: 32px;\n",
              "    }\n",
              "\n",
              "    .colab-df-convert:hover {\n",
              "      background-color: #E2EBFA;\n",
              "      box-shadow: 0px 1px 2px rgba(60, 64, 67, 0.3), 0px 1px 3px 1px rgba(60, 64, 67, 0.15);\n",
              "      fill: #174EA6;\n",
              "    }\n",
              "\n",
              "    [theme=dark] .colab-df-convert {\n",
              "      background-color: #3B4455;\n",
              "      fill: #D2E3FC;\n",
              "    }\n",
              "\n",
              "    [theme=dark] .colab-df-convert:hover {\n",
              "      background-color: #434B5C;\n",
              "      box-shadow: 0px 1px 3px 1px rgba(0, 0, 0, 0.15);\n",
              "      filter: drop-shadow(0px 1px 2px rgba(0, 0, 0, 0.3));\n",
              "      fill: #FFFFFF;\n",
              "    }\n",
              "  </style>\n",
              "\n",
              "      <script>\n",
              "        const buttonEl =\n",
              "          document.querySelector('#df-1bdd347c-c1f5-4295-ab26-aeb4c078083f button.colab-df-convert');\n",
              "        buttonEl.style.display =\n",
              "          google.colab.kernel.accessAllowed ? 'block' : 'none';\n",
              "\n",
              "        async function convertToInteractive(key) {\n",
              "          const element = document.querySelector('#df-1bdd347c-c1f5-4295-ab26-aeb4c078083f');\n",
              "          const dataTable =\n",
              "            await google.colab.kernel.invokeFunction('convertToInteractive',\n",
              "                                                     [key], {});\n",
              "          if (!dataTable) return;\n",
              "\n",
              "          const docLinkHtml = 'Like what you see? Visit the ' +\n",
              "            '<a target=\"_blank\" href=https://colab.research.google.com/notebooks/data_table.ipynb>data table notebook</a>'\n",
              "            + ' to learn more about interactive tables.';\n",
              "          element.innerHTML = '';\n",
              "          dataTable['output_type'] = 'display_data';\n",
              "          await google.colab.output.renderOutput(dataTable, element);\n",
              "          const docLink = document.createElement('div');\n",
              "          docLink.innerHTML = docLinkHtml;\n",
              "          element.appendChild(docLink);\n",
              "        }\n",
              "      </script>\n",
              "    </div>\n",
              "  </div>\n",
              "  "
            ]
          },
          "metadata": {},
          "execution_count": 54
        }
      ]
    },
    {
      "cell_type": "code",
      "source": [
        "# Get the RMSE\n",
        "rmse = np.sqrt(np.mean(predictions - y_test)**2)\n",
        "rmse"
      ],
      "metadata": {
        "colab": {
          "base_uri": "https://localhost:8080/"
        },
        "id": "xbOvu5eGxCeF",
        "outputId": "a35208a4-428a-4a17-e124-9d01a03c9782"
      },
      "execution_count": 55,
      "outputs": [
        {
          "output_type": "execute_result",
          "data": {
            "text/plain": [
              "177.4553841222245"
            ]
          },
          "metadata": {},
          "execution_count": 55
        }
      ]
    }
  ]
}