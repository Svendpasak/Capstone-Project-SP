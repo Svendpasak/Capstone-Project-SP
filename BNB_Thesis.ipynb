{
  "nbformat": 4,
  "nbformat_minor": 0,
  "metadata": {
    "colab": {
      "name": "BNB-Thesis.ipynb",
      "provenance": [],
      "collapsed_sections": [],
      "authorship_tag": "ABX9TyPs0qmweHeIhj86S+2XyILo",
      "include_colab_link": true
    },
    "kernelspec": {
      "name": "python3",
      "display_name": "Python 3"
    },
    "language_info": {
      "name": "python"
    }
  },
  "cells": [
    {
      "cell_type": "markdown",
      "metadata": {
        "id": "view-in-github",
        "colab_type": "text"
      },
      "source": [
        "<a href=\"https://colab.research.google.com/github/Svendpasak/Capstone-Project-SP/blob/master/BNB_Thesis.ipynb\" target=\"_parent\"><img src=\"https://colab.research.google.com/assets/colab-badge.svg\" alt=\"Open In Colab\"/></a>"
      ]
    },
    {
      "cell_type": "code",
      "execution_count": 33,
      "metadata": {
        "id": "wtAu0CY3Yqev"
      },
      "outputs": [],
      "source": [
        "# Tahap Preprocessing\n",
        "import keras\n",
        "import math\n",
        "import pandas as pd\n",
        "import numpy as np\n",
        "import tensorflow as tf\n",
        "import random as set_random_seed\n",
        "from sklearn.preprocessing import MinMaxScaler\n",
        "from pandas.core.common import random_state\n",
        "from sklearn.model_selection import train_test_split\n",
        "from keras.models import sequential\n",
        "from keras.layers import Dense,LSTM, Dropout\n",
        "import matplotlib.pyplot as plt\n",
        "from tensorflow.keras import layers,Sequential\n",
        "from tensorflow.keras.models import Model\n",
        "from tensorflow.python.keras import Sequential\n",
        "plt.style.use(\"fivethirtyeight\")"
      ]
    },
    {
      "cell_type": "code",
      "source": [
        "from google.colab import files\n",
        "uploaded = files.upload()"
      ],
      "metadata": {
        "colab": {
          "resources": {
            "http://localhost:8080/nbextensions/google.colab/files.js": {
              "data": "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",
              "ok": true,
              "headers": [
                [
                  "content-type",
                  "application/javascript"
                ]
              ],
              "status": 200,
              "status_text": ""
            }
          },
          "base_uri": "https://localhost:8080/",
          "height": 74
        },
        "id": "UKJNLLaeYrer",
        "outputId": "305b2963-fcfd-4ec6-98a3-0556ae7c45db"
      },
      "execution_count": 34,
      "outputs": [
        {
          "output_type": "display_data",
          "data": {
            "text/plain": [
              "<IPython.core.display.HTML object>"
            ],
            "text/html": [
              "\n",
              "     <input type=\"file\" id=\"files-5af495fe-927a-4a26-baad-dec925660c23\" name=\"files[]\" multiple disabled\n",
              "        style=\"border:none\" />\n",
              "     <output id=\"result-5af495fe-927a-4a26-baad-dec925660c23\">\n",
              "      Upload widget is only available when the cell has been executed in the\n",
              "      current browser session. Please rerun this cell to enable.\n",
              "      </output>\n",
              "      <script src=\"/nbextensions/google.colab/files.js\"></script> "
            ]
          },
          "metadata": {}
        },
        {
          "output_type": "stream",
          "name": "stdout",
          "text": [
            "Saving BNB-USD.csv to BNB-USD.csv\n"
          ]
        }
      ]
    },
    {
      "cell_type": "code",
      "source": [
        "df = pd.read_csv(\"data set BNB-USD.csv\",  index_col=0)\n",
        "df.head(6)"
      ],
      "metadata": {
        "colab": {
          "base_uri": "https://localhost:8080/",
          "height": 269
        },
        "id": "Z5nGGBxUYrjX",
        "outputId": "e5b0054f-4be0-4983-8e00-54f9f3dbc12d"
      },
      "execution_count": 35,
      "outputs": [
        {
          "output_type": "execute_result",
          "data": {
            "text/plain": [
              "               Open     High      Low    Close  Adj Close    Volume\n",
              "Date                                                               \n",
              "2017-11-09  2.05314  2.17423  1.89394  1.99077    1.99077  19192200\n",
              "2017-11-10  2.00773  2.06947  1.64478  1.79684    1.79684  11155000\n",
              "2017-11-11  1.78628  1.91775  1.61429  1.67047    1.67047   8178150\n",
              "2017-11-12  1.66889  1.67280  1.46256  1.51969    1.51969  15298700\n",
              "2017-11-13  1.52601  1.73502  1.51760  1.68662    1.68662  12238800\n",
              "2017-11-14  1.68928  1.73537  1.56827  1.59258    1.59258   7829600"
            ],
            "text/html": [
              "\n",
              "  <div id=\"df-04db0b57-55b2-4711-bbab-e663e5833296\">\n",
              "    <div class=\"colab-df-container\">\n",
              "      <div>\n",
              "<style scoped>\n",
              "    .dataframe tbody tr th:only-of-type {\n",
              "        vertical-align: middle;\n",
              "    }\n",
              "\n",
              "    .dataframe tbody tr th {\n",
              "        vertical-align: top;\n",
              "    }\n",
              "\n",
              "    .dataframe thead th {\n",
              "        text-align: right;\n",
              "    }\n",
              "</style>\n",
              "<table border=\"1\" class=\"dataframe\">\n",
              "  <thead>\n",
              "    <tr style=\"text-align: right;\">\n",
              "      <th></th>\n",
              "      <th>Open</th>\n",
              "      <th>High</th>\n",
              "      <th>Low</th>\n",
              "      <th>Close</th>\n",
              "      <th>Adj Close</th>\n",
              "      <th>Volume</th>\n",
              "    </tr>\n",
              "    <tr>\n",
              "      <th>Date</th>\n",
              "      <th></th>\n",
              "      <th></th>\n",
              "      <th></th>\n",
              "      <th></th>\n",
              "      <th></th>\n",
              "      <th></th>\n",
              "    </tr>\n",
              "  </thead>\n",
              "  <tbody>\n",
              "    <tr>\n",
              "      <th>2017-11-09</th>\n",
              "      <td>2.05314</td>\n",
              "      <td>2.17423</td>\n",
              "      <td>1.89394</td>\n",
              "      <td>1.99077</td>\n",
              "      <td>1.99077</td>\n",
              "      <td>19192200</td>\n",
              "    </tr>\n",
              "    <tr>\n",
              "      <th>2017-11-10</th>\n",
              "      <td>2.00773</td>\n",
              "      <td>2.06947</td>\n",
              "      <td>1.64478</td>\n",
              "      <td>1.79684</td>\n",
              "      <td>1.79684</td>\n",
              "      <td>11155000</td>\n",
              "    </tr>\n",
              "    <tr>\n",
              "      <th>2017-11-11</th>\n",
              "      <td>1.78628</td>\n",
              "      <td>1.91775</td>\n",
              "      <td>1.61429</td>\n",
              "      <td>1.67047</td>\n",
              "      <td>1.67047</td>\n",
              "      <td>8178150</td>\n",
              "    </tr>\n",
              "    <tr>\n",
              "      <th>2017-11-12</th>\n",
              "      <td>1.66889</td>\n",
              "      <td>1.67280</td>\n",
              "      <td>1.46256</td>\n",
              "      <td>1.51969</td>\n",
              "      <td>1.51969</td>\n",
              "      <td>15298700</td>\n",
              "    </tr>\n",
              "    <tr>\n",
              "      <th>2017-11-13</th>\n",
              "      <td>1.52601</td>\n",
              "      <td>1.73502</td>\n",
              "      <td>1.51760</td>\n",
              "      <td>1.68662</td>\n",
              "      <td>1.68662</td>\n",
              "      <td>12238800</td>\n",
              "    </tr>\n",
              "    <tr>\n",
              "      <th>2017-11-14</th>\n",
              "      <td>1.68928</td>\n",
              "      <td>1.73537</td>\n",
              "      <td>1.56827</td>\n",
              "      <td>1.59258</td>\n",
              "      <td>1.59258</td>\n",
              "      <td>7829600</td>\n",
              "    </tr>\n",
              "  </tbody>\n",
              "</table>\n",
              "</div>\n",
              "      <button class=\"colab-df-convert\" onclick=\"convertToInteractive('df-04db0b57-55b2-4711-bbab-e663e5833296')\"\n",
              "              title=\"Convert this dataframe to an interactive table.\"\n",
              "              style=\"display:none;\">\n",
              "        \n",
              "  <svg xmlns=\"http://www.w3.org/2000/svg\" height=\"24px\"viewBox=\"0 0 24 24\"\n",
              "       width=\"24px\">\n",
              "    <path d=\"M0 0h24v24H0V0z\" fill=\"none\"/>\n",
              "    <path d=\"M18.56 5.44l.94 2.06.94-2.06 2.06-.94-2.06-.94-.94-2.06-.94 2.06-2.06.94zm-11 1L8.5 8.5l.94-2.06 2.06-.94-2.06-.94L8.5 2.5l-.94 2.06-2.06.94zm10 10l.94 2.06.94-2.06 2.06-.94-2.06-.94-.94-2.06-.94 2.06-2.06.94z\"/><path d=\"M17.41 7.96l-1.37-1.37c-.4-.4-.92-.59-1.43-.59-.52 0-1.04.2-1.43.59L10.3 9.45l-7.72 7.72c-.78.78-.78 2.05 0 2.83L4 21.41c.39.39.9.59 1.41.59.51 0 1.02-.2 1.41-.59l7.78-7.78 2.81-2.81c.8-.78.8-2.07 0-2.86zM5.41 20L4 18.59l7.72-7.72 1.47 1.35L5.41 20z\"/>\n",
              "  </svg>\n",
              "      </button>\n",
              "      \n",
              "  <style>\n",
              "    .colab-df-container {\n",
              "      display:flex;\n",
              "      flex-wrap:wrap;\n",
              "      gap: 12px;\n",
              "    }\n",
              "\n",
              "    .colab-df-convert {\n",
              "      background-color: #E8F0FE;\n",
              "      border: none;\n",
              "      border-radius: 50%;\n",
              "      cursor: pointer;\n",
              "      display: none;\n",
              "      fill: #1967D2;\n",
              "      height: 32px;\n",
              "      padding: 0 0 0 0;\n",
              "      width: 32px;\n",
              "    }\n",
              "\n",
              "    .colab-df-convert:hover {\n",
              "      background-color: #E2EBFA;\n",
              "      box-shadow: 0px 1px 2px rgba(60, 64, 67, 0.3), 0px 1px 3px 1px rgba(60, 64, 67, 0.15);\n",
              "      fill: #174EA6;\n",
              "    }\n",
              "\n",
              "    [theme=dark] .colab-df-convert {\n",
              "      background-color: #3B4455;\n",
              "      fill: #D2E3FC;\n",
              "    }\n",
              "\n",
              "    [theme=dark] .colab-df-convert:hover {\n",
              "      background-color: #434B5C;\n",
              "      box-shadow: 0px 1px 3px 1px rgba(0, 0, 0, 0.15);\n",
              "      filter: drop-shadow(0px 1px 2px rgba(0, 0, 0, 0.3));\n",
              "      fill: #FFFFFF;\n",
              "    }\n",
              "  </style>\n",
              "\n",
              "      <script>\n",
              "        const buttonEl =\n",
              "          document.querySelector('#df-04db0b57-55b2-4711-bbab-e663e5833296 button.colab-df-convert');\n",
              "        buttonEl.style.display =\n",
              "          google.colab.kernel.accessAllowed ? 'block' : 'none';\n",
              "\n",
              "        async function convertToInteractive(key) {\n",
              "          const element = document.querySelector('#df-04db0b57-55b2-4711-bbab-e663e5833296');\n",
              "          const dataTable =\n",
              "            await google.colab.kernel.invokeFunction('convertToInteractive',\n",
              "                                                     [key], {});\n",
              "          if (!dataTable) return;\n",
              "\n",
              "          const docLinkHtml = 'Like what you see? Visit the ' +\n",
              "            '<a target=\"_blank\" href=https://colab.research.google.com/notebooks/data_table.ipynb>data table notebook</a>'\n",
              "            + ' to learn more about interactive tables.';\n",
              "          element.innerHTML = '';\n",
              "          dataTable['output_type'] = 'display_data';\n",
              "          await google.colab.output.renderOutput(dataTable, element);\n",
              "          const docLink = document.createElement('div');\n",
              "          docLink.innerHTML = docLinkHtml;\n",
              "          element.appendChild(docLink);\n",
              "        }\n",
              "      </script>\n",
              "    </div>\n",
              "  </div>\n",
              "  "
            ]
          },
          "metadata": {},
          "execution_count": 35
        }
      ]
    },
    {
      "cell_type": "code",
      "source": [
        "df.shape"
      ],
      "metadata": {
        "colab": {
          "base_uri": "https://localhost:8080/"
        },
        "id": "EaLVsoEGYrmM",
        "outputId": "1a46aac8-9b0d-4744-8a8b-011bfa51a5f0"
      },
      "execution_count": 36,
      "outputs": [
        {
          "output_type": "execute_result",
          "data": {
            "text/plain": [
              "(1330, 6)"
            ]
          },
          "metadata": {},
          "execution_count": 36
        }
      ]
    },
    {
      "cell_type": "code",
      "source": [
        "df.info()"
      ],
      "metadata": {
        "colab": {
          "base_uri": "https://localhost:8080/"
        },
        "id": "vW_7Gdp6YrrP",
        "outputId": "e97407c3-1232-44f7-e7d9-a95d47a24487"
      },
      "execution_count": 37,
      "outputs": [
        {
          "output_type": "stream",
          "name": "stdout",
          "text": [
            "<class 'pandas.core.frame.DataFrame'>\n",
            "Index: 1330 entries, 2017-11-09 to 2021-06-30\n",
            "Data columns (total 6 columns):\n",
            " #   Column     Non-Null Count  Dtype  \n",
            "---  ------     --------------  -----  \n",
            " 0   Open       1330 non-null   float64\n",
            " 1   High       1330 non-null   float64\n",
            " 2   Low        1330 non-null   float64\n",
            " 3   Close      1330 non-null   float64\n",
            " 4   Adj Close  1330 non-null   float64\n",
            " 5   Volume     1330 non-null   int64  \n",
            "dtypes: float64(5), int64(1)\n",
            "memory usage: 72.7+ KB\n"
          ]
        }
      ]
    },
    {
      "cell_type": "code",
      "source": [
        "# Tahap Data Cleaning (Missing Value)\n",
        "BNB = df.fillna(0)\n",
        "BNB.tail()"
      ],
      "metadata": {
        "colab": {
          "base_uri": "https://localhost:8080/",
          "height": 238
        },
        "id": "dqJQPOQgYrtq",
        "outputId": "1b9fdeee-da15-4ed8-969b-d2a643a81406"
      },
      "execution_count": 38,
      "outputs": [
        {
          "output_type": "execute_result",
          "data": {
            "text/plain": [
              "                  Open        High         Low       Close   Adj Close  \\\n",
              "Date                                                                     \n",
              "2021-06-26  281.133942  289.949799  264.601013  279.438049  279.438049   \n",
              "2021-06-27  279.865295  291.148926  270.289917  290.567017  290.567017   \n",
              "2021-06-28  290.818695  298.720612  283.951843  289.534119  289.534119   \n",
              "2021-06-29  289.919128  315.439331  289.221161  300.211548  300.211548   \n",
              "2021-06-30  300.958801  304.801361  281.778015  303.295868  303.295868   \n",
              "\n",
              "                Volume  \n",
              "Date                    \n",
              "2021-06-26  1921847994  \n",
              "2021-06-27  1521388056  \n",
              "2021-06-28  1722578691  \n",
              "2021-06-29  1946428384  \n",
              "2021-06-30  1903538448  "
            ],
            "text/html": [
              "\n",
              "  <div id=\"df-9a984774-e142-4706-8665-dcabb0ddef36\">\n",
              "    <div class=\"colab-df-container\">\n",
              "      <div>\n",
              "<style scoped>\n",
              "    .dataframe tbody tr th:only-of-type {\n",
              "        vertical-align: middle;\n",
              "    }\n",
              "\n",
              "    .dataframe tbody tr th {\n",
              "        vertical-align: top;\n",
              "    }\n",
              "\n",
              "    .dataframe thead th {\n",
              "        text-align: right;\n",
              "    }\n",
              "</style>\n",
              "<table border=\"1\" class=\"dataframe\">\n",
              "  <thead>\n",
              "    <tr style=\"text-align: right;\">\n",
              "      <th></th>\n",
              "      <th>Open</th>\n",
              "      <th>High</th>\n",
              "      <th>Low</th>\n",
              "      <th>Close</th>\n",
              "      <th>Adj Close</th>\n",
              "      <th>Volume</th>\n",
              "    </tr>\n",
              "    <tr>\n",
              "      <th>Date</th>\n",
              "      <th></th>\n",
              "      <th></th>\n",
              "      <th></th>\n",
              "      <th></th>\n",
              "      <th></th>\n",
              "      <th></th>\n",
              "    </tr>\n",
              "  </thead>\n",
              "  <tbody>\n",
              "    <tr>\n",
              "      <th>2021-06-26</th>\n",
              "      <td>281.133942</td>\n",
              "      <td>289.949799</td>\n",
              "      <td>264.601013</td>\n",
              "      <td>279.438049</td>\n",
              "      <td>279.438049</td>\n",
              "      <td>1921847994</td>\n",
              "    </tr>\n",
              "    <tr>\n",
              "      <th>2021-06-27</th>\n",
              "      <td>279.865295</td>\n",
              "      <td>291.148926</td>\n",
              "      <td>270.289917</td>\n",
              "      <td>290.567017</td>\n",
              "      <td>290.567017</td>\n",
              "      <td>1521388056</td>\n",
              "    </tr>\n",
              "    <tr>\n",
              "      <th>2021-06-28</th>\n",
              "      <td>290.818695</td>\n",
              "      <td>298.720612</td>\n",
              "      <td>283.951843</td>\n",
              "      <td>289.534119</td>\n",
              "      <td>289.534119</td>\n",
              "      <td>1722578691</td>\n",
              "    </tr>\n",
              "    <tr>\n",
              "      <th>2021-06-29</th>\n",
              "      <td>289.919128</td>\n",
              "      <td>315.439331</td>\n",
              "      <td>289.221161</td>\n",
              "      <td>300.211548</td>\n",
              "      <td>300.211548</td>\n",
              "      <td>1946428384</td>\n",
              "    </tr>\n",
              "    <tr>\n",
              "      <th>2021-06-30</th>\n",
              "      <td>300.958801</td>\n",
              "      <td>304.801361</td>\n",
              "      <td>281.778015</td>\n",
              "      <td>303.295868</td>\n",
              "      <td>303.295868</td>\n",
              "      <td>1903538448</td>\n",
              "    </tr>\n",
              "  </tbody>\n",
              "</table>\n",
              "</div>\n",
              "      <button class=\"colab-df-convert\" onclick=\"convertToInteractive('df-9a984774-e142-4706-8665-dcabb0ddef36')\"\n",
              "              title=\"Convert this dataframe to an interactive table.\"\n",
              "              style=\"display:none;\">\n",
              "        \n",
              "  <svg xmlns=\"http://www.w3.org/2000/svg\" height=\"24px\"viewBox=\"0 0 24 24\"\n",
              "       width=\"24px\">\n",
              "    <path d=\"M0 0h24v24H0V0z\" fill=\"none\"/>\n",
              "    <path d=\"M18.56 5.44l.94 2.06.94-2.06 2.06-.94-2.06-.94-.94-2.06-.94 2.06-2.06.94zm-11 1L8.5 8.5l.94-2.06 2.06-.94-2.06-.94L8.5 2.5l-.94 2.06-2.06.94zm10 10l.94 2.06.94-2.06 2.06-.94-2.06-.94-.94-2.06-.94 2.06-2.06.94z\"/><path d=\"M17.41 7.96l-1.37-1.37c-.4-.4-.92-.59-1.43-.59-.52 0-1.04.2-1.43.59L10.3 9.45l-7.72 7.72c-.78.78-.78 2.05 0 2.83L4 21.41c.39.39.9.59 1.41.59.51 0 1.02-.2 1.41-.59l7.78-7.78 2.81-2.81c.8-.78.8-2.07 0-2.86zM5.41 20L4 18.59l7.72-7.72 1.47 1.35L5.41 20z\"/>\n",
              "  </svg>\n",
              "      </button>\n",
              "      \n",
              "  <style>\n",
              "    .colab-df-container {\n",
              "      display:flex;\n",
              "      flex-wrap:wrap;\n",
              "      gap: 12px;\n",
              "    }\n",
              "\n",
              "    .colab-df-convert {\n",
              "      background-color: #E8F0FE;\n",
              "      border: none;\n",
              "      border-radius: 50%;\n",
              "      cursor: pointer;\n",
              "      display: none;\n",
              "      fill: #1967D2;\n",
              "      height: 32px;\n",
              "      padding: 0 0 0 0;\n",
              "      width: 32px;\n",
              "    }\n",
              "\n",
              "    .colab-df-convert:hover {\n",
              "      background-color: #E2EBFA;\n",
              "      box-shadow: 0px 1px 2px rgba(60, 64, 67, 0.3), 0px 1px 3px 1px rgba(60, 64, 67, 0.15);\n",
              "      fill: #174EA6;\n",
              "    }\n",
              "\n",
              "    [theme=dark] .colab-df-convert {\n",
              "      background-color: #3B4455;\n",
              "      fill: #D2E3FC;\n",
              "    }\n",
              "\n",
              "    [theme=dark] .colab-df-convert:hover {\n",
              "      background-color: #434B5C;\n",
              "      box-shadow: 0px 1px 3px 1px rgba(0, 0, 0, 0.15);\n",
              "      filter: drop-shadow(0px 1px 2px rgba(0, 0, 0, 0.3));\n",
              "      fill: #FFFFFF;\n",
              "    }\n",
              "  </style>\n",
              "\n",
              "      <script>\n",
              "        const buttonEl =\n",
              "          document.querySelector('#df-9a984774-e142-4706-8665-dcabb0ddef36 button.colab-df-convert');\n",
              "        buttonEl.style.display =\n",
              "          google.colab.kernel.accessAllowed ? 'block' : 'none';\n",
              "\n",
              "        async function convertToInteractive(key) {\n",
              "          const element = document.querySelector('#df-9a984774-e142-4706-8665-dcabb0ddef36');\n",
              "          const dataTable =\n",
              "            await google.colab.kernel.invokeFunction('convertToInteractive',\n",
              "                                                     [key], {});\n",
              "          if (!dataTable) return;\n",
              "\n",
              "          const docLinkHtml = 'Like what you see? Visit the ' +\n",
              "            '<a target=\"_blank\" href=https://colab.research.google.com/notebooks/data_table.ipynb>data table notebook</a>'\n",
              "            + ' to learn more about interactive tables.';\n",
              "          element.innerHTML = '';\n",
              "          dataTable['output_type'] = 'display_data';\n",
              "          await google.colab.output.renderOutput(dataTable, element);\n",
              "          const docLink = document.createElement('div');\n",
              "          docLink.innerHTML = docLinkHtml;\n",
              "          element.appendChild(docLink);\n",
              "        }\n",
              "      </script>\n",
              "    </div>\n",
              "  </div>\n",
              "  "
            ]
          },
          "metadata": {},
          "execution_count": 38
        }
      ]
    },
    {
      "cell_type": "code",
      "source": [
        "# Pengecekan data Missing Value\n",
        "BNB.isna().sum()"
      ],
      "metadata": {
        "colab": {
          "base_uri": "https://localhost:8080/"
        },
        "id": "nZuC9oNxYrwQ",
        "outputId": "2065f758-1763-4174-cea7-2c9fbb48186b"
      },
      "execution_count": 39,
      "outputs": [
        {
          "output_type": "execute_result",
          "data": {
            "text/plain": [
              "Open         0\n",
              "High         0\n",
              "Low          0\n",
              "Close        0\n",
              "Adj Close    0\n",
              "Volume       0\n",
              "dtype: int64"
            ]
          },
          "metadata": {},
          "execution_count": 39
        }
      ]
    },
    {
      "cell_type": "code",
      "source": [
        "# Visualize the Closing Price\n",
        "BNB[\"Close\"].plot(figsize=(18,8))\n",
        "plt.title(\"Binance coin Closing Price\", fontsize = 18)\n",
        "plt.ylabel(\"Close Price\", fontsize = 18)"
      ],
      "metadata": {
        "colab": {
          "base_uri": "https://localhost:8080/",
          "height": 575
        },
        "id": "ApTfp53JYrys",
        "outputId": "bfb6d256-9689-4930-ab38-ef3a83d820d1"
      },
      "execution_count": 40,
      "outputs": [
        {
          "output_type": "execute_result",
          "data": {
            "text/plain": [
              "Text(0, 0.5, 'Close Price')"
            ]
          },
          "metadata": {},
          "execution_count": 40
        },
        {
          "output_type": "display_data",
          "data": {
            "text/plain": [
              "<Figure size 1296x576 with 1 Axes>"
            ],
            "image/png": "[encoded data removed]"
          },
          "metadata": {}
        }
      ]
    },
    {
      "cell_type": "code",
      "source": [
        "# Create a new dataframe with only the \"Close\" cloumn\n",
        "BNB = BNB.filter([\"Close\"])\n",
        "# Convert the dataframe to a numpy array\n",
        "BNB1 = BNB.values\n",
        "# Get the number of Rows to train the model on\n",
        "training_data_len = math.ceil(len(BNB1)*.80)\n",
        "training_data_len"
      ],
      "metadata": {
        "colab": {
          "base_uri": "https://localhost:8080/"
        },
        "id": "L5SS5nbHYr1M",
        "outputId": "bca6f8cb-84d7-4a99-ffbf-a8205360f3f8"
      },
      "execution_count": 41,
      "outputs": [
        {
          "output_type": "execute_result",
          "data": {
            "text/plain": [
              "1064"
            ]
          },
          "metadata": {},
          "execution_count": 41
        }
      ]
    },
    {
      "cell_type": "code",
      "source": [
        "# Scale the Data for Normalizing\n",
        "from sklearn.preprocessing import MinMaxScaler\n",
        "scaler = MinMaxScaler(feature_range = (0, 1))\n",
        "scaled_data = scaler.fit_transform(BNB1)\n",
        "scaled_data"
      ],
      "metadata": {
        "colab": {
          "base_uri": "https://localhost:8080/"
        },
        "id": "JwWCGV4iYr30",
        "outputId": "65c91d09-756d-4dfe-95d8-891e720ab92a"
      },
      "execution_count": 42,
      "outputs": [
        {
          "output_type": "execute_result",
          "data": {
            "text/plain": [
              "array([[7.12590812e-04],\n",
              "       [4.24934984e-04],\n",
              "       [2.37490716e-04],\n",
              "       ...,\n",
              "       [4.27224838e-01],\n",
              "       [4.43062638e-01],\n",
              "       [4.47637602e-01]])"
            ]
          },
          "metadata": {},
          "execution_count": 42
        }
      ]
    },
    {
      "cell_type": "code",
      "source": [
        "# Create the training data set\n",
        "# create the scaled training data set\n",
        "train_data = scaled_data[0: training_data_len, :]\n",
        "# Split the Data into x_train and y_train data set\n",
        "x_train = []\n",
        "y_train = []\n",
        "for i in range(30, len(train_data)):\n",
        "    x_train.append(train_data[i-30:i,0])\n",
        "    y_train.append(train_data[i,0])\n",
        "    if i <=  31:\n",
        "        print(x_train)\n",
        "        print(y_train)\n",
        "        print()  "
      ],
      "metadata": {
        "colab": {
          "base_uri": "https://localhost:8080/"
        },
        "id": "HqbpvF2BYr6V",
        "outputId": "a6df5fc8-1773-4759-f34f-0685d5dbd5c8"
      },
      "execution_count": 43,
      "outputs": [
        {
          "output_type": "stream",
          "name": "stdout",
          "text": [
            "[array([7.12590812e-04, 4.24934984e-04, 2.37490716e-04, 1.38391630e-05,\n",
            "       2.61445966e-04, 1.21956696e-04, 2.97994409e-05, 1.00211559e-04,\n",
            "       0.00000000e+00, 2.43216243e-04, 1.53387764e-04, 1.69229379e-04,\n",
            "       9.44860322e-05, 1.50391504e-04, 5.68696150e-05, 3.07561676e-04,\n",
            "       5.39193368e-04, 5.08429784e-04, 6.41704038e-04, 6.03331140e-04,\n",
            "       3.57726788e-04, 7.21787255e-04, 8.30453608e-04, 8.51115938e-04,\n",
            "       1.06336094e-03, 1.45558922e-03, 1.60928847e-03, 1.59800058e-03,\n",
            "       1.88317930e-03, 1.95841214e-03])]\n",
            "[0.0016317307603395436]\n",
            "\n",
            "[array([7.12590812e-04, 4.24934984e-04, 2.37490716e-04, 1.38391630e-05,\n",
            "       2.61445966e-04, 1.21956696e-04, 2.97994409e-05, 1.00211559e-04,\n",
            "       0.00000000e+00, 2.43216243e-04, 1.53387764e-04, 1.69229379e-04,\n",
            "       9.44860322e-05, 1.50391504e-04, 5.68696150e-05, 3.07561676e-04,\n",
            "       5.39193368e-04, 5.08429784e-04, 6.41704038e-04, 6.03331140e-04,\n",
            "       3.57726788e-04, 7.21787255e-04, 8.30453608e-04, 8.51115938e-04,\n",
            "       1.06336094e-03, 1.45558922e-03, 1.60928847e-03, 1.59800058e-03,\n",
            "       1.88317930e-03, 1.95841214e-03]), array([4.24934984e-04, 2.37490716e-04, 1.38391630e-05, 2.61445966e-04,\n",
            "       1.21956696e-04, 2.97994409e-05, 1.00211559e-04, 0.00000000e+00,\n",
            "       2.43216243e-04, 1.53387764e-04, 1.69229379e-04, 9.44860322e-05,\n",
            "       1.50391504e-04, 5.68696150e-05, 3.07561676e-04, 5.39193368e-04,\n",
            "       5.08429784e-04, 6.41704038e-04, 6.03331140e-04, 3.57726788e-04,\n",
            "       7.21787255e-04, 8.30453608e-04, 8.51115938e-04, 1.06336094e-03,\n",
            "       1.45558922e-03, 1.60928847e-03, 1.59800058e-03, 1.88317930e-03,\n",
            "       1.95841214e-03, 1.63173076e-03])]\n",
            "[0.0016317307603395436, 0.0014432630170061714]\n",
            "\n"
          ]
        }
      ]
    },
    {
      "cell_type": "code",
      "source": [
        "# Convert the x_train and y_train to numpy arrays\n",
        "x_train,y_train = np.array(x_train), np.array(y_train)"
      ],
      "metadata": {
        "id": "VZStYbCeYr85"
      },
      "execution_count": 44,
      "outputs": []
    },
    {
      "cell_type": "code",
      "source": [
        "# Reshape the Data\n",
        "x_train = np.reshape(x_train, (x_train.shape[0], x_train.shape[1],1))\n",
        "x_train.shape"
      ],
      "metadata": {
        "colab": {
          "base_uri": "https://localhost:8080/"
        },
        "id": "_IcoBUllYr_n",
        "outputId": "35419870-78af-4dea-bc3e-24cca7fa7245"
      },
      "execution_count": 45,
      "outputs": [
        {
          "output_type": "execute_result",
          "data": {
            "text/plain": [
              "(1034, 30, 1)"
            ]
          },
          "metadata": {},
          "execution_count": 45
        }
      ]
    },
    {
      "cell_type": "code",
      "source": [
        "# Build the Model\n",
        "model = keras.Sequential()\n",
        "model.add(layers.LSTM(50,return_sequences=True, input_shape= (x_train.shape[1],1)))\n",
        "model.add(Dropout(0.2))\n",
        "model.add(layers.LSTM(50,return_sequences=True))\n",
        "model.add(Dropout(0.2))\n",
        "model.add(layers.LSTM(50,return_sequences=True))\n",
        "model.add(Dropout(0.2))\n",
        "model.add(layers.LSTM(50,return_sequences=False))\n",
        "model.add(Dropout(0.2))\n",
        "model.add(layers.Dense(1))"
      ],
      "metadata": {
        "id": "pDzTp1brYsCE"
      },
      "execution_count": 46,
      "outputs": []
    },
    {
      "cell_type": "code",
      "source": [
        "# Compile the Model\n",
        "model.compile(optimizer=\"adam\", loss=\"mean_squared_error\")"
      ],
      "metadata": {
        "id": "Nc53KezrYsEv"
      },
      "execution_count": 48,
      "outputs": []
    },
    {
      "cell_type": "code",
      "source": [
        "# Fitting / Train the Model\n",
        "model.fit(x_train, y_train, batch_size = 32, epochs = 100)"
      ],
      "metadata": {
        "colab": {
          "base_uri": "https://localhost:8080/"
        },
        "id": "ez3FnTGHYsHX",
        "outputId": "b59bd8ca-5694-412e-be03-b604ff302028"
      },
      "execution_count": 49,
      "outputs": [
        {
          "output_type": "stream",
          "name": "stdout",
          "text": [
            "Epoch 1/100\n",
            "33/33 [==============================] - 9s 65ms/step - loss: 1.5311e-04\n",
            "Epoch 2/100\n",
            "33/33 [==============================] - 2s 65ms/step - loss: 4.1013e-05\n",
            "Epoch 3/100\n",
            "33/33 [==============================] - 2s 64ms/step - loss: 2.7222e-05\n",
            "Epoch 4/100\n",
            "33/33 [==============================] - 2s 65ms/step - loss: 2.7355e-05\n",
            "Epoch 5/100\n",
            "33/33 [==============================] - 2s 64ms/step - loss: 2.3603e-05\n",
            "Epoch 6/100\n",
            "33/33 [==============================] - 2s 64ms/step - loss: 2.1074e-05\n",
            "Epoch 7/100\n",
            "33/33 [==============================] - 2s 64ms/step - loss: 2.3111e-05\n",
            "Epoch 8/100\n",
            "33/33 [==============================] - 2s 63ms/step - loss: 1.8211e-05\n",
            "Epoch 9/100\n",
            "33/33 [==============================] - 2s 64ms/step - loss: 2.3331e-05\n",
            "Epoch 10/100\n",
            "33/33 [==============================] - 2s 63ms/step - loss: 1.7744e-05\n",
            "Epoch 11/100\n",
            "33/33 [==============================] - 2s 63ms/step - loss: 1.7884e-05\n",
            "Epoch 12/100\n",
            "33/33 [==============================] - 2s 63ms/step - loss: 1.4876e-05\n",
            "Epoch 13/100\n",
            "33/33 [==============================] - 2s 63ms/step - loss: 1.4768e-05\n",
            "Epoch 14/100\n",
            "33/33 [==============================] - 2s 63ms/step - loss: 1.3923e-05\n",
            "Epoch 15/100\n",
            "33/33 [==============================] - 2s 64ms/step - loss: 1.3070e-05\n",
            "Epoch 16/100\n",
            "33/33 [==============================] - 2s 64ms/step - loss: 1.4124e-05\n",
            "Epoch 17/100\n",
            "33/33 [==============================] - 2s 63ms/step - loss: 2.4380e-05\n",
            "Epoch 18/100\n",
            "33/33 [==============================] - 2s 64ms/step - loss: 1.3526e-05\n",
            "Epoch 19/100\n",
            "33/33 [==============================] - 2s 64ms/step - loss: 1.4223e-05\n",
            "Epoch 20/100\n",
            "33/33 [==============================] - 2s 64ms/step - loss: 1.2829e-05\n",
            "Epoch 21/100\n",
            "33/33 [==============================] - 2s 64ms/step - loss: 1.1173e-05\n",
            "Epoch 22/100\n",
            "33/33 [==============================] - 2s 65ms/step - loss: 1.4459e-05\n",
            "Epoch 23/100\n",
            "33/33 [==============================] - 2s 64ms/step - loss: 1.3142e-05\n",
            "Epoch 24/100\n",
            "33/33 [==============================] - 2s 64ms/step - loss: 1.4433e-05\n",
            "Epoch 25/100\n",
            "33/33 [==============================] - 2s 64ms/step - loss: 1.1569e-05\n",
            "Epoch 26/100\n",
            "33/33 [==============================] - 2s 66ms/step - loss: 1.1050e-05\n",
            "Epoch 27/100\n",
            "33/33 [==============================] - 2s 65ms/step - loss: 1.2411e-05\n",
            "Epoch 28/100\n",
            "33/33 [==============================] - 2s 65ms/step - loss: 1.3369e-05\n",
            "Epoch 29/100\n",
            "33/33 [==============================] - 2s 65ms/step - loss: 1.0953e-05\n",
            "Epoch 30/100\n",
            "33/33 [==============================] - 2s 63ms/step - loss: 1.2119e-05\n",
            "Epoch 31/100\n",
            "33/33 [==============================] - 2s 64ms/step - loss: 1.0292e-05\n",
            "Epoch 32/100\n",
            "33/33 [==============================] - 2s 64ms/step - loss: 9.7650e-06\n",
            "Epoch 33/100\n",
            "33/33 [==============================] - 2s 64ms/step - loss: 1.1694e-05\n",
            "Epoch 34/100\n",
            "33/33 [==============================] - 2s 63ms/step - loss: 1.0291e-05\n",
            "Epoch 35/100\n",
            "33/33 [==============================] - 2s 65ms/step - loss: 1.3446e-05\n",
            "Epoch 36/100\n",
            "33/33 [==============================] - 2s 64ms/step - loss: 1.0909e-05\n",
            "Epoch 37/100\n",
            "33/33 [==============================] - 2s 65ms/step - loss: 1.1096e-05\n",
            "Epoch 38/100\n",
            "33/33 [==============================] - 2s 65ms/step - loss: 1.1786e-05\n",
            "Epoch 39/100\n",
            "33/33 [==============================] - 2s 67ms/step - loss: 9.6286e-06\n",
            "Epoch 40/100\n",
            "33/33 [==============================] - 2s 66ms/step - loss: 9.0216e-06\n",
            "Epoch 41/100\n",
            "33/33 [==============================] - 2s 65ms/step - loss: 8.7384e-06\n",
            "Epoch 42/100\n",
            "33/33 [==============================] - 2s 66ms/step - loss: 8.5773e-06\n",
            "Epoch 43/100\n",
            "33/33 [==============================] - 2s 66ms/step - loss: 1.1001e-05\n",
            "Epoch 44/100\n",
            "33/33 [==============================] - 2s 66ms/step - loss: 1.0593e-05\n",
            "Epoch 45/100\n",
            "33/33 [==============================] - 2s 67ms/step - loss: 9.7590e-06\n",
            "Epoch 46/100\n",
            "33/33 [==============================] - 2s 65ms/step - loss: 9.2236e-06\n",
            "Epoch 47/100\n",
            "33/33 [==============================] - 2s 67ms/step - loss: 9.0903e-06\n",
            "Epoch 48/100\n",
            "33/33 [==============================] - 2s 65ms/step - loss: 8.6094e-06\n",
            "Epoch 49/100\n",
            "33/33 [==============================] - 2s 64ms/step - loss: 8.3254e-06\n",
            "Epoch 50/100\n",
            "33/33 [==============================] - 2s 65ms/step - loss: 8.7733e-06\n",
            "Epoch 51/100\n",
            "33/33 [==============================] - 2s 65ms/step - loss: 8.6862e-06\n",
            "Epoch 52/100\n",
            "33/33 [==============================] - 2s 64ms/step - loss: 8.7198e-06\n",
            "Epoch 53/100\n",
            "33/33 [==============================] - 2s 64ms/step - loss: 8.5282e-06\n",
            "Epoch 54/100\n",
            "33/33 [==============================] - 2s 64ms/step - loss: 7.5484e-06\n",
            "Epoch 55/100\n",
            "33/33 [==============================] - 2s 65ms/step - loss: 7.9234e-06\n",
            "Epoch 56/100\n",
            "33/33 [==============================] - 2s 64ms/step - loss: 7.8994e-06\n",
            "Epoch 57/100\n",
            "33/33 [==============================] - 2s 65ms/step - loss: 7.9834e-06\n",
            "Epoch 58/100\n",
            "33/33 [==============================] - 2s 65ms/step - loss: 8.9096e-06\n",
            "Epoch 59/100\n",
            "33/33 [==============================] - 2s 65ms/step - loss: 8.2427e-06\n",
            "Epoch 60/100\n",
            "33/33 [==============================] - 2s 65ms/step - loss: 8.8564e-06\n",
            "Epoch 61/100\n",
            "33/33 [==============================] - 2s 64ms/step - loss: 8.3476e-06\n",
            "Epoch 62/100\n",
            "33/33 [==============================] - 2s 64ms/step - loss: 9.6766e-06\n",
            "Epoch 63/100\n",
            "33/33 [==============================] - 2s 64ms/step - loss: 7.4686e-06\n",
            "Epoch 64/100\n",
            "33/33 [==============================] - 2s 65ms/step - loss: 7.7188e-06\n",
            "Epoch 65/100\n",
            "33/33 [==============================] - 2s 65ms/step - loss: 7.7257e-06\n",
            "Epoch 66/100\n",
            "33/33 [==============================] - 2s 65ms/step - loss: 7.7432e-06\n",
            "Epoch 67/100\n",
            "33/33 [==============================] - 2s 65ms/step - loss: 8.6776e-06\n",
            "Epoch 68/100\n",
            "33/33 [==============================] - 2s 65ms/step - loss: 6.9101e-06\n",
            "Epoch 69/100\n",
            "33/33 [==============================] - 2s 65ms/step - loss: 8.0788e-06\n",
            "Epoch 70/100\n",
            "33/33 [==============================] - 2s 65ms/step - loss: 6.9428e-06\n",
            "Epoch 71/100\n",
            "33/33 [==============================] - 2s 65ms/step - loss: 7.3941e-06\n",
            "Epoch 72/100\n",
            "33/33 [==============================] - 2s 65ms/step - loss: 7.2032e-06\n",
            "Epoch 73/100\n",
            "33/33 [==============================] - 2s 65ms/step - loss: 6.7615e-06\n",
            "Epoch 74/100\n",
            "33/33 [==============================] - 2s 64ms/step - loss: 7.1550e-06\n",
            "Epoch 75/100\n",
            "33/33 [==============================] - 2s 65ms/step - loss: 7.0601e-06\n",
            "Epoch 76/100\n",
            "33/33 [==============================] - 2s 65ms/step - loss: 6.9340e-06\n",
            "Epoch 77/100\n",
            "33/33 [==============================] - 2s 66ms/step - loss: 8.3316e-06\n",
            "Epoch 78/100\n",
            "33/33 [==============================] - 2s 65ms/step - loss: 7.3704e-06\n",
            "Epoch 79/100\n",
            "33/33 [==============================] - 2s 65ms/step - loss: 6.4788e-06\n",
            "Epoch 80/100\n",
            "33/33 [==============================] - 2s 65ms/step - loss: 6.3931e-06\n",
            "Epoch 81/100\n",
            "33/33 [==============================] - 2s 66ms/step - loss: 6.0430e-06\n",
            "Epoch 82/100\n",
            "33/33 [==============================] - 2s 65ms/step - loss: 7.0812e-06\n",
            "Epoch 83/100\n",
            "33/33 [==============================] - 2s 66ms/step - loss: 7.7493e-06\n",
            "Epoch 84/100\n",
            "33/33 [==============================] - 2s 66ms/step - loss: 6.2366e-06\n",
            "Epoch 85/100\n",
            "33/33 [==============================] - 2s 66ms/step - loss: 6.3945e-06\n",
            "Epoch 86/100\n",
            "33/33 [==============================] - 2s 64ms/step - loss: 6.3744e-06\n",
            "Epoch 87/100\n",
            "33/33 [==============================] - 2s 65ms/step - loss: 6.4146e-06\n",
            "Epoch 88/100\n",
            "33/33 [==============================] - 2s 65ms/step - loss: 7.1519e-06\n",
            "Epoch 89/100\n",
            "33/33 [==============================] - 2s 65ms/step - loss: 7.2856e-06\n",
            "Epoch 90/100\n",
            "33/33 [==============================] - 2s 64ms/step - loss: 6.5084e-06\n",
            "Epoch 91/100\n",
            "33/33 [==============================] - 2s 64ms/step - loss: 7.3892e-06\n",
            "Epoch 92/100\n",
            "33/33 [==============================] - 2s 64ms/step - loss: 7.5579e-06\n",
            "Epoch 93/100\n",
            "33/33 [==============================] - 2s 66ms/step - loss: 7.4029e-06\n",
            "Epoch 94/100\n",
            "33/33 [==============================] - 2s 66ms/step - loss: 6.2183e-06\n",
            "Epoch 95/100\n",
            "33/33 [==============================] - 2s 65ms/step - loss: 7.2164e-06\n",
            "Epoch 96/100\n",
            "33/33 [==============================] - 2s 65ms/step - loss: 6.2142e-06\n",
            "Epoch 97/100\n",
            "33/33 [==============================] - 2s 65ms/step - loss: 5.8825e-06\n",
            "Epoch 98/100\n",
            "33/33 [==============================] - 2s 66ms/step - loss: 5.6398e-06\n",
            "Epoch 99/100\n",
            "33/33 [==============================] - 2s 65ms/step - loss: 5.9816e-06\n",
            "Epoch 100/100\n",
            "33/33 [==============================] - 2s 64ms/step - loss: 6.7891e-06\n"
          ]
        },
        {
          "output_type": "execute_result",
          "data": {
            "text/plain": [
              "<keras.callbacks.History at 0x7f21d2527410>"
            ]
          },
          "metadata": {},
          "execution_count": 49
        }
      ]
    },
    {
      "cell_type": "code",
      "source": [
        "# Create the testing data set\n",
        "# Create a new array containing scale values from index .... to the end of data set\n",
        "test_data = scaled_data[training_data_len-30:,:]"
      ],
      "metadata": {
        "id": "nXVTvMdAYsKF"
      },
      "execution_count": 50,
      "outputs": []
    },
    {
      "cell_type": "code",
      "source": [
        "# Created the data set x_test and y_test\n",
        "x_test = []\n",
        "y_test = BNB1[training_data_len:,:]#---rest of the data\n",
        "for i in range(30, len(test_data)):\n",
        "    x_test.append(test_data[i-30:i,0])"
      ],
      "metadata": {
        "id": "T2f1S3r4YsMe"
      },
      "execution_count": 51,
      "outputs": []
    },
    {
      "cell_type": "code",
      "source": [
        "# Convert the Data to a numpy array\n",
        "x_test = np.array(x_test)"
      ],
      "metadata": {
        "id": "wmQJK2-xYsPD"
      },
      "execution_count": 52,
      "outputs": []
    },
    {
      "cell_type": "code",
      "source": [
        "# Reshape the Data\n",
        "x_test = np.reshape(x_test, (x_test.shape[0], x_test.shape[1],1))"
      ],
      "metadata": {
        "id": "cv5aIIFDYsR7"
      },
      "execution_count": 53,
      "outputs": []
    },
    {
      "cell_type": "code",
      "source": [
        "# Get the model predicted price values / Denormalize\n",
        "predictions = model.predict(x_test)\n",
        "predictions = scaler.inverse_transform(predictions)"
      ],
      "metadata": {
        "id": "0A2NMP5uYsUe"
      },
      "execution_count": 54,
      "outputs": []
    },
    {
      "cell_type": "code",
      "source": [
        "from sklearn.metrics import mean_absolute_percentage_error\n",
        "MAPE = mean_absolute_percentage_error(y_test, predictions)*100\n",
        "print(MAPE)"
      ],
      "metadata": {
        "colab": {
          "base_uri": "https://localhost:8080/"
        },
        "id": "wPjunpdnYsW9",
        "outputId": "84559f63-ad27-42b4-dd2d-94b4344ca2cb"
      },
      "execution_count": 60,
      "outputs": [
        {
          "output_type": "stream",
          "name": "stdout",
          "text": [
            "8.310787802791857\n"
          ]
        }
      ]
    },
    {
      "cell_type": "code",
      "source": [
        "# Plot the Data\n",
        "train = BNB[:training_data_len]\n",
        "valid = BNB[training_data_len:]\n",
        "valid[\"predictions\"] = predictions"
      ],
      "metadata": {
        "colab": {
          "base_uri": "https://localhost:8080/"
        },
        "id": "h97Zgl3KYsZS",
        "outputId": "6680b547-872a-40e1-8677-c5e35122470f"
      },
      "execution_count": 61,
      "outputs": [
        {
          "output_type": "stream",
          "name": "stderr",
          "text": [
            "/usr/local/lib/python3.7/dist-packages/ipykernel_launcher.py:4: SettingWithCopyWarning: \n",
            "A value is trying to be set on a copy of a slice from a DataFrame.\n",
            "Try using .loc[row_indexer,col_indexer] = value instead\n",
            "\n",
            "See the caveats in the documentation: https://pandas.pydata.org/pandas-docs/stable/user_guide/indexing.html#returning-a-view-versus-a-copy\n",
            "  after removing the cwd from sys.path.\n"
          ]
        }
      ]
    },
    {
      "cell_type": "code",
      "source": [
        "# Visualize the Data\n",
        "plt.figure(figsize=(16,8))\n",
        "plt.title(\"Prediction model of Binance Coin Closing Price\", fontsize=18)\n",
        "plt.xlabel(\"Date\",fontsize = 18)\n",
        "plt.ylabel(\"Close Price\", fontsize = 18)\n",
        "plt.plot(train[\"Close\"])\n",
        "plt.plot(valid[[\"Close\",\"predictions\"]])\n",
        "plt.legend([\"Train\",\"Valid\",\"predictions\"],loc=\"lower right\")\n",
        "plt.grid()\n",
        "plt.show()\n"
      ],
      "metadata": {
        "colab": {
          "base_uri": "https://localhost:8080/",
          "height": 557
        },
        "id": "r9dwQVecYsb1",
        "outputId": "377511fa-96ae-45d5-b1cd-59c70fb21a94"
      },
      "execution_count": 62,
      "outputs": [
        {
          "output_type": "display_data",
          "data": {
            "text/plain": [
              "<Figure size 1152x576 with 1 Axes>"
            ],
            "image/png": "[encoded data removed]"
          },
          "metadata": {}
        }
      ]
    },
    {
      "cell_type": "code",
      "source": [
        "#Show The Valid and Predicted Prices\n",
        "valid[[\"Close\" , \"predictions\"]]"
      ],
      "metadata": {
        "colab": {
          "base_uri": "https://localhost:8080/",
          "height": 423
        },
        "id": "-gqjx2WEYsed",
        "outputId": "b84458b8-91c3-4d09-eb17-5cbfee618ef9"
      },
      "execution_count": 27,
      "outputs": [
        {
          "output_type": "execute_result",
          "data": {
            "text/plain": [
              "           Close  predictions\n",
              "1131   30.029577    27.429430\n",
              "1132   29.547283    28.051912\n",
              "1133   30.490194    28.692848\n",
              "1134   30.184134    29.270323\n",
              "1135   30.938360    29.649109\n",
              "...          ...          ...\n",
              "1325  279.438049   281.930634\n",
              "1326  290.567017   283.299713\n",
              "1327  289.534119   284.824554\n",
              "1328  300.211548   286.343567\n",
              "1329  303.295868   289.095245\n",
              "\n",
              "[199 rows x 2 columns]"
            ],
            "text/html": [
              "\n",
              "  <div id=\"df-b92ea1af-422a-44a5-bd92-71a8e1e0c027\">\n",
              "    <div class=\"colab-df-container\">\n",
              "      <div>\n",
              "<style scoped>\n",
              "    .dataframe tbody tr th:only-of-type {\n",
              "        vertical-align: middle;\n",
              "    }\n",
              "\n",
              "    .dataframe tbody tr th {\n",
              "        vertical-align: top;\n",
              "    }\n",
              "\n",
              "    .dataframe thead th {\n",
              "        text-align: right;\n",
              "    }\n",
              "</style>\n",
              "<table border=\"1\" class=\"dataframe\">\n",
              "  <thead>\n",
              "    <tr style=\"text-align: right;\">\n",
              "      <th></th>\n",
              "      <th>Close</th>\n",
              "      <th>predictions</th>\n",
              "    </tr>\n",
              "  </thead>\n",
              "  <tbody>\n",
              "    <tr>\n",
              "      <th>1131</th>\n",
              "      <td>30.029577</td>\n",
              "      <td>27.429430</td>\n",
              "    </tr>\n",
              "    <tr>\n",
              "      <th>1132</th>\n",
              "      <td>29.547283</td>\n",
              "      <td>28.051912</td>\n",
              "    </tr>\n",
              "    <tr>\n",
              "      <th>1133</th>\n",
              "      <td>30.490194</td>\n",
              "      <td>28.692848</td>\n",
              "    </tr>\n",
              "    <tr>\n",
              "      <th>1134</th>\n",
              "      <td>30.184134</td>\n",
              "      <td>29.270323</td>\n",
              "    </tr>\n",
              "    <tr>\n",
              "      <th>1135</th>\n",
              "      <td>30.938360</td>\n",
              "      <td>29.649109</td>\n",
              "    </tr>\n",
              "    <tr>\n",
              "      <th>...</th>\n",
              "      <td>...</td>\n",
              "      <td>...</td>\n",
              "    </tr>\n",
              "    <tr>\n",
              "      <th>1325</th>\n",
              "      <td>279.438049</td>\n",
              "      <td>281.930634</td>\n",
              "    </tr>\n",
              "    <tr>\n",
              "      <th>1326</th>\n",
              "      <td>290.567017</td>\n",
              "      <td>283.299713</td>\n",
              "    </tr>\n",
              "    <tr>\n",
              "      <th>1327</th>\n",
              "      <td>289.534119</td>\n",
              "      <td>284.824554</td>\n",
              "    </tr>\n",
              "    <tr>\n",
              "      <th>1328</th>\n",
              "      <td>300.211548</td>\n",
              "      <td>286.343567</td>\n",
              "    </tr>\n",
              "    <tr>\n",
              "      <th>1329</th>\n",
              "      <td>303.295868</td>\n",
              "      <td>289.095245</td>\n",
              "    </tr>\n",
              "  </tbody>\n",
              "</table>\n",
              "<p>199 rows × 2 columns</p>\n",
              "</div>\n",
              "      <button class=\"colab-df-convert\" onclick=\"convertToInteractive('df-b92ea1af-422a-44a5-bd92-71a8e1e0c027')\"\n",
              "              title=\"Convert this dataframe to an interactive table.\"\n",
              "              style=\"display:none;\">\n",
              "        \n",
              "  <svg xmlns=\"http://www.w3.org/2000/svg\" height=\"24px\"viewBox=\"0 0 24 24\"\n",
              "       width=\"24px\">\n",
              "    <path d=\"M0 0h24v24H0V0z\" fill=\"none\"/>\n",
              "    <path d=\"M18.56 5.44l.94 2.06.94-2.06 2.06-.94-2.06-.94-.94-2.06-.94 2.06-2.06.94zm-11 1L8.5 8.5l.94-2.06 2.06-.94-2.06-.94L8.5 2.5l-.94 2.06-2.06.94zm10 10l.94 2.06.94-2.06 2.06-.94-2.06-.94-.94-2.06-.94 2.06-2.06.94z\"/><path d=\"M17.41 7.96l-1.37-1.37c-.4-.4-.92-.59-1.43-.59-.52 0-1.04.2-1.43.59L10.3 9.45l-7.72 7.72c-.78.78-.78 2.05 0 2.83L4 21.41c.39.39.9.59 1.41.59.51 0 1.02-.2 1.41-.59l7.78-7.78 2.81-2.81c.8-.78.8-2.07 0-2.86zM5.41 20L4 18.59l7.72-7.72 1.47 1.35L5.41 20z\"/>\n",
              "  </svg>\n",
              "      </button>\n",
              "      \n",
              "  <style>\n",
              "    .colab-df-container {\n",
              "      display:flex;\n",
              "      flex-wrap:wrap;\n",
              "      gap: 12px;\n",
              "    }\n",
              "\n",
              "    .colab-df-convert {\n",
              "      background-color: #E8F0FE;\n",
              "      border: none;\n",
              "      border-radius: 50%;\n",
              "      cursor: pointer;\n",
              "      display: none;\n",
              "      fill: #1967D2;\n",
              "      height: 32px;\n",
              "      padding: 0 0 0 0;\n",
              "      width: 32px;\n",
              "    }\n",
              "\n",
              "    .colab-df-convert:hover {\n",
              "      background-color: #E2EBFA;\n",
              "      box-shadow: 0px 1px 2px rgba(60, 64, 67, 0.3), 0px 1px 3px 1px rgba(60, 64, 67, 0.15);\n",
              "      fill: #174EA6;\n",
              "    }\n",
              "\n",
              "    [theme=dark] .colab-df-convert {\n",
              "      background-color: #3B4455;\n",
              "      fill: #D2E3FC;\n",
              "    }\n",
              "\n",
              "    [theme=dark] .colab-df-convert:hover {\n",
              "      background-color: #434B5C;\n",
              "      box-shadow: 0px 1px 3px 1px rgba(0, 0, 0, 0.15);\n",
              "      filter: drop-shadow(0px 1px 2px rgba(0, 0, 0, 0.3));\n",
              "      fill: #FFFFFF;\n",
              "    }\n",
              "  </style>\n",
              "\n",
              "      <script>\n",
              "        const buttonEl =\n",
              "          document.querySelector('#df-b92ea1af-422a-44a5-bd92-71a8e1e0c027 button.colab-df-convert');\n",
              "        buttonEl.style.display =\n",
              "          google.colab.kernel.accessAllowed ? 'block' : 'none';\n",
              "\n",
              "        async function convertToInteractive(key) {\n",
              "          const element = document.querySelector('#df-b92ea1af-422a-44a5-bd92-71a8e1e0c027');\n",
              "          const dataTable =\n",
              "            await google.colab.kernel.invokeFunction('convertToInteractive',\n",
              "                                                     [key], {});\n",
              "          if (!dataTable) return;\n",
              "\n",
              "          const docLinkHtml = 'Like what you see? Visit the ' +\n",
              "            '<a target=\"_blank\" href=https://colab.research.google.com/notebooks/data_table.ipynb>data table notebook</a>'\n",
              "            + ' to learn more about interactive tables.';\n",
              "          element.innerHTML = '';\n",
              "          dataTable['output_type'] = 'display_data';\n",
              "          await google.colab.output.renderOutput(dataTable, element);\n",
              "          const docLink = document.createElement('div');\n",
              "          docLink.innerHTML = docLinkHtml;\n",
              "          element.appendChild(docLink);\n",
              "        }\n",
              "      </script>\n",
              "    </div>\n",
              "  </div>\n",
              "  "
            ]
          },
          "metadata": {},
          "execution_count": 27
        }
      ]
    },
    {
      "cell_type": "code",
      "source": [
        "valid2 = valid[[\"Close\" , \"predictions\"]]\n",
        "valid2.head(20)"
      ],
      "metadata": {
        "colab": {
          "base_uri": "https://localhost:8080/",
          "height": 708
        },
        "id": "nqR-TLIKKXss",
        "outputId": "2fe28e0f-7c33-4ab3-cb94-829461b8827f"
      },
      "execution_count": 58,
      "outputs": [
        {
          "output_type": "execute_result",
          "data": {
            "text/plain": [
              "                Close  predictions\n",
              "Date                              \n",
              "2020-10-08  27.705311    27.741735\n",
              "2020-10-09  28.445030    27.555660\n",
              "2020-10-10  28.312487    27.589203\n",
              "2020-10-11  28.555580    27.765490\n",
              "2020-10-12  30.714682    28.000982\n",
              "2020-10-13  30.706745    28.663042\n",
              "2020-10-14  30.912119    29.484041\n",
              "2020-10-15  31.295864    30.157164\n",
              "2020-10-16  29.994900    30.608459\n",
              "2020-10-17  30.248236    30.543694\n",
              "2020-10-18  30.659523    30.203743\n",
              "2020-10-19  29.925068    29.957056\n",
              "2020-10-20  28.803444    29.742216\n",
              "2020-10-21  29.772354    29.329603\n",
              "2020-10-22  30.658192    29.074835\n",
              "2020-10-23  30.633961    29.258900\n",
              "2020-10-24  30.588821    29.686460\n",
              "2020-10-25  30.107540    30.076988\n",
              "2020-10-26  31.154560    30.191216\n",
              "2020-10-27  31.638721    30.308353"
            ],
            "text/html": [
              "\n",
              "  <div id=\"df-bc4686b5-d01b-4604-b724-2a9c6dec7d7c\">\n",
              "    <div class=\"colab-df-container\">\n",
              "      <div>\n",
              "<style scoped>\n",
              "    .dataframe tbody tr th:only-of-type {\n",
              "        vertical-align: middle;\n",
              "    }\n",
              "\n",
              "    .dataframe tbody tr th {\n",
              "        vertical-align: top;\n",
              "    }\n",
              "\n",
              "    .dataframe thead th {\n",
              "        text-align: right;\n",
              "    }\n",
              "</style>\n",
              "<table border=\"1\" class=\"dataframe\">\n",
              "  <thead>\n",
              "    <tr style=\"text-align: right;\">\n",
              "      <th></th>\n",
              "      <th>Close</th>\n",
              "      <th>predictions</th>\n",
              "    </tr>\n",
              "    <tr>\n",
              "      <th>Date</th>\n",
              "      <th></th>\n",
              "      <th></th>\n",
              "    </tr>\n",
              "  </thead>\n",
              "  <tbody>\n",
              "    <tr>\n",
              "      <th>2020-10-08</th>\n",
              "      <td>27.705311</td>\n",
              "      <td>27.741735</td>\n",
              "    </tr>\n",
              "    <tr>\n",
              "      <th>2020-10-09</th>\n",
              "      <td>28.445030</td>\n",
              "      <td>27.555660</td>\n",
              "    </tr>\n",
              "    <tr>\n",
              "      <th>2020-10-10</th>\n",
              "      <td>28.312487</td>\n",
              "      <td>27.589203</td>\n",
              "    </tr>\n",
              "    <tr>\n",
              "      <th>2020-10-11</th>\n",
              "      <td>28.555580</td>\n",
              "      <td>27.765490</td>\n",
              "    </tr>\n",
              "    <tr>\n",
              "      <th>2020-10-12</th>\n",
              "      <td>30.714682</td>\n",
              "      <td>28.000982</td>\n",
              "    </tr>\n",
              "    <tr>\n",
              "      <th>2020-10-13</th>\n",
              "      <td>30.706745</td>\n",
              "      <td>28.663042</td>\n",
              "    </tr>\n",
              "    <tr>\n",
              "      <th>2020-10-14</th>\n",
              "      <td>30.912119</td>\n",
              "      <td>29.484041</td>\n",
              "    </tr>\n",
              "    <tr>\n",
              "      <th>2020-10-15</th>\n",
              "      <td>31.295864</td>\n",
              "      <td>30.157164</td>\n",
              "    </tr>\n",
              "    <tr>\n",
              "      <th>2020-10-16</th>\n",
              "      <td>29.994900</td>\n",
              "      <td>30.608459</td>\n",
              "    </tr>\n",
              "    <tr>\n",
              "      <th>2020-10-17</th>\n",
              "      <td>30.248236</td>\n",
              "      <td>30.543694</td>\n",
              "    </tr>\n",
              "    <tr>\n",
              "      <th>2020-10-18</th>\n",
              "      <td>30.659523</td>\n",
              "      <td>30.203743</td>\n",
              "    </tr>\n",
              "    <tr>\n",
              "      <th>2020-10-19</th>\n",
              "      <td>29.925068</td>\n",
              "      <td>29.957056</td>\n",
              "    </tr>\n",
              "    <tr>\n",
              "      <th>2020-10-20</th>\n",
              "      <td>28.803444</td>\n",
              "      <td>29.742216</td>\n",
              "    </tr>\n",
              "    <tr>\n",
              "      <th>2020-10-21</th>\n",
              "      <td>29.772354</td>\n",
              "      <td>29.329603</td>\n",
              "    </tr>\n",
              "    <tr>\n",
              "      <th>2020-10-22</th>\n",
              "      <td>30.658192</td>\n",
              "      <td>29.074835</td>\n",
              "    </tr>\n",
              "    <tr>\n",
              "      <th>2020-10-23</th>\n",
              "      <td>30.633961</td>\n",
              "      <td>29.258900</td>\n",
              "    </tr>\n",
              "    <tr>\n",
              "      <th>2020-10-24</th>\n",
              "      <td>30.588821</td>\n",
              "      <td>29.686460</td>\n",
              "    </tr>\n",
              "    <tr>\n",
              "      <th>2020-10-25</th>\n",
              "      <td>30.107540</td>\n",
              "      <td>30.076988</td>\n",
              "    </tr>\n",
              "    <tr>\n",
              "      <th>2020-10-26</th>\n",
              "      <td>31.154560</td>\n",
              "      <td>30.191216</td>\n",
              "    </tr>\n",
              "    <tr>\n",
              "      <th>2020-10-27</th>\n",
              "      <td>31.638721</td>\n",
              "      <td>30.308353</td>\n",
              "    </tr>\n",
              "  </tbody>\n",
              "</table>\n",
              "</div>\n",
              "      <button class=\"colab-df-convert\" onclick=\"convertToInteractive('df-bc4686b5-d01b-4604-b724-2a9c6dec7d7c')\"\n",
              "              title=\"Convert this dataframe to an interactive table.\"\n",
              "              style=\"display:none;\">\n",
              "        \n",
              "  <svg xmlns=\"http://www.w3.org/2000/svg\" height=\"24px\"viewBox=\"0 0 24 24\"\n",
              "       width=\"24px\">\n",
              "    <path d=\"M0 0h24v24H0V0z\" fill=\"none\"/>\n",
              "    <path d=\"M18.56 5.44l.94 2.06.94-2.06 2.06-.94-2.06-.94-.94-2.06-.94 2.06-2.06.94zm-11 1L8.5 8.5l.94-2.06 2.06-.94-2.06-.94L8.5 2.5l-.94 2.06-2.06.94zm10 10l.94 2.06.94-2.06 2.06-.94-2.06-.94-.94-2.06-.94 2.06-2.06.94z\"/><path d=\"M17.41 7.96l-1.37-1.37c-.4-.4-.92-.59-1.43-.59-.52 0-1.04.2-1.43.59L10.3 9.45l-7.72 7.72c-.78.78-.78 2.05 0 2.83L4 21.41c.39.39.9.59 1.41.59.51 0 1.02-.2 1.41-.59l7.78-7.78 2.81-2.81c.8-.78.8-2.07 0-2.86zM5.41 20L4 18.59l7.72-7.72 1.47 1.35L5.41 20z\"/>\n",
              "  </svg>\n",
              "      </button>\n",
              "      \n",
              "  <style>\n",
              "    .colab-df-container {\n",
              "      display:flex;\n",
              "      flex-wrap:wrap;\n",
              "      gap: 12px;\n",
              "    }\n",
              "\n",
              "    .colab-df-convert {\n",
              "      background-color: #E8F0FE;\n",
              "      border: none;\n",
              "      border-radius: 50%;\n",
              "      cursor: pointer;\n",
              "      display: none;\n",
              "      fill: #1967D2;\n",
              "      height: 32px;\n",
              "      padding: 0 0 0 0;\n",
              "      width: 32px;\n",
              "    }\n",
              "\n",
              "    .colab-df-convert:hover {\n",
              "      background-color: #E2EBFA;\n",
              "      box-shadow: 0px 1px 2px rgba(60, 64, 67, 0.3), 0px 1px 3px 1px rgba(60, 64, 67, 0.15);\n",
              "      fill: #174EA6;\n",
              "    }\n",
              "\n",
              "    [theme=dark] .colab-df-convert {\n",
              "      background-color: #3B4455;\n",
              "      fill: #D2E3FC;\n",
              "    }\n",
              "\n",
              "    [theme=dark] .colab-df-convert:hover {\n",
              "      background-color: #434B5C;\n",
              "      box-shadow: 0px 1px 3px 1px rgba(0, 0, 0, 0.15);\n",
              "      filter: drop-shadow(0px 1px 2px rgba(0, 0, 0, 0.3));\n",
              "      fill: #FFFFFF;\n",
              "    }\n",
              "  </style>\n",
              "\n",
              "      <script>\n",
              "        const buttonEl =\n",
              "          document.querySelector('#df-bc4686b5-d01b-4604-b724-2a9c6dec7d7c button.colab-df-convert');\n",
              "        buttonEl.style.display =\n",
              "          google.colab.kernel.accessAllowed ? 'block' : 'none';\n",
              "\n",
              "        async function convertToInteractive(key) {\n",
              "          const element = document.querySelector('#df-bc4686b5-d01b-4604-b724-2a9c6dec7d7c');\n",
              "          const dataTable =\n",
              "            await google.colab.kernel.invokeFunction('convertToInteractive',\n",
              "                                                     [key], {});\n",
              "          if (!dataTable) return;\n",
              "\n",
              "          const docLinkHtml = 'Like what you see? Visit the ' +\n",
              "            '<a target=\"_blank\" href=https://colab.research.google.com/notebooks/data_table.ipynb>data table notebook</a>'\n",
              "            + ' to learn more about interactive tables.';\n",
              "          element.innerHTML = '';\n",
              "          dataTable['output_type'] = 'display_data';\n",
              "          await google.colab.output.renderOutput(dataTable, element);\n",
              "          const docLink = document.createElement('div');\n",
              "          docLink.innerHTML = docLinkHtml;\n",
              "          element.appendChild(docLink);\n",
              "        }\n",
              "      </script>\n",
              "    </div>\n",
              "  </div>\n",
              "  "
            ]
          },
          "metadata": {},
          "execution_count": 58
        }
      ]
    },
    {
      "cell_type": "code",
      "source": [
        "# Get the RMSE\n",
        "rmse = np.sqrt(np.mean(predictions - y_test)**2)\n",
        "rmse"
      ],
      "metadata": {
        "id": "LLwhBX8lYtws",
        "colab": {
          "base_uri": "https://localhost:8080/"
        },
        "outputId": "506ea9dc-5c84-4627-e7c3-37e02658cdec"
      },
      "execution_count": 59,
      "outputs": [
        {
          "output_type": "execute_result",
          "data": {
            "text/plain": [
              "18.87012839408106"
            ]
          },
          "metadata": {},
          "execution_count": 59
        }
      ]
    }
  ]
}